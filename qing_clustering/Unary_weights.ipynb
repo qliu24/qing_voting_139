{
 "cells": [
  {
   "cell_type": "code",
   "execution_count": 79,
   "metadata": {
    "collapsed": false,
    "deletable": true,
    "editable": true
   },
   "outputs": [
    {
     "name": "stdout",
     "output_type": "stream",
     "text": [
      "/mnt/4T-HD/qing/intermediate/feat/car_mergelist_rand_train_bg.pickle\n"
     ]
    }
   ],
   "source": [
    "import h5py\n",
    "import numpy as np\n",
    "import pickle\n",
    "import glob\n",
    "from scipy.stats import spearmanr\n",
    "import math\n",
    "import matplotlib.pyplot as plt\n",
    "%matplotlib inline\n",
    "plt.rcParams['figure.figsize'] = (10.0, 8.0) # set default size of plots\n",
    "plt.rcParams['image.interpolation'] = 'nearest'\n",
    "plt.rcParams['image.cmap'] = 'gray'\n",
    "\n",
    "magic_thrh = 0.048\n",
    "\n",
    "if_bg = True\n",
    "category = 'car'\n",
    "file_path = '/mnt/4T-HD/qing/intermediate/feat/'\n",
    "# objects = ['car', 'aeroplane', 'bicycle', 'bus', 'motorbike', 'train']\n",
    "filename = file_path + '{0}_mergelist_rand_train.pickle'.format(category)\n",
    "if if_bg:\n",
    "    filename = file_path + '{0}_mergelist_rand_train_bg.pickle'.format(category)\n",
    "        \n",
    "print(filename)\n",
    "with open(filename, 'rb') as fh:\n",
    "    _, _, r_super_set = pickle.load(fh)\n",
    "\n",
    "N = len(r_super_set)\n",
    "layer_feature_b = [None for nn in range(N)]\n",
    "stride=1\n",
    "for nn in range(N):\n",
    "    # layer_feature_b[nn] = (layer_feature_dist[nn]<magic_thh).astype(int)\n",
    "    ihh, iww, idd = r_super_set[nn].shape\n",
    "    \n",
    "    tmp = np.zeros((math.ceil(ihh/stride), math.ceil(iww/stride), idd)).astype('int')\n",
    "    for hh in range(0,ihh,stride):\n",
    "        for ww in range(0,iww,stride):\n",
    "            d_min = np.unravel_index(np.argmin(r_super_set[nn][hh:hh+stride,ww:ww+stride,:]), \\\n",
    "                                 r_super_set[nn][hh:hh+stride,ww:ww+stride,:].shape)\n",
    "            if np.min(r_super_set[nn][hh:hh+stride,ww:ww+stride,:]) < magic_thrh:\n",
    "                tmp[int(hh/stride),int(ww/stride),d_min[2]] = 1\n",
    "            \n",
    "    layer_feature_b[nn] = tmp.T\n",
    "    "
   ]
  },
  {
   "cell_type": "code",
   "execution_count": 80,
   "metadata": {
    "collapsed": false,
    "deletable": true,
    "editable": true
   },
   "outputs": [
    {
     "data": {
      "text/plain": [
       "'\\nN=len(layer_feature_dist_all)\\nmagic_thh = 0.7\\n\\nlayer_feature_b = [None for nn in range(N)]\\nfor nn in range(N):\\n    layer_feature_b[nn] = (layer_feature_dist_all[nn]<magic_thh).astype(int)\\n'"
      ]
     },
     "execution_count": 80,
     "metadata": {},
     "output_type": "execute_result"
    }
   ],
   "source": [
    "'''\n",
    "N=len(layer_feature_dist_all)\n",
    "magic_thh = 0.7\n",
    "\n",
    "layer_feature_b = [None for nn in range(N)]\n",
    "for nn in range(N):\n",
    "    layer_feature_b[nn] = (layer_feature_dist_all[nn]<magic_thh).astype(int)\n",
    "'''    "
   ]
  },
  {
   "cell_type": "code",
   "execution_count": 81,
   "metadata": {
    "collapsed": false,
    "deletable": true,
    "editable": true
   },
   "outputs": [
    {
     "name": "stdout",
     "output_type": "stream",
     "text": [
      "80 48 9\n"
     ]
    }
   ],
   "source": [
    "# VC num\n",
    "max_0 = max([layer_feature_b[nn].shape[0] for nn in range(N)])\n",
    "\n",
    "# width\n",
    "max_1 = max([layer_feature_b[nn].shape[1] for nn in range(N)])\n",
    "\n",
    "# height\n",
    "max_2 = max([layer_feature_b[nn].shape[2] for nn in range(N)])\n",
    "print(max_0, max_1, max_2)"
   ]
  },
  {
   "cell_type": "code",
   "execution_count": 82,
   "metadata": {
    "collapsed": false,
    "deletable": true,
    "editable": true
   },
   "outputs": [],
   "source": [
    "all_bg_b = np.zeros((max_0, max_1, max_2))\n",
    "for nn in range(N):\n",
    "    vnum, ww, hh = layer_feature_b[nn].shape\n",
    "    assert(vnum == max_0)\n",
    "    diff_w1 = int((max_1-ww)/2)\n",
    "    diff_w2 = int(max_1-ww-diff_w1)\n",
    "    assert(max_1 == diff_w1+diff_w2+ww)\n",
    "    \n",
    "    diff_h1 = int((max_2-hh)/2)\n",
    "    diff_h2 = int(max_2-hh-diff_h1)\n",
    "    assert(max_2 == diff_h1+diff_h2+hh)\n",
    "    \n",
    "    padded = np.pad(layer_feature_b[nn], ((0,0),(diff_w1, diff_w2),(diff_h1, diff_h2)), 'constant', constant_values=0)\n",
    "    all_bg_b += np.pad(layer_feature_b[nn], ((0,0),(diff_w1, diff_w2),(diff_h1, diff_h2)), 'constant', constant_values=0)\n",
    "    \n",
    "probs = all_bg_b/N + 1e-3"
   ]
  },
  {
   "cell_type": "code",
   "execution_count": 83,
   "metadata": {
    "collapsed": false
   },
   "outputs": [
    {
     "data": {
      "text/plain": [
       "array([17,  8, 34, 73, 58, 75, 71, 39, 60, 42, 51, 33, 48, 44, 35, 26, 65,\n",
       "        4, 76, 10, 59, 46, 41, 49, 57, 47,  5, 45,  9, 40, 38, 27, 67,  7,\n",
       "       28, 29, 52, 79, 37, 11, 78,  1, 53,  2, 23, 63, 19,  0, 68, 21, 20,\n",
       "       13, 77,  6, 36, 55, 50, 69, 25, 18, 15, 24, 74, 31, 66, 72, 61, 56,\n",
       "       64, 70, 30, 43, 32, 16, 14, 54, 62,  3, 12, 22])"
      ]
     },
     "execution_count": 83,
     "metadata": {},
     "output_type": "execute_result"
    }
   ],
   "source": [
    "np.argsort(np.max(np.max(probs, axis=1),axis=1))"
   ]
  },
  {
   "cell_type": "code",
   "execution_count": 86,
   "metadata": {
    "collapsed": false
   },
   "outputs": [
    {
     "name": "stdout",
     "output_type": "stream",
     "text": [
      "0.121256547301\n",
      "0.0394412672962\n",
      "0.001\n"
     ]
    },
    {
     "data": {
      "image/png": "[encoded data removed]",
      "text/plain": [
       "<matplotlib.figure.Figure at 0x7f5dc0eb1a20>"
      ]
     },
     "metadata": {},
     "output_type": "display_data"
    }
   ],
   "source": [
    "# mean_acr_vc = np.mean(probs, axis=0)\n",
    "# print(np.max(mean_acr_vc))\n",
    "# print(np.mean(mean_acr_vc))\n",
    "# print(np.min(mean_acr_vc))\n",
    "vcid=3\n",
    "print(np.max(probs[vcid]))\n",
    "print(np.mean(probs[vcid]))\n",
    "print(np.min(probs[vcid]))\n",
    "\n",
    "fig, ax = plt.subplots()\n",
    "# ax.imshow(mean_acr_vc.T)\n",
    "ax.imshow(probs[vcid].T)\n",
    "plt.show()"
   ]
  },
  {
   "cell_type": "code",
   "execution_count": 44,
   "metadata": {
    "collapsed": false,
    "deletable": true,
    "editable": true
   },
   "outputs": [
    {
     "name": "stdout",
     "output_type": "stream",
     "text": [
      "(80, 25, 14)\n"
     ]
    },
    {
     "data": {
      "text/plain": [
       "\"\\nimport scipy.io as sio\\nsio.savemat('/media/zzs/4TB/qingliu/qing_intermediate/unary_weights/all_train_bg2.mat', mdict={'weight': weights})\\n\""
      ]
     },
     "execution_count": 44,
     "metadata": {},
     "output_type": "execute_result"
    }
   ],
   "source": [
    "weights = np.log(probs/(1.-probs))\n",
    "print(weights.shape)\n",
    "save_path = '/mnt/4T-HD/qing/intermediate/unary_weights/'\n",
    "savefile = save_path+'{0}_train.pickle'.format(category)\n",
    "if if_bg:\n",
    "    savefile = save_path+'{0}_train_bg.pickle'.format(category)\n",
    "    \n",
    "with open(savefile, 'wb') as fh:\n",
    "    pickle.dump(weights, fh)\n",
    "\n",
    "'''\n",
    "import scipy.io as sio\n",
    "sio.savemat('/media/zzs/4TB/qingliu/qing_intermediate/unary_weights/all_train_bg2.mat', mdict={'weight': weights})\n",
    "'''"
   ]
  },
  {
   "cell_type": "code",
   "execution_count": null,
   "metadata": {
    "collapsed": true,
    "deletable": true,
    "editable": true
   },
   "outputs": [],
   "source": [
    "\n"
   ]
  },
  {
   "cell_type": "code",
   "execution_count": 24,
   "metadata": {
    "collapsed": false,
    "deletable": true,
    "editable": true
   },
   "outputs": [
    {
     "name": "stdout",
     "output_type": "stream",
     "text": [
      "/home/candy/qing_voting_139/qing_clustering\r\n"
     ]
    }
   ],
   "source": [
    "!pwd"
   ]
  },
  {
   "cell_type": "code",
   "execution_count": null,
   "metadata": {
    "collapsed": true,
    "deletable": true,
    "editable": true
   },
   "outputs": [],
   "source": []
  }
 ],
 "metadata": {
  "kernelspec": {
   "display_name": "Python 3",
   "language": "python",
   "name": "python3"
  },
  "language_info": {
   "codemirror_mode": {
    "name": "ipython",
    "version": 3
   },
   "file_extension": ".py",
   "mimetype": "text/x-python",
   "name": "python",
   "nbconvert_exporter": "python",
   "pygments_lexer": "ipython3",
   "version": "3.5.2"
  }
 },
 "nbformat": 4,
 "nbformat_minor": 2
}
