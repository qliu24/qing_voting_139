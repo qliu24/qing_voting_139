{
 "cells": [
  {
   "cell_type": "code",
   "execution_count": 31,
   "metadata": {},
   "outputs": [
    {
     "name": "stdout",
     "output_type": "stream",
     "text": [
      "/export/home/qliu24/qing_voting_data/intermediate/feat/car_mergelist_rand_train.pickle\n"
     ]
    }
   ],
   "source": [
    "import numpy as np\n",
    "import pickle\n",
    "import glob\n",
    "from scipy.stats import spearmanr\n",
    "import math\n",
    "import matplotlib.pyplot as plt\n",
    "%matplotlib inline\n",
    "plt.rcParams['figure.figsize'] = (10.0, 8.0) # set default size of plots\n",
    "plt.rcParams['image.interpolation'] = 'nearest'\n",
    "plt.rcParams['image.cmap'] = 'gray'\n",
    "\n",
    "magic_thrh = 0.85\n",
    "\n",
    "if_bg = False\n",
    "category = 'car'\n",
    "file_path = '/export/home/qliu24/qing_voting_data/intermediate/feat/'\n",
    "# objects = ['car', 'aeroplane', 'bicycle', 'bus', 'motorbike', 'train']\n",
    "filename = file_path + '{0}_mergelist_rand_train.pickle'.format(category)\n",
    "if if_bg:\n",
    "    filename = file_path + '{0}_mergelist_rand_train_bg.pickle'.format(category)\n",
    "        \n",
    "print(filename)\n",
    "with open(filename, 'rb') as fh:\n",
    "    _, r_set, _ = pickle.load(fh)\n",
    "\n",
    "N = len(r_set)\n",
    "layer_feature_b = [None for nn in range(N)]\n",
    "stride=1\n",
    "for nn in range(N):\n",
    "    layer_feature_b[nn] = (r_set[nn]<magic_thrh).astype(int).T\n",
    "    '''\n",
    "    ihh, iww, idd = r_super_set[nn].shape\n",
    "    \n",
    "    tmp = np.zeros((math.ceil(ihh/stride), math.ceil(iww/stride), idd)).astype('int')\n",
    "    for hh in range(0,ihh,stride):\n",
    "        for ww in range(0,iww,stride):\n",
    "            d_min = np.unravel_index(np.argmin(r_super_set[nn][hh:hh+stride,ww:ww+stride,:]), \\\n",
    "                                 r_super_set[nn][hh:hh+stride,ww:ww+stride,:].shape)\n",
    "            if np.min(r_super_set[nn][hh:hh+stride,ww:ww+stride,:]) < magic_thrh:\n",
    "                tmp[int(hh/stride),int(ww/stride),d_min[2]] = 1\n",
    "            \n",
    "    layer_feature_b[nn] = tmp.T\n",
    "    '''"
   ]
  },
  {
   "cell_type": "code",
   "execution_count": 32,
   "metadata": {},
   "outputs": [
    {
     "data": {
      "text/plain": [
       "'\\nN=len(layer_feature_dist_all)\\nmagic_thh = 0.7\\n\\nlayer_feature_b = [None for nn in range(N)]\\nfor nn in range(N):\\n    layer_feature_b[nn] = (layer_feature_dist_all[nn]<magic_thh).astype(int)\\n'"
      ]
     },
     "execution_count": 32,
     "metadata": {},
     "output_type": "execute_result"
    }
   ],
   "source": [
    "'''\n",
    "N=len(layer_feature_dist_all)\n",
    "magic_thh = 0.7\n",
    "\n",
    "layer_feature_b = [None for nn in range(N)]\n",
    "for nn in range(N):\n",
    "    layer_feature_b[nn] = (layer_feature_dist_all[nn]<magic_thh).astype(int)\n",
    "'''    "
   ]
  },
  {
   "cell_type": "code",
   "execution_count": 33,
   "metadata": {},
   "outputs": [
    {
     "name": "stdout",
     "output_type": "stream",
     "text": [
      "190 54 16\n"
     ]
    }
   ],
   "source": [
    "# VC num\n",
    "max_0 = max([layer_feature_b[nn].shape[0] for nn in range(N)])\n",
    "\n",
    "# width\n",
    "max_1 = max([layer_feature_b[nn].shape[1] for nn in range(N)])\n",
    "\n",
    "# height\n",
    "max_2 = max([layer_feature_b[nn].shape[2] for nn in range(N)])\n",
    "print(max_0, max_1, max_2)"
   ]
  },
  {
   "cell_type": "code",
   "execution_count": 34,
   "metadata": {
    "collapsed": true
   },
   "outputs": [],
   "source": [
    "all_bg_b = np.zeros((max_0, max_1, max_2))\n",
    "for nn in range(N):\n",
    "    vnum, ww, hh = layer_feature_b[nn].shape\n",
    "    assert(vnum == max_0)\n",
    "    diff_w1 = int((max_1-ww)/2)\n",
    "    diff_w2 = int(max_1-ww-diff_w1)\n",
    "    assert(max_1 == diff_w1+diff_w2+ww)\n",
    "    \n",
    "    diff_h1 = int((max_2-hh)/2)\n",
    "    diff_h2 = int(max_2-hh-diff_h1)\n",
    "    assert(max_2 == diff_h1+diff_h2+hh)\n",
    "    \n",
    "    # padded = np.pad(layer_feature_b[nn], ((0,0),(diff_w1, diff_w2),(diff_h1, diff_h2)), 'constant', constant_values=0)\n",
    "    all_bg_b += np.pad(layer_feature_b[nn], ((0,0),(diff_w1, diff_w2),(diff_h1, diff_h2)), 'constant', constant_values=0)\n",
    "    \n",
    "probs = all_bg_b/N + 1e-3"
   ]
  },
  {
   "cell_type": "code",
   "execution_count": 35,
   "metadata": {},
   "outputs": [
    {
     "data": {
      "text/plain": [
       "array([ 15,  28,   0, 187,  41, 145,  91,  10,  22, 179, 172, 136, 185,\n",
       "        95,  57, 152, 105, 157, 177,  70,  82,  32, 113,  90, 144, 170,\n",
       "       169, 159,  20, 171,  68,  38,  14,  88, 184,  13, 138, 116,   4,\n",
       "        76, 183,  56,   5,   8, 162,  72, 118, 182, 141, 128,  73, 165,\n",
       "        39, 149,  35, 123, 104, 160, 129,  42, 139, 156,   1, 176,  74,\n",
       "        31,  49,  78, 130,  93, 147,  65,  64, 181, 180,  79,  50, 103,\n",
       "       173, 106,  87, 140,  37, 122, 124,  36,  59,  80,  84, 127,  48,\n",
       "       151, 102,  46, 178,  96,  17,  94, 115,  34,   7, 163, 142,  18,\n",
       "       148, 164, 153, 143,  86, 132, 161, 107,  24, 174, 112, 117, 131,\n",
       "       188, 158,  98, 119, 166,  21,  58, 168,  66, 137,  25, 126,  99,\n",
       "        67,  54,  16,  44,  63,  83,  53,  26, 167,  30, 108, 120, 111,\n",
       "        71,  40, 121,  33,  11, 186,  61,  27, 125,  77, 134, 175, 146,\n",
       "        29, 150,  43,  47,  69,  45, 154, 133,  75, 155,  62,  60, 114,\n",
       "        23,  51,   9,  81,  12,   6, 109, 135,  85,  19,   3,  97,  52,\n",
       "       189,   2, 100,  89,  92, 101, 110,  55])"
      ]
     },
     "execution_count": 35,
     "metadata": {},
     "output_type": "execute_result"
    }
   ],
   "source": [
    "np.argsort(np.max(np.max(probs, axis=1),axis=1))"
   ]
  },
  {
   "cell_type": "code",
   "execution_count": 43,
   "metadata": {},
   "outputs": [
    {
     "name": "stdout",
     "output_type": "stream",
     "text": [
      "0.184\n",
      "0.00645023148148\n",
      "0.001\n"
     ]
    },
    {
     "data": {
      "image/png": "[encoded data removed]",
      "text/plain": [
       "<matplotlib.figure.Figure at 0x7f0af2d8ecc0>"
      ]
     },
     "metadata": {},
     "output_type": "display_data"
    }
   ],
   "source": [
    "# mean_acr_vc = np.mean(probs, axis=0)\n",
    "# print(np.max(mean_acr_vc))\n",
    "# print(np.mean(mean_acr_vc))\n",
    "# print(np.min(mean_acr_vc))\n",
    "vcid=189\n",
    "print(np.max(probs[vcid]))\n",
    "print(np.mean(probs[vcid]))\n",
    "print(np.min(probs[vcid]))\n",
    "\n",
    "fig, ax = plt.subplots()\n",
    "# ax.imshow(mean_acr_vc.T)\n",
    "ax.imshow(probs[vcid].T)\n",
    "plt.show()"
   ]
  },
  {
   "cell_type": "code",
   "execution_count": 44,
   "metadata": {},
   "outputs": [
    {
     "name": "stdout",
     "output_type": "stream",
     "text": [
      "(80, 25, 14)\n"
     ]
    },
    {
     "data": {
      "text/plain": [
       "\"\\nimport scipy.io as sio\\nsio.savemat('/media/zzs/4TB/qingliu/qing_intermediate/unary_weights/all_train_bg2.mat', mdict={'weight': weights})\\n\""
      ]
     },
     "execution_count": 44,
     "metadata": {},
     "output_type": "execute_result"
    }
   ],
   "source": [
    "weights = np.log(probs/(1.-probs))\n",
    "print(weights.shape)\n",
    "save_path = '/mnt/4T-HD/qing/intermediate/unary_weights/'\n",
    "savefile = save_path+'{0}_train.pickle'.format(category)\n",
    "if if_bg:\n",
    "    savefile = save_path+'{0}_train_bg.pickle'.format(category)\n",
    "    \n",
    "with open(savefile, 'wb') as fh:\n",
    "    pickle.dump(weights, fh)\n",
    "\n",
    "'''\n",
    "import scipy.io as sio\n",
    "sio.savemat('/media/zzs/4TB/qingliu/qing_intermediate/unary_weights/all_train_bg2.mat', mdict={'weight': weights})\n",
    "'''"
   ]
  },
  {
   "cell_type": "code",
   "execution_count": null,
   "metadata": {
    "collapsed": true
   },
   "outputs": [],
   "source": [
    "\n"
   ]
  },
  {
   "cell_type": "code",
   "execution_count": 24,
   "metadata": {},
   "outputs": [
    {
     "name": "stdout",
     "output_type": "stream",
     "text": [
      "/home/candy/qing_voting_139/qing_clustering\r\n"
     ]
    }
   ],
   "source": [
    "!pwd"
   ]
  },
  {
   "cell_type": "code",
   "execution_count": null,
   "metadata": {
    "collapsed": true
   },
   "outputs": [],
   "source": []
  }
 ],
 "metadata": {
  "kernelspec": {
   "display_name": "Python 3",
   "language": "python",
   "name": "python3"
  },
  "language_info": {
   "codemirror_mode": {
    "name": "ipython",
    "version": 3
   },
   "file_extension": ".py",
   "mimetype": "text/x-python",
   "name": "python",
   "nbconvert_exporter": "python",
   "pygments_lexer": "ipython3",
   "version": "3.6.1"
  }
 },
 "nbformat": 4,
 "nbformat_minor": 2
}
