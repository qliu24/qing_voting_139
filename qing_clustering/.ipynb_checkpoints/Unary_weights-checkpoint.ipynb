{
 "cells": [
  {
   "cell_type": "code",
   "execution_count": 1,
   "metadata": {
    "collapsed": false
   },
   "outputs": [
    {
     "name": "stdout",
     "output_type": "stream",
     "text": [
      "(216, 21, 14)\n"
     ]
    }
   ],
   "source": [
    "import h5py\n",
    "import numpy as np\n",
    "import pickle\n",
    "import glob\n",
    "from scipy.stats import spearmanr\n",
    "import matplotlib.pyplot as plt\n",
    "%matplotlib inline\n",
    "plt.rcParams['figure.figsize'] = (10.0, 8.0) # set default size of plots\n",
    "plt.rcParams['image.interpolation'] = 'nearest'\n",
    "plt.rcParams['image.cmap'] = 'gray'\n",
    "\n",
    "filename = '/media/zzs/4TB/qingliu/qing_intermediate/all_K216_res_info/res_info_car_train.mat'\n",
    "f = h5py.File(filename)\n",
    "dic1 = f['res_info']\n",
    "len1 = dic1.shape[0]\n",
    "\n",
    "layer_feature_dist = [None for nn in range(len1)]\n",
    "for nn in range(len1):\n",
    "    dic2 = f[dic1[nn,0]]\n",
    "    dic21 = dic2[\"layer_feature_dist\"]\n",
    "    dic21 = np.array(dic21)\n",
    "    layer_feature_dist[nn] = dic21\n",
    "    \n",
    "print(layer_feature_dist[0].shape)\n",
    "    "
   ]
  },
  {
   "cell_type": "code",
   "execution_count": 2,
   "metadata": {
    "collapsed": true
   },
   "outputs": [],
   "source": [
    "N=len1\n",
    "magic_thh = 0.7\n",
    "\n",
    "layer_feature_b = [None for nn in range(N)]\n",
    "for nn in range(N):\n",
    "    layer_feature_b[nn] = (layer_feature_dist[nn]<magic_thh).astype(int)\n",
    "    "
   ]
  },
  {
   "cell_type": "code",
   "execution_count": 3,
   "metadata": {
    "collapsed": false
   },
   "outputs": [
    {
     "name": "stdout",
     "output_type": "stream",
     "text": [
      "216 55 17\n"
     ]
    }
   ],
   "source": [
    "# VC num\n",
    "max_0 = max([layer_feature_b[nn].shape[0] for nn in range(N)])\n",
    "\n",
    "# width\n",
    "max_1 = max([layer_feature_b[nn].shape[1] for nn in range(N)])\n",
    "\n",
    "# height\n",
    "max_2 = max([layer_feature_b[nn].shape[2] for nn in range(N)])\n",
    "print(max_0, max_1, max_2)"
   ]
  },
  {
   "cell_type": "code",
   "execution_count": 4,
   "metadata": {
    "collapsed": false
   },
   "outputs": [
    {
     "name": "stdout",
     "output_type": "stream",
     "text": [
      "0.014962962963\n",
      "0.001\n"
     ]
    },
    {
     "data": {
      "image/png": "[encoded data removed]",
      "text/plain": [
       "<matplotlib.figure.Figure at 0x7f054421deb8>"
      ]
     },
     "metadata": {},
     "output_type": "display_data"
    }
   ],
   "source": [
    "all_bg_b = np.zeros((max_0, max_1, max_2))\n",
    "for nn in range(N):\n",
    "    vnum, ww, hh = layer_feature_b[nn].shape\n",
    "    assert(vnum == max_0)\n",
    "    diff_w1 = int((max_1-ww)/2)\n",
    "    diff_w2 = int(max_1-ww-diff_w1)\n",
    "    assert(max_1 == diff_w1+diff_w2+ww)\n",
    "    \n",
    "    diff_h1 = int((max_2-hh)/2)\n",
    "    diff_h2 = int(max_2-hh-diff_h1)\n",
    "    assert(max_2 == diff_h1+diff_h2+hh)\n",
    "    \n",
    "    padded = np.pad(layer_feature_b[nn], ((0,0),(diff_w1, diff_w2),(diff_h1, diff_h2)), 'constant', constant_values=0)\n",
    "    all_bg_b += np.pad(layer_feature_b[nn], ((0,0),(diff_w1, diff_w2),(diff_h1, diff_h2)), 'constant', constant_values=0)\n",
    "    \n",
    "probs = all_bg_b/N + 1e-3\n",
    "\n",
    "mean_acr_vc = np.mean(probs, axis=0)\n",
    "print(np.max(mean_acr_vc))\n",
    "print(np.min(mean_acr_vc))\n",
    "from matplotlib import pyplot as plt\n",
    "plt.close()\n",
    "fig, ax = plt.subplots()\n",
    "ax.imshow(mean_acr_vc.T)\n",
    "plt.show()"
   ]
  },
  {
   "cell_type": "code",
   "execution_count": 43,
   "metadata": {
    "collapsed": false
   },
   "outputs": [],
   "source": [
    "weights = np.log(probs/(1.-probs))\n",
    "weights.shape\n",
    "import scipy.io as sio\n",
    "\n",
    "sio.savemat('/media/zzs/4TB/qingliu/qing_intermediate/unary_weights/car_train.mat', mdict={'weight': weights})"
   ]
  },
  {
   "cell_type": "code",
   "execution_count": null,
   "metadata": {
    "collapsed": true
   },
   "outputs": [],
   "source": [
    "\n"
   ]
  },
  {
   "cell_type": "code",
   "execution_count": 46,
   "metadata": {
    "collapsed": false
   },
   "outputs": [
    {
     "name": "stdout",
     "output_type": "stream",
     "text": [
      "/home/qin/voting/qing_clustering\r\n"
     ]
    }
   ],
   "source": [
    "!pwd"
   ]
  },
  {
   "cell_type": "code",
   "execution_count": null,
   "metadata": {
    "collapsed": true
   },
   "outputs": [],
   "source": []
  }
 ],
 "metadata": {
  "kernelspec": {
   "display_name": "Python 3",
   "language": "python",
   "name": "python3"
  },
  "language_info": {
   "codemirror_mode": {
    "name": "ipython",
    "version": 3
   },
   "file_extension": ".py",
   "mimetype": "text/x-python",
   "name": "python",
   "nbconvert_exporter": "python",
   "pygments_lexer": "ipython3",
   "version": "3.6.0"
  }
 },
 "nbformat": 4,
 "nbformat_minor": 2
}
