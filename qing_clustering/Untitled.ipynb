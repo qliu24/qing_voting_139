{
 "cells": [
  {
   "cell_type": "code",
   "execution_count": 55,
   "metadata": {
    "collapsed": false,
    "deletable": true,
    "editable": true
   },
   "outputs": [
    {
     "name": "stdout",
     "output_type": "stream",
     "text": [
      "loading object car\n",
      "loading object aeroplane\n",
      "loading object bicycle\n",
      "loading object bus\n",
      "loading object motorbike\n",
      "loading object train\n",
      "total number of instances 3549\n",
      "(0, 0, 34)\n",
      "(0, 1, 78)\n",
      "(0, 2, 42)\n",
      "(0, 3, 40)\n",
      "(1, 0, 78)\n",
      "(1, 1, 78)\n",
      "(1, 2, 42)\n",
      "(1, 3, 8)\n",
      "(2, 0, 33)\n",
      "(2, 1, 78)\n",
      "(2, 2, 42)\n",
      "(2, 3, 8)\n",
      "(3, 0, 45)\n",
      "(3, 1, 45)\n",
      "(3, 2, 45)\n",
      "(3, 3, 32)\n"
     ]
    }
   ],
   "source": [
    "import pickle\n",
    "import numpy as np\n",
    "from vcdist_funcs import *\n",
    "import time\n",
    "import math\n",
    "\n",
    "paral_num=8\n",
    "# file_path = '/media/zzs/4TB/qingliu/qing_intermediate/feat_pickle/'\n",
    "# file_path = '/mnt/4T-HD/qing/voting_data/feat_pickle/'\n",
    "file_path = '/mnt/4T-HD/qing/intermediate/feat_pickle/'\n",
    "savename = file_path + 'all_super_simmat.pickle'\n",
    "# magic_thh = 0.83\n",
    "\n",
    "layer_feature_dist = []\n",
    "sub_type = []\n",
    "view_point = []\n",
    "objects = ['car', 'aeroplane', 'bicycle', 'bus', 'motorbike', 'train']\n",
    "for oo in objects:\n",
    "    fname = file_path + 'res_info_' + oo + '_train.pickle'\n",
    "    print('loading object {0}'.format(oo))\n",
    "    with open(fname, 'rb') as fh:\n",
    "        _, l, s, v = pickle.load(fh)\n",
    "        layer_feature_dist += l\n",
    "        sub_type += s\n",
    "        view_point += v\n",
    "        \n",
    "N = len(sub_type)\n",
    "print('total number of instances {0}'.format(N))\n",
    "\n",
    "layer_feature_b = [None for nn in range(N)]\n",
    "stride = 2\n",
    "for nn in range(3000,3001):\n",
    "    # layer_feature_b[nn] = (layer_feature_dist[nn]<magic_thh).astype(int).T\n",
    "    ihh, iww, idd = layer_feature_dist[nn].shape\n",
    "    \n",
    "    tmp = np.zeros((math.ceil(ihh/stride), math.ceil(iww/stride), idd)).astype('int')\n",
    "    for hh in range(0,ihh,stride):\n",
    "        for ww in range(0,iww,stride):\n",
    "            d_min = np.unravel_index(np.argmin(layer_feature_dist[nn][hh:hh+stride,ww:ww+stride,:]), \\\n",
    "                                 layer_feature_dist[nn][hh:hh+stride,ww:ww+stride,:].shape)\n",
    "            tmp[int(hh/stride),int(ww/stride),d_min[2]] = 1\n",
    "            print((int(hh/stride),int(ww/stride),d_min[2]))\n",
    "            \n",
    "    layer_feature_b[nn] = tmp.T"
   ]
  },
  {
   "cell_type": "code",
   "execution_count": 56,
   "metadata": {
    "collapsed": false
   },
   "outputs": [
    {
     "data": {
      "text/plain": [
       "(4, 4, 80)"
      ]
     },
     "execution_count": 56,
     "metadata": {},
     "output_type": "execute_result"
    }
   ],
   "source": [
    "tmp.shape"
   ]
  },
  {
   "cell_type": "code",
   "execution_count": 44,
   "metadata": {
    "collapsed": false,
    "deletable": true,
    "editable": true
   },
   "outputs": [
    {
     "data": {
      "text/plain": [
       "(array([73]), array([0]), array([0]))"
      ]
     },
     "execution_count": 44,
     "metadata": {},
     "output_type": "execute_result"
    }
   ],
   "source": [
    "np.where(layer_feature_b[0]==1)"
   ]
  },
  {
   "cell_type": "code",
   "execution_count": 57,
   "metadata": {
    "collapsed": false
   },
   "outputs": [
    {
     "data": {
      "text/plain": [
       "array([[0, 0, 0, 1],\n",
       "       [0, 0, 0, 1],\n",
       "       [0, 0, 0, 1],\n",
       "       [0, 0, 0, 0]])"
      ]
     },
     "execution_count": 57,
     "metadata": {},
     "output_type": "execute_result"
    }
   ],
   "source": [
    "layer_feature_b[3000][45]"
   ]
  },
  {
   "cell_type": "code",
   "execution_count": 51,
   "metadata": {
    "collapsed": false
   },
   "outputs": [
    {
     "data": {
      "text/plain": [
       "'scooter'"
      ]
     },
     "execution_count": 51,
     "metadata": {},
     "output_type": "execute_result"
    }
   ],
   "source": [
    "sub_type[3000]"
   ]
  },
  {
   "cell_type": "code",
   "execution_count": null,
   "metadata": {
    "collapsed": true
   },
   "outputs": [],
   "source": []
  }
 ],
 "metadata": {
  "kernelspec": {
   "display_name": "Python 3",
   "language": "python",
   "name": "python3"
  },
  "language_info": {
   "codemirror_mode": {
    "name": "ipython",
    "version": 3
   },
   "file_extension": ".py",
   "mimetype": "text/x-python",
   "name": "python",
   "nbconvert_exporter": "python",
   "pygments_lexer": "ipython3",
   "version": "3.5.2"
  }
 },
 "nbformat": 4,
 "nbformat_minor": 2
}
