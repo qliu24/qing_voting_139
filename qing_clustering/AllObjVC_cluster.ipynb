{
 "cells": [
  {
   "cell_type": "code",
   "execution_count": 1,
   "metadata": {
    "collapsed": false
   },
   "outputs": [
    {
     "name": "stdout",
     "output_type": "stream",
     "text": [
      "(3549, 3549)\n"
     ]
    }
   ],
   "source": [
    "import pickle\n",
    "import numpy as np\n",
    "\n",
    "file_path = '/media/zzs/4TB/qingliu/qing_intermediate/feat_pickle/'\n",
    "fname = file_path + 'all_simmat.pickle'\n",
    "with open(fname, 'rb') as fh:\n",
    "    mat_dis1, mat_dis2 = pickle.load(fh)\n",
    "    \n",
    "print(mat_dis1.shape)"
   ]
  },
  {
   "cell_type": "code",
   "execution_count": 2,
   "metadata": {
    "collapsed": false
   },
   "outputs": [
    {
     "name": "stdout",
     "output_type": "stream",
     "text": [
      "loading object car\n",
      "loading object aeroplane\n",
      "loading object bicycle\n",
      "loading object bus\n",
      "loading object motorbike\n",
      "loading object train\n",
      "total number of instances 3549\n"
     ]
    }
   ],
   "source": [
    "asp_ratio = []\n",
    "types = []\n",
    "view_point = []\n",
    "objects = ['car', 'aeroplane', 'bicycle', 'bus', 'motorbike', 'train']\n",
    "for oo in objects:\n",
    "    fname = file_path + 'res_info_' + oo + '_train.pickle'\n",
    "    print('loading object {0}'.format(oo))\n",
    "    with open(fname, 'rb') as fh:\n",
    "        l, _, v = pickle.load(fh)\n",
    "        types += [oo for ii in range(len(v))]\n",
    "        view_point += v\n",
    "        asp_ratio += [l[ii].shape[1]/l[ii].shape[2] for ii in range(len(v))]\n",
    "        \n",
    "N = len(types)\n",
    "print('total number of instances {0}'.format(N))"
   ]
  },
  {
   "cell_type": "code",
   "execution_count": 3,
   "metadata": {
    "collapsed": false
   },
   "outputs": [
    {
     "name": "stdout",
     "output_type": "stream",
     "text": [
      "(3549, 3549)\n",
      "0.074534997767\n",
      "0.0689813344355\n"
     ]
    },
    {
     "ename": "NameError",
     "evalue": "name 'plt' is not defined",
     "output_type": "error",
     "traceback": [
      "\u001b[0;31m---------------------------------------------------------------------------\u001b[0m",
      "\u001b[0;31mNameError\u001b[0m                                 Traceback (most recent call last)",
      "\u001b[0;32m<ipython-input-3-90e3daf32327>\u001b[0m in \u001b[0;36m<module>\u001b[0;34m()\u001b[0m\n\u001b[1;32m     23\u001b[0m \u001b[0mprint\u001b[0m\u001b[0;34m(\u001b[0m\u001b[0mnp\u001b[0m\u001b[0;34m.\u001b[0m\u001b[0mstd\u001b[0m\u001b[0;34m(\u001b[0m\u001b[0mW_mat\u001b[0m\u001b[0;34m)\u001b[0m\u001b[0;34m)\u001b[0m\u001b[0;34m\u001b[0m\u001b[0m\n\u001b[1;32m     24\u001b[0m \u001b[0;34m\u001b[0m\u001b[0m\n\u001b[0;32m---> 25\u001b[0;31m \u001b[0mplt\u001b[0m\u001b[0;34m.\u001b[0m\u001b[0mimshow\u001b[0m\u001b[0;34m(\u001b[0m\u001b[0mW_mat\u001b[0m\u001b[0;34m,\u001b[0m \u001b[0minterpolation\u001b[0m\u001b[0;34m=\u001b[0m\u001b[0;34m'none'\u001b[0m\u001b[0;34m)\u001b[0m\u001b[0;34m\u001b[0m\u001b[0m\n\u001b[0m\u001b[1;32m     26\u001b[0m \u001b[0mplt\u001b[0m\u001b[0;34m.\u001b[0m\u001b[0mshow\u001b[0m\u001b[0;34m(\u001b[0m\u001b[0;34m)\u001b[0m\u001b[0;34m\u001b[0m\u001b[0m\n\u001b[1;32m     27\u001b[0m \u001b[0;34m\u001b[0m\u001b[0m\n",
      "\u001b[0;31mNameError\u001b[0m: name 'plt' is not defined"
     ]
    }
   ],
   "source": [
    "perm_id = np.random.permutation(N)\n",
    "perm_inv_id = np.argsort(perm_id)\n",
    "\n",
    "types = np.array(types)[perm_id]\n",
    "view_point = np.array(view_point)[perm_id]\n",
    "asp_ratio = np.array(asp_ratio)[perm_id]\n",
    "\n",
    "gridix = np.ix_(perm_id,perm_id)\n",
    "gridix_inv = np.ix_(perm_inv_id,perm_inv_id)\n",
    "\n",
    "mat_dis = mat_dis1\n",
    "mat_full = np.ones_like(mat_dis)\n",
    "for nn in range(mat_full.shape[0]):\n",
    "    mat_full[nn] = np.append(mat_dis[0:nn, nn], mat_dis[nn, nn:])\n",
    "    \n",
    "mat_full = mat_full[gridix]\n",
    "print(mat_full.shape)\n",
    "\n",
    "np.fill_diagonal(mat_full, 0)\n",
    "\n",
    "W_mat = 1. - mat_full\n",
    "print(np.mean(W_mat))\n",
    "print(np.std(W_mat))\n",
    "\n",
    "plt.imshow(W_mat, interpolation='none')\n",
    "plt.show()\n",
    "\n",
    "W_mat_o = W_mat[gridix_inv]\n",
    "plt.imshow(W_mat_o, interpolation='none')\n",
    "plt.show()"
   ]
  },
  {
   "cell_type": "code",
   "execution_count": 26,
   "metadata": {
    "collapsed": false
   },
   "outputs": [
    {
     "name": "stdout",
     "output_type": "stream",
     "text": [
      "0.378378378378 4.0 1.9024250632\n"
     ]
    }
   ],
   "source": [
    "asp_ratio = np.array(asp_ratio)\n",
    "print(np.min(asp_ratio), np.max(asp_ratio), np.mean(asp_ratio))"
   ]
  },
  {
   "cell_type": "code",
   "execution_count": 27,
   "metadata": {
    "collapsed": false
   },
   "outputs": [
    {
     "name": "stdout",
     "output_type": "stream",
     "text": [
      "aeroplane 305.0\n",
      "aeroplane 305.0 aeroplane 300.0 aeroplane 285.0 aeroplane 275.0 aeroplane 140.0 .\n",
      "car 90.0\n",
      "car 90.0 car 90.0 car 60.0 car 85.0 car 90.0 .\n",
      "aeroplane 250.0\n",
      "aeroplane 250.0 aeroplane 140.0 aeroplane 310.0 aeroplane 90.0 aeroplane 265.0 .\n",
      "aeroplane 85.0\n",
      "aeroplane 85.0 aeroplane 95.0 aeroplane 95.0 aeroplane 55.0 aeroplane 65.0 .\n",
      "bicycle 100.0\n",
      "bicycle 100.0 bicycle 70.0 bicycle 90.0 bicycle 275.0 bicycle 280.0 .\n",
      "car 45.0\n",
      "car 45.0 car 45.0 car 50.0 car 35.0 car 55.0 .\n",
      "train 350.0\n",
      "train 350.0 train 355.0 train 355.0 train 355.0 train 355.0 .\n",
      "car 30.0\n",
      "car 30.0 car 30.0 car 40.0 car 30.0 car 40.0 .\n",
      "bus 25.0\n",
      "bus 25.0 bus 25.0 bus 35.0 bus 15.0 bus 40.0 .\n",
      "aeroplane 90.0\n",
      "aeroplane 90.0 aeroplane 95.0 aeroplane 100.0 aeroplane 280.0 aeroplane 65.0 .\n"
     ]
    }
   ],
   "source": [
    "for rr in np.random.randint(3549,size=10):\n",
    "    ref = rr\n",
    "    print(types[ref], view_point[ref])\n",
    "    dis_rst = mat_full[rr]\n",
    "    min_idx = np.argsort(dis_rst)\n",
    "    for tt in range(5):\n",
    "        match = min_idx[tt]\n",
    "        print(types[match], view_point[match], end=' ')\n",
    "        \n",
    "    print('.')"
   ]
  },
  {
   "cell_type": "code",
   "execution_count": 4,
   "metadata": {
    "collapsed": false
   },
   "outputs": [
    {
     "data": {
      "image/png": "[encoded data removed]",
      "text/plain": [
       "<matplotlib.figure.Figure at 0x7f6684044f60>"
      ]
     },
     "metadata": {},
     "output_type": "display_data"
    }
   ],
   "source": [
    "import matplotlib.pyplot as plt\n",
    "%matplotlib inline\n",
    "plt.rcParams['figure.figsize'] = (10.0, 8.0) # set default size of plots\n",
    "plt.rcParams['image.interpolation'] = 'nearest'\n",
    "plt.rcParams['image.cmap'] = 'gray'\n",
    "\n",
    "f, axes = plt.subplots(1,6, sharex=True, sharey=True, figsize=(15,3))\n",
    "for io, oo in enumerate(objects):\n",
    "    vps = np.array(view_point)[np.array(types)==oo]\n",
    "    axes[io].hist(vps, 8,  facecolor='green', alpha=0.75,edgecolor='k')\n",
    "    axes[io].set_title(oo)\n",
    "\n",
    "axes[0].set_xlim([0,360])\n",
    "axes[0].set_xticks([0,90,180,270,360])\n",
    "# plt.savefig(file_path+'vp_hist.png', bbox_inches = 'tight')\n",
    "plt.show()"
   ]
  },
  {
   "cell_type": "code",
   "execution_count": null,
   "metadata": {
    "collapsed": false
   },
   "outputs": [],
   "source": [
    "\n"
   ]
  },
  {
   "cell_type": "code",
   "execution_count": 6,
   "metadata": {
    "collapsed": false
   },
   "outputs": [
    {
     "data": {
      "image/png": "[encoded data removed]",
      "text/plain": [
       "<matplotlib.figure.Figure at 0x7f6659dfb400>"
      ]
     },
     "metadata": {},
     "output_type": "display_data"
    }
   ],
   "source": [
    "freq = []\n",
    "for oo in objects:\n",
    "    freq.append(sum(np.array(types)==oo))\n",
    "\n",
    "pos = np.arange(len(objects))\n",
    "\n",
    "ax = plt.axes()\n",
    "ax.set_xticks(pos)\n",
    "ax.set_xticklabels(objects)\n",
    "ax.tick_params(axis='both', which='major', labelsize=18)\n",
    "\n",
    "plt.bar(pos, freq, color='green',alpha=0.75, edgecolor='k')\n",
    "plt.show()"
   ]
  },
  {
   "cell_type": "code",
   "execution_count": 7,
   "metadata": {
    "collapsed": false
   },
   "outputs": [
    {
     "data": {
      "image/png": "[encoded data removed]",
      "text/plain": [
       "<matplotlib.figure.Figure at 0x7f6659eb3f60>"
      ]
     },
     "metadata": {},
     "output_type": "display_data"
    },
    {
     "data": {
      "image/png": "[encoded data removed]",
      "text/plain": [
       "<matplotlib.figure.Figure at 0x7f664e0f8c88>"
      ]
     },
     "metadata": {},
     "output_type": "display_data"
    },
    {
     "data": {
      "image/png": "[encoded data removed]",
      "text/plain": [
       "<matplotlib.figure.Figure at 0x7f6659d20cf8>"
      ]
     },
     "metadata": {},
     "output_type": "display_data"
    }
   ],
   "source": [
    "from sklearn.cluster import SpectralClustering\n",
    "objects_s = ['car','pln','bic','bus','mtb','tra']\n",
    "K = 4\n",
    "cls_solver = SpectralClustering(n_clusters=K,affinity='precomputed', random_state=666)\n",
    "lb = cls_solver.fit_predict(W_mat)\n",
    "    \n",
    "f, axes = plt.subplots(1,K, sharex=True, sharey=True, figsize=(10,2.5))\n",
    "pos = np.arange(len(objects))\n",
    "axes[0].set_xticks(pos)\n",
    "axes[0].set_xticklabels(objects_s)\n",
    "for k in range(K):\n",
    "    freq = []\n",
    "    for oo in objects:\n",
    "        freq.append(sum(np.array(types)[lb==k]==oo))\n",
    "        \n",
    "    axes[k].bar(pos, freq, color='green',alpha=0.75, edgecolor='k')\n",
    "\n",
    "plt.show()\n",
    "\n",
    "f, axes = plt.subplots(1,K, sharex=True, sharey=True, figsize=(10,2.5))\n",
    "axes[0].set_xlim([0,360])\n",
    "axes[0].set_xticks([0,90,180,270,360])\n",
    "\n",
    "for k in range(K):\n",
    "    axes[k].hist(np.array(view_point)[lb==k], bins=8, range=[0,360], facecolor='green', alpha=0.75,edgecolor='k')\n",
    "\n",
    "plt.show()\n",
    "\n",
    "f, axes = plt.subplots(1,K, sharex=True, sharey=True, figsize=(10,2.5))\n",
    "axes[0].set_xlim([0,5])\n",
    "axes[0].set_xticks([0,1,2,3,4,5])\n",
    "\n",
    "for k in range(K):\n",
    "    axes[k].hist(asp_ratio[lb==k], bins=10, range=[0,5], facecolor='green', alpha=0.75,edgecolor='k')\n",
    "\n",
    "plt.show()"
   ]
  },
  {
   "cell_type": "code",
   "execution_count": 9,
   "metadata": {
    "collapsed": false
   },
   "outputs": [
    {
     "name": "stdout",
     "output_type": "stream",
     "text": [
      "0.138891948453 0.0839955803235\n",
      "0.118684522238 0.0812043034248\n",
      "0.168362484207 0.101996728865\n",
      "0.144804322184 0.114245749774\n"
     ]
    }
   ],
   "source": [
    "idx2 = []\n",
    "W_mat2 = []\n",
    "lb2 = []\n",
    "for k in range(K):\n",
    "    idx2.append(np.where(lb==k)[0])\n",
    "    W_mat2.append(W_mat[np.ix_(idx2[k],idx2[k])])\n",
    "    print(np.mean(W_mat2[k]), np.std(W_mat2[k]))\n",
    "    \n",
    "    cls_solver = SpectralClustering(n_clusters=2,affinity='precomputed', random_state=999)\n",
    "    lb2.append(cls_solver.fit_predict(W_mat2[k]))"
   ]
  },
  {
   "cell_type": "code",
   "execution_count": 11,
   "metadata": {
    "collapsed": false
   },
   "outputs": [
    {
     "data": {
      "image/png": "[encoded data removed]",
      "text/plain": [
       "<matplotlib.figure.Figure at 0x7f66660f7dd8>"
      ]
     },
     "metadata": {},
     "output_type": "display_data"
    },
    {
     "data": {
      "image/png": "[encoded data removed]",
      "text/plain": [
       "<matplotlib.figure.Figure at 0x7f664d14d710>"
      ]
     },
     "metadata": {},
     "output_type": "display_data"
    },
    {
     "data": {
      "image/png": "[encoded data removed]",
      "text/plain": [
       "<matplotlib.figure.Figure at 0x7f664d421c50>"
      ]
     },
     "metadata": {},
     "output_type": "display_data"
    }
   ],
   "source": [
    "K2=2\n",
    "f, axes = plt.subplots(2,K, sharex=True, sharey=True, figsize=(10,2.5))\n",
    "pos = np.arange(len(objects))\n",
    "axes[0][0].set_xticks(pos)\n",
    "axes[0][0].set_xticklabels(objects_s)\n",
    "for k in range(K2*K):\n",
    "    a = k//2\n",
    "    b = k%2\n",
    "    freq = []\n",
    "    for oo in objects:\n",
    "        freq.append(sum(np.array(types)[idx2[a]][lb2[a]==b]==oo))\n",
    "        \n",
    "    axes[b][a].bar(pos, freq, color='green',alpha=0.75, edgecolor='k')\n",
    "\n",
    "plt.show()\n",
    "    \n",
    "f, axes = plt.subplots(2,K, sharex=True, sharey=True, figsize=(10,2.5))\n",
    "axes[0][0].set_xlim([0,360])\n",
    "axes[0][0].set_xticks([0,90,180,270,360])\n",
    "for k in range(K2*K):\n",
    "    a = k//2\n",
    "    b = k%2\n",
    "    axes[b][a].hist(np.array(view_point)[idx2[a]][lb2[a]==b], bins=8, range=[0,360], facecolor='green', alpha=0.75, edgecolor='k')\n",
    "\n",
    "plt.show()\n",
    "\n",
    "f, axes = plt.subplots(2,K, sharex=True, sharey=True, figsize=(10,2.5))\n",
    "axes[0][0].set_xlim([0,5])\n",
    "axes[0][0].set_xticks([0,1,2,3,4,5])\n",
    "for k in range(K2*K):\n",
    "    a = k//2\n",
    "    b = k%2\n",
    "    axes[b][a].hist(np.array(asp_ratio)[idx2[a]][lb2[a]==b], bins=10, range=[0,5], facecolor='green', alpha=0.75, edgecolor='k')\n",
    "\n",
    "plt.show()"
   ]
  },
  {
   "cell_type": "code",
   "execution_count": 61,
   "metadata": {
    "collapsed": false
   },
   "outputs": [
    {
     "name": "stdout",
     "output_type": "stream",
     "text": [
      "0.0978336734705 0.0708835631648\n",
      "0.17083867198 0.118531528009\n",
      "0.16767392193 0.0992987103451\n",
      "0.234086982911 0.111952644925\n"
     ]
    }
   ],
   "source": [
    "idx3 = []\n",
    "W_mat3 = []\n",
    "lb3 = []\n",
    "for k in range(K2):\n",
    "    a = k//2\n",
    "    b = k%2\n",
    "    idx3.append(np.where(lb2[a]==b)[0])\n",
    "    W_mat3.append(W_mat2[a][np.ix_(idx3[k],idx3[k])])\n",
    "    print(np.mean(W_mat3[k]), np.std(W_mat3[k]))\n",
    "    cls_solver = SpectralClustering(n_clusters=2,affinity='precomputed', random_state=999)\n",
    "    lb3.append(cls_solver.fit_predict(W_mat3[k]))\n",
    "    "
   ]
  },
  {
   "cell_type": "code",
   "execution_count": 63,
   "metadata": {
    "collapsed": false
   },
   "outputs": [
    {
     "data": {
      "image/png": "[encoded data removed]",
      "text/plain": [
       "<matplotlib.figure.Figure at 0x7f1943fc6d30>"
      ]
     },
     "metadata": {},
     "output_type": "display_data"
    },
    {
     "data": {
      "image/png": "[encoded data removed]",
      "text/plain": [
       "<matplotlib.figure.Figure at 0x7f199ce5a160>"
      ]
     },
     "metadata": {},
     "output_type": "display_data"
    }
   ],
   "source": [
    "K3=8\n",
    "    \n",
    "f, axes = plt.subplots(1,K3, sharex=True, sharey=True, figsize=(15,3))\n",
    "pos = np.arange(len(objects))\n",
    "axes[0].set_xticks(pos)\n",
    "axes[0].set_xticklabels(objects_s)\n",
    "for k in range(K3):\n",
    "    a = k//2\n",
    "    c = k//4\n",
    "    b = k%2\n",
    "    freq = []\n",
    "    for oo in objects:\n",
    "        freq.append(sum(np.array(types)[idx2[c]][idx3[a]][lb3[a]==b]==oo))\n",
    "        \n",
    "    axes[k].bar(pos, freq, color='green',alpha=0.75, edgecolor='k')\n",
    "\n",
    "plt.show()\n",
    "f, axes = plt.subplots(1, K3, sharex=True, sharey=True, figsize=(15,3))\n",
    "axes[0].set_xlim([0,360])\n",
    "axes[0].set_xticks([0,90,180,270,360])\n",
    "for k in range(K3):\n",
    "    a = k//2\n",
    "    c = k//4\n",
    "    b = k%2\n",
    "    axes[k].hist(np.array(view_point)[idx2[c]][idx3[a]][lb3[a]==b], bins=8,range=[0,360],  \n",
    "                 facecolor='green', alpha=0.75, edgecolor='k')\n",
    "\n",
    "plt.show()"
   ]
  },
  {
   "cell_type": "code",
   "execution_count": null,
   "metadata": {
    "collapsed": true
   },
   "outputs": [],
   "source": []
  }
 ],
 "metadata": {
  "kernelspec": {
   "display_name": "Python 3",
   "language": "python",
   "name": "python3"
  },
  "language_info": {
   "codemirror_mode": {
    "name": "ipython",
    "version": 3
   },
   "file_extension": ".py",
   "mimetype": "text/x-python",
   "name": "python",
   "nbconvert_exporter": "python",
   "pygments_lexer": "ipython3",
   "version": "3.6.0"
  }
 },
 "nbformat": 4,
 "nbformat_minor": 0
}
