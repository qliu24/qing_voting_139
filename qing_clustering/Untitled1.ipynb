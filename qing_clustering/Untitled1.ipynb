{
 "cells": [
  {
   "cell_type": "code",
   "execution_count": 130,
   "metadata": {
    "collapsed": false,
    "deletable": true,
    "editable": true
   },
   "outputs": [
    {
     "name": "stdout",
     "output_type": "stream",
     "text": [
      "loading object car\n",
      "loading object aeroplane\n",
      "loading object bicycle\n",
      "loading object bus\n",
      "loading object motorbike\n",
      "loading object train\n",
      "total number of instances 1800\n"
     ]
    },
    {
     "data": {
      "text/plain": [
       "'\\nN=300\\nlayer_feature_dist = layer_feature_dist[0:N]\\nsub_type = sub_type[0:N]\\nview_point = view_point[0:N]\\n'"
      ]
     },
     "execution_count": 130,
     "metadata": {},
     "output_type": "execute_result"
    }
   ],
   "source": [
    "import pickle\n",
    "import numpy as np\n",
    "from vcdist_funcs import *\n",
    "import time\n",
    "\n",
    "file_path = '/mnt/4T-HD/qing/intermediate/feat_pickle/'\n",
    "magic_thh = 0.83\n",
    "N = 300\n",
    "\n",
    "layer_feature_dist = []\n",
    "sub_type = []\n",
    "view_point = []\n",
    "objs = ['car', 'aeroplane', 'bicycle', 'bus', 'motorbike', 'train']\n",
    "# objs = ['car']\n",
    "for oo in objs:\n",
    "    fname = file_path + 'res_info_' + oo + '_train.pickle'\n",
    "    print('loading object {0}'.format(oo))\n",
    "    with open(fname, 'rb') as fh:\n",
    "        l, s, v = pickle.load(fh)\n",
    "        Nidx = np.random.choice(len(s), size=(N,), replace=False)\n",
    "        layer_feature_dist += [l[nii].T for nii in Nidx]\n",
    "        sub_type += [s[nii] for nii in Nidx]\n",
    "        view_point += [v[nii] for nii in Nidx]\n",
    "        \n",
    "print('total number of instances {0}'.format(len(sub_type)))\n",
    "\n",
    "'''\n",
    "N=300\n",
    "layer_feature_dist = layer_feature_dist[0:N]\n",
    "sub_type = sub_type[0:N]\n",
    "view_point = view_point[0:N]\n",
    "'''\n"
   ]
  },
  {
   "cell_type": "code",
   "execution_count": 133,
   "metadata": {
    "collapsed": false
   },
   "outputs": [
    {
     "name": "stdout",
     "output_type": "stream",
     "text": [
      "/home/candy/qing_voting_139/qing_clustering\r\n"
     ]
    }
   ],
   "source": [
    "!pwd"
   ]
  },
  {
   "cell_type": "code",
   "execution_count": 132,
   "metadata": {
    "collapsed": false,
    "deletable": true,
    "editable": true
   },
   "outputs": [
    {
     "name": "stdout",
     "output_type": "stream",
     "text": [
      "16200\n"
     ]
    }
   ],
   "source": [
    "layer_feature_b = [None for nn in range(N*len(objs))]\n",
    "patch_feature_dist = []\n",
    "patch_feature_b = []\n",
    "pos_rec = []\n",
    "patch_size = [7,7]  # h, w of patch\n",
    "for nn in range(N*len(objs)):\n",
    "    layer_feature_b[nn] = (layer_feature_dist[nn]<magic_thh).astype(int)\n",
    "    w,h = layer_feature_b[nn].shape[1:]\n",
    "    \n",
    "    for ww in range(0, w-patch_size[1]+1, 3):\n",
    "        for hh in range(0, h-patch_size[0]+1, 3):\n",
    "            patch_feature_dist.append(layer_feature_dist[nn][:,ww:ww+patch_size[1], hh:hh+patch_size[0]])\n",
    "            patch_feature_b.append(layer_feature_b[nn][:,ww:ww+patch_size[1], hh:hh+patch_size[0]])\n",
    "            pos_rec.append([nn, ww, hh])\n",
    "            \n",
    "            \n",
    "print(len(patch_feature_dist))"
   ]
  },
  {
   "cell_type": "code",
   "execution_count": 127,
   "metadata": {
    "collapsed": false,
    "deletable": true,
    "editable": true
   },
   "outputs": [
    {
     "data": {
      "text/plain": [
       "[322, 36, 0]"
      ]
     },
     "execution_count": 127,
     "metadata": {},
     "output_type": "execute_result"
    }
   ],
   "source": [
    "pos_rec[9111]"
   ]
  },
  {
   "cell_type": "code",
   "execution_count": 128,
   "metadata": {
    "collapsed": false,
    "deletable": true,
    "editable": true
   },
   "outputs": [],
   "source": [
    "patch_feature_dist_f = np.array([dd.reshape(-1,) for dd in patch_feature_dist])\n",
    "patch_feature_dist_f_norm = np.sqrt(np.sum(patch_feature_dist_f**2, 1)).reshape(-1,1)\n",
    "patch_feature_dist_f = patch_feature_dist_f/patch_feature_dist_f_norm"
   ]
  },
  {
   "cell_type": "code",
   "execution_count": 129,
   "metadata": {
    "collapsed": false,
    "deletable": true,
    "editable": true
   },
   "outputs": [
    {
     "name": "stdout",
     "output_type": "stream",
     "text": [
      "(20, 10192)\n"
     ]
    }
   ],
   "source": [
    "from sklearn.cluster import KMeans\n",
    "n_cls=20\n",
    "km = KMeans(n_clusters=n_cls, init='k-means++', random_state=99, n_jobs=-5)\n",
    "assignment = km.fit_predict(patch_feature_dist_f)\n",
    "centers = km.cluster_centers_\n",
    "print(centers.shape)"
   ]
  },
  {
   "cell_type": "code",
   "execution_count": 122,
   "metadata": {
    "collapsed": false,
    "deletable": true,
    "editable": true
   },
   "outputs": [
    {
     "name": "stdout",
     "output_type": "stream",
     "text": [
      "(20, 10192) (11958,)\n",
      "957\n"
     ]
    }
   ],
   "source": [
    "print(centers.shape, assignment.shape)\n",
    "print(sum(assignment==3))"
   ]
  },
  {
   "cell_type": "code",
   "execution_count": 123,
   "metadata": {
    "collapsed": false,
    "deletable": true,
    "editable": true
   },
   "outputs": [
    {
     "name": "stdout",
     "output_type": "stream",
     "text": [
      "The autoreload extension is already loaded. To reload it, use:\n",
      "  %reload_ext autoreload\n"
     ]
    }
   ],
   "source": [
    "import sys\n",
    "import cv2\n",
    "import math\n",
    "import scipy.io as sio\n",
    "sys.path.insert(0, '/home/candy/qing_voting_139/qing_voting_py/')\n",
    "from config_voting import *\n",
    "from myresize import myresize\n",
    "%load_ext autoreload\n",
    "%autoreload 2\n",
    "\n",
    "nni=0\n",
    "set_type = 'train'\n",
    "img_ls = [None for nn in range(N*len(objs))]\n",
    "for category in objs:\n",
    "    dir_img = Dataset['img_dir'].format(category)\n",
    "    dir_anno = Dataset['anno_dir'].format(category)\n",
    "    file_list = Dataset['{0}_list'.format(set_type)].format(category)\n",
    "    assert(os.path.isfile(file_list))\n",
    "    \n",
    "    with open(file_list, 'r') as fh:\n",
    "        content = fh.readlines()\n",
    "        \n",
    "    img_list = [x.strip().split() for x in content]\n",
    "    img_num = N\n",
    "    \n",
    "    for nn in range(img_num):\n",
    "        file_img = os.path.join(dir_img, '{0}.JPEG'.format(img_list[nn][0]))\n",
    "        assert(os.path.isfile(file_img))\n",
    "        img = cv2.imread(file_img)\n",
    "        height, width, _ = img.shape\n",
    "        \n",
    "        file_anno = os.path.join(dir_anno, '{0}.mat'.format(img_list[nn][0]))\n",
    "        assert(os.path.isfile(file_anno))\n",
    "        mat_contents = sio.loadmat(file_anno)\n",
    "        record = mat_contents['record']\n",
    "        objects = record['objects']\n",
    "        bbox = objects[0,0]['bbox'][0,int(img_list[nn][1])-1][0]\n",
    "        bbox = [max(math.ceil(bbox[0]), 1), max(math.ceil(bbox[1]), 1), \\\n",
    "                min(math.floor(bbox[2]), width), min(math.floor(bbox[3]), height)]\n",
    "        \n",
    "        patch = img[bbox[1]-1: bbox[3], bbox[0]-1: bbox[2], :]\n",
    "        img_ls[nni] = myresize(patch, 224, 'short')\n",
    "        nni = nni+1"
   ]
  },
  {
   "cell_type": "code",
   "execution_count": null,
   "metadata": {
    "collapsed": false,
    "deletable": true,
    "editable": true
   },
   "outputs": [],
   "source": []
  },
  {
   "cell_type": "code",
   "execution_count": 124,
   "metadata": {
    "collapsed": false,
    "deletable": true,
    "editable": true,
    "scrolled": false
   },
   "outputs": [
    {
     "data": {
      "text/plain": [
       "'\\nf, ax = plt.subplots(30,10)\\nfor pp in range(30):\\n    idd_s = np.where(assignment==pp)[0]\\n    target = centers[pp].reshape(1,-1)\\n    dist = np.sum((patch_feature_dist_f[idd_s]-target)**2,1)\\n    sort_i = np.argsort(dist)\\n    \\n    for i,idd in enumerate(sort_i[0:10]):\\n        nn, ww, hh = np.array(pos_rec)[idd_s][idd]\\n        patch = img_ls[nn][(hh+3)*16-42:(hh+3)*16-42+100, (ww+3)*16-42:(ww+3)*16-42+100, :]\\n        ax[pp][i].imshow(cv2.cvtColor(patch, cv2.COLOR_BGR2RGB))\\n        \\nplt.show()\\n'"
      ]
     },
     "execution_count": 124,
     "metadata": {},
     "output_type": "execute_result"
    }
   ],
   "source": [
    "import matplotlib.pyplot as plt\n",
    "%matplotlib inline\n",
    "plt.rcParams['figure.figsize'] = (20.0, 200.0) # set default size of plots\n",
    "plt.rcParams['image.interpolation'] = 'nearest'\n",
    "plt.rcParams['image.cmap'] = 'gray'\n",
    "\n",
    "n_exp = 20\n",
    "patch_size=100\n",
    "\n",
    "big_p = np.zeros((10+(patch_size+10)*n_cls, 10+(patch_size+10)*n_exp, 3))\n",
    "for pp in range(n_cls):\n",
    "    idd_s = np.where(assignment==pp)[0]\n",
    "    target = centers[pp].reshape(1,-1)\n",
    "    dist = np.sum((patch_feature_dist_f[idd_s]-target)**2,1)\n",
    "    sort_i = np.argsort(dist)\n",
    "    \n",
    "    for i,idd in enumerate(sort_i[0:n_exp]):\n",
    "        nn, ww, hh = np.array(pos_rec)[idd_s][idd]\n",
    "        patch = img_ls[nn][(hh+3)*16-42:(hh+3)*16-42+patch_size, (ww+3)*16-42:(ww+3)*16-42+patch_size, :]\n",
    "        ph,pw = patch.shape[0:2]\n",
    "        r_start = 10+(patch_size+10)*pp\n",
    "        c_start = 10+(patch_size+10)*i\n",
    "        big_p[r_start:r_start+ph, c_start:c_start+pw,:] = patch\n",
    "\n",
    "cv2.imwrite('./test.png', big_p)\n",
    "'''\n",
    "f, ax = plt.subplots(30,10)\n",
    "for pp in range(30):\n",
    "    idd_s = np.where(assignment==pp)[0]\n",
    "    target = centers[pp].reshape(1,-1)\n",
    "    dist = np.sum((patch_feature_dist_f[idd_s]-target)**2,1)\n",
    "    sort_i = np.argsort(dist)\n",
    "    \n",
    "    for i,idd in enumerate(sort_i[0:10]):\n",
    "        nn, ww, hh = np.array(pos_rec)[idd_s][idd]\n",
    "        patch = img_ls[nn][(hh+3)*16-42:(hh+3)*16-42+100, (ww+3)*16-42:(ww+3)*16-42+100, :]\n",
    "        ax[pp][i].imshow(cv2.cvtColor(patch, cv2.COLOR_BGR2RGB))\n",
    "        \n",
    "plt.show()\n",
    "'''"
   ]
  },
  {
   "cell_type": "code",
   "execution_count": 37,
   "metadata": {
    "collapsed": false,
    "deletable": true,
    "editable": true
   },
   "outputs": [
    {
     "data": {
      "text/plain": [
       "array([ 313,  317,  411,  415,  419,  423,  430,  434,  479,  503,  614,\n",
       "        618,  622,  802,  806,  810,  814,  827,  831,  835,  951,  955,\n",
       "       1051, 1218, 1222, 1226, 1230, 1454, 1458, 1558, 1562, 1566, 1570,\n",
       "       1583, 1638, 1987, 1991, 1995, 1999, 2003, 2007, 2031, 2035, 2039,\n",
       "       2043, 2671, 2675, 2679, 2683, 2687, 2726, 2730, 2750, 2754, 2758,\n",
       "       2935, 2947, 2951, 2955, 2971, 2975, 2979, 3128, 3132, 3154, 3158,\n",
       "       3299, 3303, 3454, 3458, 3462, 3615, 3619, 3623, 3627, 3647, 3651,\n",
       "       3655, 3659, 3674, 3798, 3802, 3806, 3810, 3814, 3870, 4010, 4070,\n",
       "       4074, 4122, 4126, 4159, 4163, 4187, 4226, 4230, 4234, 4238, 4242,\n",
       "       4246, 4346, 4350, 4354, 4358, 4410, 4430, 4450, 4454, 4458, 4462,\n",
       "       4466, 4535, 4539, 4594])"
      ]
     },
     "execution_count": 37,
     "metadata": {},
     "output_type": "execute_result"
    }
   ],
   "source": [
    "idd_ls"
   ]
  },
  {
   "cell_type": "code",
   "execution_count": 39,
   "metadata": {
    "collapsed": false,
    "deletable": true,
    "editable": true
   },
   "outputs": [
    {
     "data": {
      "text/plain": [
       "([5, 22, 2], [5, 24, 2], [7, 6, 6])"
      ]
     },
     "execution_count": 39,
     "metadata": {},
     "output_type": "execute_result"
    }
   ],
   "source": [
    "pos_rec[313], pos_rec[317], pos_rec[411]"
   ]
  },
  {
   "cell_type": "code",
   "execution_count": 41,
   "metadata": {
    "collapsed": false,
    "deletable": true,
    "editable": true
   },
   "outputs": [
    {
     "data": {
      "text/plain": [
       "(224, 336, 3)"
      ]
     },
     "execution_count": 41,
     "metadata": {},
     "output_type": "execute_result"
    }
   ],
   "source": [
    "img_ls[5].shape"
   ]
  },
  {
   "cell_type": "code",
   "execution_count": null,
   "metadata": {
    "collapsed": true,
    "deletable": true,
    "editable": true
   },
   "outputs": [],
   "source": []
  }
 ],
 "metadata": {
  "kernelspec": {
   "display_name": "Python 3",
   "language": "python",
   "name": "python3"
  },
  "language_info": {
   "codemirror_mode": {
    "name": "ipython",
    "version": 3
   },
   "file_extension": ".py",
   "mimetype": "text/x-python",
   "name": "python",
   "nbconvert_exporter": "python",
   "pygments_lexer": "ipython3",
   "version": "3.5.2"
  }
 },
 "nbformat": 4,
 "nbformat_minor": 2
}
