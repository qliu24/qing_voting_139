{
 "cells": [
  {
   "cell_type": "code",
   "execution_count": 9,
   "metadata": {},
   "outputs": [
    {
     "name": "stdout",
     "output_type": "stream",
     "text": [
      "2017-07-31 18:41:42.905937: Start Init\n",
      "INFO:tensorflow:Restoring parameters from /export/home/qliu24/qing_voting_139/qing_voting_py/cache/checkpoints_vgg/vgg_16.ckpt\n",
      "2017-07-31 18:41:44.336548: Finish Init\n"
     ]
    }
   ],
   "source": [
    "import tensorflow as tf\n",
    "import tensorflow.contrib.slim as slim\n",
    "from tensorflow.python.client import timeline\n",
    "from datetime import datetime\n",
    "import network as vgg\n",
    "\n",
    "def get_init_restorer():\n",
    "    variables_to_restore = []\n",
    "    # for var in slim.get_model_variables():\n",
    "    for var in tf.global_variables():\n",
    "        variables_to_restore.append(var)\n",
    "    \n",
    "    return tf.train.Saver(variables_to_restore)\n",
    "\n",
    "scale_size = 224\n",
    "cache_folder = '/export/home/qliu24/qing_voting_139/qing_voting_py/cache/'\n",
    "checkpoints_dir = os.path.join(cache_folder, 'checkpoints_vgg')\n",
    "tf.logging.set_verbosity(tf.logging.INFO)\n",
    "with tf.device('/cpu:0'):\n",
    "    input_images = tf.placeholder(tf.float32, [1, None, None, 3])\n",
    "\n",
    "vgg_var_scope = 'vgg_16'\n",
    "with tf.variable_scope(vgg_var_scope, reuse=False):\n",
    "    with slim.arg_scope(vgg.vgg_arg_scope()):\n",
    "        _, end_points = vgg.vgg_16(input_images)\n",
    "        \n",
    "restorer = get_init_restorer()\n",
    "config = tf.ConfigProto()\n",
    "config.gpu_options.allow_growth = True\n",
    "init_op = tf.global_variables_initializer()\n",
    "# Run the session:\n",
    "sess = tf.Session(config=config)\n",
    "# init\n",
    "print(str(datetime.now()) + ': Start Init')\n",
    "\n",
    "restorer.restore(sess, os.path.join(checkpoints_dir, 'vgg_16.ckpt'))\n",
    "\n",
    "print(str(datetime.now()) + ': Finish Init')"
   ]
  },
  {
   "cell_type": "code",
   "execution_count": 6,
   "metadata": {},
   "outputs": [
    {
     "name": "stdout",
     "output_type": "stream",
     "text": [
      "(224, 224, 3) 7.73181 10.0 -10.0\n",
      "total number of images: 1000\n"
     ]
    }
   ],
   "source": [
    "import math\n",
    "import pickle\n",
    "from scipy.spatial.distance import cdist\n",
    "import scipy.io as sio\n",
    "from myresize import myresize\n",
    "import numpy as np\n",
    "import sys\n",
    "import os\n",
    "import cv2\n",
    "\n",
    "adv_unv_file = '/export/home/qliu24/VC_adv_data/qing/VGG_unv/VGG-16.mat'\n",
    "matcontent = sio.loadmat(adv_unv_file)\n",
    "r = matcontent['r']\n",
    "print(r.shape, np.mean(np.absolute(r)), np.max(r), np.min(r))\n",
    "\n",
    "scale_size = 224\n",
    "featDim = 512\n",
    "img_mean = np.array([104., 117., 124.]).reshape(1,1,3)\n",
    "\n",
    "category = 'car'\n",
    "target = 'bus'\n",
    "\n",
    "dataset_suffix = 'mergelist_rand'\n",
    "Dataset = dict()\n",
    "Dataset['img_dir'] = '/export/home/qliu24/dataset/PASCAL3D+_release1.1/Images/{0}_imagenet/'\n",
    "Dataset['anno_dir'] = '/export/home/qliu24/dataset/PASCAL3D+_release1.1/Annotations/{0}_imagenet/'\n",
    "Dataset['gt_dir'] = '/export/home/qliu24/qing_voting_139/qing_voting_py/intermediate/ground_truth_data/'\n",
    "Dataset['train_list'] = os.path.join(Dataset['gt_dir'], '{0}_'+ '{0}_train.txt'.format(dataset_suffix))\n",
    "Dataset['test_list'] = os.path.join(Dataset['gt_dir'], '{0}_'+ '{0}_test.txt'.format(dataset_suffix))\n",
    "Dataset['adv_dir'] = '/export/home/qliu24/VC_adv_data/qing/VGG_adv/{}_{}'\n",
    "\n",
    "dir_img = Dataset['img_dir'].format(category)\n",
    "file_list = Dataset['test_list'].format(category)\n",
    "\n",
    "with open(file_list, 'r') as fh:\n",
    "    content = fh.readlines()\n",
    "    \n",
    "img_list = [x.strip().split() for x in content]\n",
    "img_num = len(img_list)\n",
    "print('total number of images: {0}'.format(img_num))\n",
    "\n"
   ]
  },
  {
   "cell_type": "code",
   "execution_count": 7,
   "metadata": {},
   "outputs": [
    {
     "name": "stdout",
     "output_type": "stream",
     "text": [
      "1000\n"
     ]
    }
   ],
   "source": [
    "img_ori=[]\n",
    "for nn in range(img_num):\n",
    "#     file_adv = os.path.join(dir_adv, '{0}.pickle'.format(img_list[nn][0]))\n",
    "#     assert(os.path.isfile(file_adv))\n",
    "#     with open(file_adv, 'rb') as fh:\n",
    "#         im_ori, _, im_fool = pickle.load(fh)\n",
    "    \n",
    "    file_img = os.path.join(dir_img, '{0}.JPEG'.format(img_list[nn][0]))\n",
    "    assert(os.path.isfile(file_img))\n",
    "    im_ori = cv2.imread(file_img)\n",
    "    # im_ori = myresize(im_ori, scale_size, 'short')\n",
    "    im_ori = cv2.resize(im_ori, (scale_size, scale_size))\n",
    "    \n",
    "    img_ori.append(im_ori)\n",
    "    \n",
    "# print(np.mean(r_ls1), np.min(r_ls1), np.max(r_ls1))\n",
    "# print(np.mean(r_ls2), np.min(r_ls2), np.max(r_ls2))\n",
    "print(len(img_ori))"
   ]
  },
  {
   "cell_type": "code",
   "execution_count": 11,
   "metadata": {},
   "outputs": [
    {
     "name": "stdout",
     "output_type": "stream",
     "text": [
      "0 50 100 150 200 250 300 350 400 450 500 550 600 650 700 750 800 850 900 950 "
     ]
    }
   ],
   "source": [
    "label_ls = []\n",
    "prob_ls = []\n",
    "# r = np.expand_dims(r, axis=0)[:,:,:,[2,1,0]]\n",
    "for nn in range(img_num):\n",
    "    if nn%50==0:\n",
    "        print(nn, end=' ', flush=True)\n",
    "        \n",
    "    img = np.copy(img_ori[nn]).astype('float64')\n",
    "    img -= img_mean\n",
    "    img = np.expand_dims(img, axis=0)\n",
    "    scores = sess.run(end_points['vgg_16/fc8/reduced'], feed_dict={input_images: img})[0]\n",
    "    probs_ori = np.exp(scores)/np.sum(np.exp(scores))\n",
    "    \n",
    "    img += r\n",
    "    scores = sess.run(end_points['vgg_16/fc8/reduced'], feed_dict={input_images: img})[0]\n",
    "    probs_fool = np.exp(scores)/np.sum(np.exp(scores))\n",
    "    \n",
    "    label_ls.append((np.argmax(probs_ori), np.argmax(probs_fool)))\n",
    "    prob_ls.append((np.max(probs_ori), np.max(probs_fool)))"
   ]
  },
  {
   "cell_type": "code",
   "execution_count": 13,
   "metadata": {},
   "outputs": [],
   "source": [
    "label_ls = np.array(label_ls).astype(int)\n",
    "prob_ls = np.array(prob_ls)"
   ]
  },
  {
   "cell_type": "code",
   "execution_count": 16,
   "metadata": {},
   "outputs": [
    {
     "name": "stdout",
     "output_type": "stream",
     "text": [
      "275\n",
      "902\n",
      "389\n"
     ]
    }
   ],
   "source": [
    "car_labels = [436, 468, 511, 609, 627, 656, 717, 734, 751, 817]\n",
    "print(np.sum([label_ls[nn,0] == label_ls[nn,1]for nn in range(label_ls.shape[0])]))\n",
    "print(np.sum([label_ls[nn,0] in car_labels for nn in range(label_ls.shape[0])]))\n",
    "print(np.sum([label_ls[nn,1] in car_labels for nn in range(label_ls.shape[0])]))"
   ]
  },
  {
   "cell_type": "code",
   "execution_count": null,
   "metadata": {
    "collapsed": true
   },
   "outputs": [],
   "source": []
  }
 ],
 "metadata": {
  "kernelspec": {
   "display_name": "Python 3",
   "language": "python",
   "name": "python3"
  },
  "language_info": {
   "codemirror_mode": {
    "name": "ipython",
    "version": 3
   },
   "file_extension": ".py",
   "mimetype": "text/x-python",
   "name": "python",
   "nbconvert_exporter": "python",
   "pygments_lexer": "ipython3",
   "version": "3.6.1"
  }
 },
 "nbformat": 4,
 "nbformat_minor": 2
}
