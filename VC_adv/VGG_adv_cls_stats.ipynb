{
 "cells": [
  {
   "cell_type": "code",
   "execution_count": 4,
   "metadata": {
    "collapsed": true
   },
   "outputs": [],
   "source": [
    "import pickle\n",
    "import numpy as np\n",
    "from scipy.spatial.distance import cdist\n",
    "\n",
    "def get_fire_stats(layer_feat_b):\n",
    "    stats1 = []\n",
    "    stats2 = []\n",
    "    for nn in range(len(layer_feat_b)):\n",
    "        stats1.append(np.mean(np.sum(layer_feat_b[nn], axis=2)))\n",
    "        stats2.append(np.sum(np.sum(layer_feat_b[nn], axis=2)==0)/(layer_feat_b[nn].shape[0]*layer_feat_b[nn].shape[1]))\n",
    "        \n",
    "    return np.mean(stats1), np.mean(stats2)\n",
    "\n",
    "\n",
    "def get_IOU(layer_feat_b1, layer_feat_b2):\n",
    "    stats1 = []\n",
    "    stats2 = []\n",
    "    stats3 = []\n",
    "    for nn in range(len(layer_feat_b1)):\n",
    "        intr = np.sum(np.logical_and(layer_feat_b1[nn], layer_feat_b2[nn]))\n",
    "        union = np.sum(np.logical_or(layer_feat_b1[nn], layer_feat_b2[nn]))\n",
    "        stats1.append(intr/union)\n",
    "        stats2.append(intr/np.sum(layer_feat_b1[nn]))\n",
    "        stats3.append(intr/np.sum(layer_feat_b2[nn]))\n",
    "        \n",
    "    return(np.mean(stats1), np.mean(stats2), np.mean(stats3))\n",
    "\n",
    "\n",
    "def get_detail(layer_feat_b1, layer_feat_b2):\n",
    "    stats1 = []\n",
    "    stats2 = []\n",
    "    zero_cnt = 0\n",
    "    single_cnt = 0\n",
    "    for nn in range(len(layer_feat_b1)):\n",
    "        rr, cc, vch = np.where(layer_feat_b1[nn] != layer_feat_b2[nn])\n",
    "        for ri, ci in zip(rr, cc):\n",
    "            stats1.append(np.sum(layer_feat_b1[nn][ri, ci]))\n",
    "            stats2.append(np.sum(layer_feat_b2[nn][ri, ci]))\n",
    "            if np.sum(layer_feat_b1[nn][ri, ci]) == 0:\n",
    "                zero_cnt += 1\n",
    "                \n",
    "            if np.sum(layer_feat_b2[nn][ri, ci]) == 0:\n",
    "                single_cnt += 1\n",
    "            \n",
    "                \n",
    "    return(np.mean(stats1), np.mean(stats2), zero_cnt, single_cnt)"
   ]
  },
  {
   "cell_type": "code",
   "execution_count": 14,
   "metadata": {},
   "outputs": [
    {
     "name": "stdout",
     "output_type": "stream",
     "text": [
      "basic per-pixel-firing and coverage:\n",
      "(2.0722921267927354, 0.23907610497185605)\n",
      "(1.9321953762227246, 0.2686864945762546)\n",
      "IOU:\n",
      "(0.69101815863622884, 0.78911390017793759, 0.84415350857147819)\n",
      "diff/total pixel: 157496/392756 (0.4010021489168848)\n",
      "details in diff pixel: 0.12259993904607101, 0.27416569309696753\n"
     ]
    }
   ],
   "source": [
    "category = 'car'\n",
    "target = 'bus'\n",
    "magic_thh = 0.47\n",
    "\n",
    "adv_feat_file = '/export/home/qliu24/VC_adv_data/qing/VGG_adv/feat/pool4FeatVC_adv_{}_{}.pickle'.format(category, target)\n",
    "with open(adv_feat_file, 'rb') as fh:\n",
    "    layer_feature, layer_feature_fool = pickle.load(fh)\n",
    "    \n",
    "dict_file='/export/home/qliu24/qing_voting_139/qing_voting_py/data/dictionary_PASCAL3D+_all_VGG16_pool4_K200_vMFMM30.pickle'\n",
    "\n",
    "with open(dict_file, 'rb') as fh:\n",
    "    _, centers, _ = pickle.load(fh)\n",
    "\n",
    "N = len(layer_feature)\n",
    "r_set = [None for nn in range(N)]\n",
    "for nn in range(N):\n",
    "    iheight,iwidth = layer_feature[nn].shape[0:2]\n",
    "    lff = layer_feature[nn].reshape(-1, 512)\n",
    "    lff_norm = lff/np.sqrt(np.sum(lff**2, 1)).reshape(-1,1)\n",
    "    r_set[nn] = cdist(lff_norm, centers, 'cosine').reshape(iheight,iwidth,-1)\n",
    "    \n",
    "layer_feature_b = [None for nn in range(N)]\n",
    "for nn in range(N):\n",
    "    layer_feature_b[nn] = (r_set[nn]<magic_thh).astype(int)\n",
    "    \n",
    "    \n",
    "r_set_fool = [None for nn in range(N)]\n",
    "for nn in range(N):\n",
    "    iheight,iwidth = layer_feature_fool[nn].shape[0:2]\n",
    "    lff = layer_feature_fool[nn].reshape(-1, 512)\n",
    "    lff_norm = lff/np.sqrt(np.sum(lff**2, 1)).reshape(-1,1)\n",
    "    r_set_fool[nn] = cdist(lff_norm, centers, 'cosine').reshape(iheight,iwidth,-1)\n",
    "    \n",
    "layer_feature_b_fool = [None for nn in range(N)]\n",
    "for nn in range(N):\n",
    "    layer_feature_b_fool[nn] = (r_set_fool[nn]<magic_thh).astype(int)\n",
    "    \n",
    "print('basic per-pixel-firing and coverage:')\n",
    "print(get_fire_stats(layer_feature_b))\n",
    "print(get_fire_stats(layer_feature_b_fool))  \n",
    "\n",
    "print('IOU:')\n",
    "print(get_IOU(layer_feature_b,layer_feature_b_fool))\n",
    "\n",
    "\n",
    "a,b,c,d = get_detail(layer_feature_b,layer_feature_b_fool)\n",
    "total_pixel = np.sum([np.prod(lfb.shape[0:2]) for lfb in layer_feature_b])\n",
    "total_diff_pixel = np.sum([np.sum(np.sum(layer_feature_b[nn]!=layer_feature_b_fool[nn], axis=2)!=0) for nn in range(len(layer_feature_b))])\n",
    "print('diff/total pixel: {}/{} ({})'.format(total_diff_pixel, total_pixel, total_diff_pixel/total_pixel))\n",
    "print('details in diff pixel: {}, {}'.format(c/total_diff_pixel, d/total_diff_pixel))"
   ]
  },
  {
   "cell_type": "code",
   "execution_count": 10,
   "metadata": {},
   "outputs": [
    {
     "data": {
      "text/plain": [
       "0.1521275295603377"
      ]
     },
     "execution_count": 10,
     "metadata": {},
     "output_type": "execute_result"
    }
   ],
   "source": [
    "59749/total_pixel"
   ]
  },
  {
   "cell_type": "code",
   "execution_count": null,
   "metadata": {
    "collapsed": true
   },
   "outputs": [],
   "source": []
  }
 ],
 "metadata": {
  "kernelspec": {
   "display_name": "Python 3",
   "language": "python",
   "name": "python3"
  },
  "language_info": {
   "codemirror_mode": {
    "name": "ipython",
    "version": 3
   },
   "file_extension": ".py",
   "mimetype": "text/x-python",
   "name": "python",
   "nbconvert_exporter": "python",
   "pygments_lexer": "ipython3",
   "version": "3.6.1"
  }
 },
 "nbformat": 4,
 "nbformat_minor": 2
}
