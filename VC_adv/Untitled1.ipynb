{
 "cells": [
  {
   "cell_type": "code",
   "execution_count": 1,
   "metadata": {
    "scrolled": false
   },
   "outputs": [
    {
     "name": "stdout",
     "output_type": "stream",
     "text": [
      "2017-07-26 16:47:12.219586: Start Init\n",
      "INFO:tensorflow:Restoring parameters from /export/home/qliu24/qing_voting_139/qing_voting_py/cache/checkpoints_vgg/vgg_16.ckpt\n",
      "2017-07-26 16:47:13.706342: Finish Init\n"
     ]
    }
   ],
   "source": [
    "import tensorflow as tf\n",
    "import numpy as np\n",
    "import tensorflow.contrib.slim as slim\n",
    "import sys\n",
    "import os\n",
    "import cv2\n",
    "from tensorflow.python.client import timeline\n",
    "from datetime import datetime\n",
    "import network as vgg\n",
    "\n",
    "def get_init_restorer():\n",
    "    variables_to_restore = []\n",
    "    # for var in slim.get_model_variables():\n",
    "    for var in tf.global_variables():\n",
    "        variables_to_restore.append(var)\n",
    "    \n",
    "    return tf.train.Saver(variables_to_restore)\n",
    "\n",
    "scale_size = vgg.vgg_16.default_image_size\n",
    "cache_folder = '/export/home/qliu24/qing_voting_139/qing_voting_py/cache/'\n",
    "checkpoints_dir = os.path.join(cache_folder, 'checkpoints_vgg')\n",
    "tf.logging.set_verbosity(tf.logging.INFO)\n",
    "with tf.device('/cpu:0'):\n",
    "    input_images = tf.placeholder(tf.float32, [1, None, None, 3])\n",
    "\n",
    "vgg_var_scope = 'vgg_16'\n",
    "with tf.variable_scope(vgg_var_scope, reuse=False):\n",
    "    with slim.arg_scope(vgg.vgg_arg_scope()):\n",
    "        _, end_points = vgg.vgg_16(input_images)\n",
    "        \n",
    "restorer = get_init_restorer()\n",
    "config = tf.ConfigProto()\n",
    "config.gpu_options.allow_growth = True\n",
    "init_op = tf.global_variables_initializer()\n",
    "# Run the session:\n",
    "sess = tf.Session(config=config)\n",
    "# init\n",
    "print(str(datetime.now()) + ': Start Init')\n",
    "\n",
    "restorer.restore(sess, os.path.join(checkpoints_dir, 'vgg_16.ckpt'))\n",
    "\n",
    "print(str(datetime.now()) + ': Finish Init')"
   ]
  },
  {
   "cell_type": "code",
   "execution_count": 3,
   "metadata": {},
   "outputs": [
    {
     "data": {
      "text/plain": [
       "<tf.Tensor 'vgg_16/fc8/reduced:0' shape=(1, 1000) dtype=float32>"
      ]
     },
     "execution_count": 3,
     "metadata": {},
     "output_type": "execute_result"
    }
   ],
   "source": [
    "\n",
    "\n",
    "end_points['vgg_16/fc8/reduced']"
   ]
  },
  {
   "cell_type": "code",
   "execution_count": null,
   "metadata": {
    "collapsed": true
   },
   "outputs": [],
   "source": [
    "import math\n",
    "import pickle\n",
    "from scipy.spatial.distance import cdist\n",
    "import scipy.io as sio\n",
    "from myresize import myresize\n",
    "\n",
    "scale_size = 224\n",
    "featDim = 512\n",
    "img_mean = np.array([104., 117., 124.]).reshape(1,1,3)\n",
    "\n",
    "dir_mat = '/export/home/qliu24/VC_adv_data/cihang/adv_cls_patches/adv_mat_file/'\n",
    "file_list = '/export/home/qliu24/VC_adv_data/cihang/adv_cls_patches/car_test.txt'\n",
    "with open(file_list, 'r') as fh:\n",
    "    content = fh.readlines()\n",
    "    \n",
    "img_list = [x.strip().split() for x in content]\n",
    "img_num = len(img_list)\n",
    "print('total number of images: {0}'.format(img_num))\n",
    "\n",
    "img_ori=[]\n",
    "img_fool=[]\n",
    "for nn in range(10):\n",
    "    file_mat = os.path.join(dir_mat, '{0}.mat'.format(img_list[nn][0]))\n",
    "    assert(os.path.isfile(file_mat))\n",
    "    matcontent = sio.loadmat(file_mat)\n",
    "    im_ori = matcontent['im_ori'][:,:,[2,1,0]].astype('float64')\n",
    "    im_ori -= img_mean\n",
    "    im_ori= \n",
    "    im_fool = matcontent['im_fool'][:,:,[2,1,0]]"
   ]
  }
 ],
 "metadata": {
  "kernelspec": {
   "display_name": "Python 3",
   "language": "python",
   "name": "python3"
  },
  "language_info": {
   "codemirror_mode": {
    "name": "ipython",
    "version": 3
   },
   "file_extension": ".py",
   "mimetype": "text/x-python",
   "name": "python",
   "nbconvert_exporter": "python",
   "pygments_lexer": "ipython3",
   "version": "3.6.1"
  }
 },
 "nbformat": 4,
 "nbformat_minor": 2
}
