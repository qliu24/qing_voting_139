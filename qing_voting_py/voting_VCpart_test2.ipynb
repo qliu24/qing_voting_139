{
 "cells": [
  {
   "cell_type": "code",
   "execution_count": 10,
   "metadata": {},
   "outputs": [
    {
     "name": "stdout",
     "output_type": "stream",
     "text": [
      "loading object car\n",
      "total number of instances 1000\n",
      "14 54 158\n",
      "118\n"
     ]
    }
   ],
   "source": [
    "import pickle\n",
    "import numpy as np\n",
    "import matplotlib.pyplot as plt\n",
    "from sklearn.cluster import KMeans\n",
    "from sklearn.mixture import BayesianGaussianMixture\n",
    "from nms import nms\n",
    "from config_voting import *\n",
    "%matplotlib inline\n",
    "\n",
    "file_path = '/export/home/qliu24/qing_voting_data/intermediate/feat_pickle_VGG/'\n",
    "\n",
    "\n",
    "oo = 'car'\n",
    "fname = file_path + 'res_info_' + oo + '_train_carVC.pickle'\n",
    "print('loading object {0}'.format(oo))\n",
    "with open(fname, 'rb') as fh:\n",
    "    layer_feature_dist, _, view_point = pickle.load(fh)\n",
    "    \n",
    "asp_ratio = [layer_feature_dist[ii].shape[1]/layer_feature_dist[ii].shape[0] for ii in range(len(layer_feature_dist))]\n",
    "        \n",
    "N = len(layer_feature_dist)\n",
    "print('total number of instances {0}'.format(N))\n",
    "\n",
    "# load original pool4 features\n",
    "file_cache_feat = '/export/home/qliu24/qing_voting_data/intermediate/feat_VGG/car_mergelist_rand_train_carVC.pickle'\n",
    "with open(file_cache_feat, 'rb') as fh:\n",
    "    feat_set, layer_feature_dist = pickle.load(fh)\n",
    "    \n",
    "\n",
    "magic_thh = 0.85\n",
    "\n",
    "layer_feature_b = [None for nn in range(N)]\n",
    "for nn in range(N):\n",
    "    layer_feature_b[nn] = (layer_feature_dist[nn]<magic_thh).astype(int)\n",
    "    \n",
    "view_point = np.array(view_point)\n",
    "idx_s = np.where(np.logical_and(view_point>=67.5,view_point<=112.5))[0]\n",
    "\n",
    "max_2 = max([layer_feature_b[nn].shape[2] for nn in idx_s])\n",
    "\n",
    "max_1 = max([layer_feature_b[nn].shape[1] for nn in idx_s])\n",
    "\n",
    "max_0 = max([layer_feature_b[nn].shape[0] for nn in idx_s])\n",
    "print(max_0, max_1, max_2)\n",
    "print(len(idx_s))"
   ]
  },
  {
   "cell_type": "code",
   "execution_count": 11,
   "metadata": {},
   "outputs": [
    {
     "name": "stdout",
     "output_type": "stream",
     "text": [
      "13992\n"
     ]
    }
   ],
   "source": [
    "bg_feat_set = []\n",
    "for nn in idx_s:\n",
    "    row_ls, col_ls = np.where(np.sum(layer_feature_b[nn], axis=2)==0)\n",
    "    if len(row_ls)==0:\n",
    "        continue\n",
    "        \n",
    "    for pos in zip(row_ls, col_ls):\n",
    "        bg_feat_set.append(feat_set[nn][pos[0],pos[1]])\n",
    "        \n",
    "print(len(bg_feat_set))\n",
    "\n",
    "bg_feat_set = np.array(bg_feat_set)\n",
    "bg_feat_set = bg_feat_set/np.sqrt(np.sum(bg_feat_set**2, axis=1).reshape(-1,1))"
   ]
  },
  {
   "cell_type": "code",
   "execution_count": 12,
   "metadata": {},
   "outputs": [
    {
     "name": "stdout",
     "output_type": "stream",
     "text": [
      "(14, 40, 158)\n"
     ]
    }
   ],
   "source": [
    "layer_fire_nms = [np.zeros_like(layer_feature_b[nn]) for nn in idx_s]\n",
    "for nni,nn in enumerate(idx_s):\n",
    "    for vc_i in range(max_2):\n",
    "        ri, ci = np.where(layer_feature_b[nn][:,:,vc_i]==1)\n",
    "        if ri.size==0:\n",
    "            continue\n",
    "        \n",
    "        r_list = Astride * ri + Arf/2 - Apad\n",
    "        c_list = Astride * ci + Arf/2 - Apad\n",
    "        bb_loc = np.column_stack([c_list-Arf/2, r_list-Arf/2, c_list+Arf/2, r_list+Arf/2])\n",
    "        det = layer_feature_dist[nn][ri,ci,vc_i]\n",
    "        \n",
    "        bb_loc_ = np.column_stack([bb_loc, -det])\n",
    "        nms_list = nms(bb_loc_, 0.05)\n",
    "        layer_fire_nms[nni][ri[nms_list], ci[nms_list], vc_i] = 1\n",
    "        \n",
    "print(layer_fire_nms[0].shape)"
   ]
  },
  {
   "cell_type": "code",
   "execution_count": 9,
   "metadata": {},
   "outputs": [
    {
     "name": "stdout",
     "output_type": "stream",
     "text": [
      "1 3\n",
      "2 4\n",
      "3 5\n"
     ]
    }
   ],
   "source": [
    "for pp1,pp2 in zip([1,2,3],[3,4,5]):\n",
    "    print(pp1,pp2)"
   ]
  },
  {
   "cell_type": "code",
   "execution_count": 13,
   "metadata": {},
   "outputs": [
    {
     "data": {
      "image/png": "[encoded data removed]",
      "text/plain": [
       "<matplotlib.figure.Figure at 0x7f22a41b01d0>"
      ]
     },
     "metadata": {},
     "output_type": "display_data"
    },
    {
     "data": {
      "image/png": "[encoded data removed]",
      "text/plain": [
       "<matplotlib.figure.Figure at 0x7f22148f77b8>"
      ]
     },
     "metadata": {},
     "output_type": "display_data"
    },
    {
     "data": {
      "image/png": "[encoded data removed]",
      "text/plain": [
       "<matplotlib.figure.Figure at 0x7f221289ceb8>"
      ]
     },
     "metadata": {},
     "output_type": "display_data"
    },
    {
     "data": {
      "image/png": "[encoded data removed]",
      "text/plain": [
       "<matplotlib.figure.Figure at 0x7f22149acdd8>"
      ]
     },
     "metadata": {},
     "output_type": "display_data"
    }
   ],
   "source": [
    "# bg_feat = np.mean(bg_feat_set,axis=0)\n",
    "# bg_feat = np.random.random(512)\n",
    "# bg_feat = bg_feat/np.sqrt(np.sum(bg_feat**2))\n",
    "\n",
    "vc_i=143\n",
    "nn=idx_s[22]\n",
    "rnum, colnum = layer_feature_dist[nn].shape[0:2]\n",
    "rst_diff = np.zeros((rnum, colnum))\n",
    "for rr in range(rnum):\n",
    "    for cc in range(colnum):\n",
    "        ff = feat_set[nn][rr,cc]\n",
    "        ff = ff/np.sqrt(np.sum(ff**2))\n",
    "        \n",
    "        diff_tmp = []\n",
    "        \n",
    "        for bgi in np.random.choice(len(bg_feat_set),size=(100,),replace=False):\n",
    "            bg_ff = bg_feat_set[bgi]\n",
    "            diff_tmp.append(np.sum((ff-bg_ff)**2))\n",
    "        \n",
    "        rst_diff[rr,cc] = np.mean(diff_tmp) - layer_feature_dist[nn][rr,cc,vc_i]**2\n",
    "        \n",
    "        # rst_diff[rr,cc] = np.sum((ff-bg_feat)**2) - layer_feature_dist[nn][rr,cc,vc_i]**2\n",
    "            \n",
    "plt.imshow(rst_diff, cmap='hot', interpolation='nearest')\n",
    "plt.show()\n",
    "\n",
    "plt.imshow(-layer_feature_dist[nn][:,:,vc_i]**2, cmap='hot', interpolation='nearest')\n",
    "plt.show()\n",
    "\n",
    "plt.imshow(layer_fire_nms[22][:,:,vc_i], cmap='hot', interpolation='nearest')\n",
    "plt.show()\n",
    "\n",
    "plt.imshow(layer_feature_b[nn][:,:,vc_i], cmap='hot', interpolation='nearest')\n",
    "plt.show()"
   ]
  },
  {
   "cell_type": "code",
   "execution_count": 14,
   "metadata": {},
   "outputs": [],
   "source": [
    "heat_map_nms = np.zeros((max_0,max_1,max_2))\n",
    "for ni in range(len(idx_s)):\n",
    "    ri,ci,chi = layer_fire_nms[ni].shape\n",
    "    assert(chi==max_2)\n",
    "    diff_r_1 = int((max_0-ri)/2)\n",
    "    diff_r_2 = max_0-ri-diff_r_1\n",
    "    \n",
    "    diff_c_1 = int((max_1-ci)/2)\n",
    "    diff_c_2 = max_1-ci-diff_c_1\n",
    "    \n",
    "    heat_map_nms += np.pad(layer_fire_nms[ni], ((diff_r_1, diff_r_2),(diff_c_1, diff_c_2),(0,0)), 'constant', constant_values=0)"
   ]
  },
  {
   "cell_type": "code",
   "execution_count": 15,
   "metadata": {},
   "outputs": [
    {
     "data": {
      "image/png": "[encoded data removed]",
      "text/plain": [
       "<matplotlib.figure.Figure at 0x7f22a41bc908>"
      ]
     },
     "metadata": {},
     "output_type": "display_data"
    },
    {
     "data": {
      "image/png": "[encoded data removed]",
      "text/plain": [
       "<matplotlib.figure.Figure at 0x7f2214b09940>"
      ]
     },
     "metadata": {},
     "output_type": "display_data"
    },
    {
     "data": {
      "image/png": "[encoded data removed]",
      "text/plain": [
       "<matplotlib.figure.Figure at 0x7f22127dcac8>"
      ]
     },
     "metadata": {},
     "output_type": "display_data"
    },
    {
     "data": {
      "image/png": "[encoded data removed]",
      "text/plain": [
       "<matplotlib.figure.Figure at 0x7f22128a4668>"
      ]
     },
     "metadata": {},
     "output_type": "display_data"
    },
    {
     "data": {
      "image/png": "[encoded data removed]",
      "text/plain": [
       "<matplotlib.figure.Figure at 0x7f2214a16f60>"
      ]
     },
     "metadata": {},
     "output_type": "display_data"
    }
   ],
   "source": [
    "for vc_i in [1,15,46,65,143]:\n",
    "    plt.imshow(heat_map_nms[:,:,vc_i]/len(idx_s), cmap='hot', interpolation='nearest')\n",
    "    plt.show()"
   ]
  },
  {
   "cell_type": "code",
   "execution_count": 16,
   "metadata": {},
   "outputs": [
    {
     "data": {
      "image/png": "[encoded data removed]",
      "text/plain": [
       "<matplotlib.figure.Figure at 0x7f22a422f208>"
      ]
     },
     "metadata": {},
     "output_type": "display_data"
    },
    {
     "data": {
      "image/png": "[encoded data removed]",
      "text/plain": [
       "<matplotlib.figure.Figure at 0x7f2212634588>"
      ]
     },
     "metadata": {},
     "output_type": "display_data"
    },
    {
     "data": {
      "image/png": "[encoded data removed]",
      "text/plain": [
       "<matplotlib.figure.Figure at 0x7f2214a16cf8>"
      ]
     },
     "metadata": {},
     "output_type": "display_data"
    },
    {
     "data": {
      "image/png": "[encoded data removed]",
      "text/plain": [
       "<matplotlib.figure.Figure at 0x7f2214ac32e8>"
      ]
     },
     "metadata": {},
     "output_type": "display_data"
    },
    {
     "data": {
      "image/png": "[encoded data removed]",
      "text/plain": [
       "<matplotlib.figure.Figure at 0x7f22149a9dd8>"
      ]
     },
     "metadata": {},
     "output_type": "display_data"
    }
   ],
   "source": [
    "from copy import *\n",
    "heat_map_nms_processed = np.zeros_like(heat_map_nms)\n",
    "for vc_i in range(heat_map_nms.shape[2]):\n",
    "    freq = heat_map_nms[:,:,vc_i]/len(idx_s)\n",
    "    thrh = np.mean(freq[freq!=0])\n",
    "    # print(thrh)\n",
    "    freq[freq <= thrh]=0\n",
    "    heat_map_nms_processed[:,:,vc_i] = deepcopy(freq)\n",
    "    \n",
    "for vc_i in [1,15,46,65,143]:\n",
    "    plt.imshow(heat_map_nms_processed[:,:,vc_i], cmap='hot', interpolation='nearest')\n",
    "    plt.show()"
   ]
  },
  {
   "cell_type": "code",
   "execution_count": 21,
   "metadata": {
    "scrolled": true
   },
   "outputs": [
    {
     "name": "stdout",
     "output_type": "stream",
     "text": [
      "0.973788354494 0.173006181549\n",
      "0.994575151229\n",
      "[ 3  9 11  8 20 18 18 19 17 21]\n",
      "[ 0.56287003  0.63178551  0.700701    0.76961648  0.83853197  0.90744745\n",
      "  0.97636294  1.04527842  1.11419391  1.1831094   1.25202488]\n",
      "0.858001560304 0.155561216651\n",
      "0.851806850057\n",
      "[ 7 12 21 23 24 17 19  9  5  7]\n",
      "[ 0.54218968  0.61102787  0.67986606  0.74870424  0.81754243  0.88638061\n",
      "  0.9552188   1.02405699  1.09289517  1.16173336  1.23057154]\n",
      "0.811962286832 0.155524185851\n",
      "0.797778569825\n",
      "[ 9 17 27 26 21 16 11  8  5  4]\n",
      "[ 0.5286076   0.59827362  0.66793964  0.73760566  0.80727168  0.87693771\n",
      "  0.94660373  1.01626975  1.08593577  1.15560179  1.22526781]\n",
      "0.672295046321 0.113949282401\n",
      "0.662732369359\n",
      "[ 5 11 27 42 33 30 15 14  5  6]\n",
      "[ 0.41553141  0.47207607  0.52862073  0.58516539  0.64171004  0.6982547\n",
      "  0.75479936  0.81134401  0.86788867  0.92443333  0.98097799]\n",
      "0.574484804485 0.0804780624804\n",
      "0.57144124601\n",
      "[ 2  5 10 20 27 35 26 25 16 22]\n",
      "[ 0.35867487  0.39494819  0.4312215   0.46749482  0.50376813  0.54004144\n",
      "  0.57631476  0.61258807  0.64886139  0.6851347   0.72140801]\n",
      "0.681123705822 0.126411031336\n",
      "0.666529558455\n",
      "[ 4 20 32 46 28 28 14 13  1  2]\n",
      "[ 0.40606988  0.47313598  0.54020209  0.60726819  0.6743343   0.7414004\n",
      "  0.80846651  0.87553261  0.94259872  1.00966482  1.07673093]\n",
      "0.857371795056 0.157686518991\n",
      "0.847316864094\n",
      "[12 21 28 31 30 23 26  6  8  3]\n",
      "[ 0.54486655  0.61829012  0.69171369  0.76513726  0.83856083  0.9119844\n",
      "  0.98540797  1.05883154  1.13225511  1.20567868  1.27910225]\n",
      "0.872091353777 0.138488508927\n",
      "0.865025858916\n",
      "[ 5 13 33 31 40 33 19  6  7  1]\n",
      "[ 0.54995512  0.62501102  0.70006692  0.77512282  0.85017872  0.92523462\n",
      "  1.00029052  1.07534642  1.15040232  1.22545822  1.30051412]\n",
      "0.947766443951 0.149292087086\n",
      "0.960809015891\n",
      "[ 5  8 14 16 24 28 33 26 23 11]\n",
      "[ 0.56498479  0.63135281  0.69772082  0.76408884  0.83045686  0.89682487\n",
      "  0.96319289  1.02956091  1.09592892  1.16229694  1.22866496]\n"
     ]
    }
   ],
   "source": [
    "vc_i = 143\n",
    "patch_dist_set = [[[],[],[]], [[],[],[]], [[],[],[]]]\n",
    "for ni in range(len(idx_s)):\n",
    "    ri,ci,chi = layer_fire_nms[ni].shape\n",
    "    assert(chi==max_2)\n",
    "    diff_r_1 = int((max_0-ri)/2)\n",
    "    diff_r_2 = max_0-ri-diff_r_1\n",
    "    \n",
    "    diff_c_1 = int((max_1-ci)/2)\n",
    "    diff_c_2 = max_1-ci-diff_c_1\n",
    "    \n",
    "    li_fire_nms_padded = np.pad(layer_fire_nms[ni][:,:,vc_i], ((diff_r_1, diff_r_2),(diff_c_1, diff_c_2)), 'constant', constant_values=0)\n",
    "    li_dist = np.pad(layer_feature_dist[idx_s[ni]][:,:,vc_i], ((diff_r_1, diff_r_2),(diff_c_1, diff_c_2)), 'edge')\n",
    "    rnms, cnms = np.where(li_fire_nms_padded==1)\n",
    "    for pp in zip(rnms, cnms):\n",
    "        if heat_map_nms_processed[pp[0],pp[1],vc_i]>0:\n",
    "            for ri,rr in enumerate(range(pp[0]-1, pp[0]+2)):\n",
    "                if rr < 0 or rr >= li_dist.shape[0]:\n",
    "                    continue\n",
    "                    \n",
    "                for ci,cc in enumerate(range(pp[1]-1, pp[1]+2)):\n",
    "                    if cc < 0 or cc >= li_dist.shape[1]:\n",
    "                        continue\n",
    "                        \n",
    "                    patch_dist_set[ri][ci].append(li_dist[rr,cc]**2)\n",
    "                    \n",
    "for ri in range(3):\n",
    "    for ci in range(3):\n",
    "        print(np.mean(patch_dist_set[ri][ci]), np.std(patch_dist_set[ri][ci]))\n",
    "        print(np.median(patch_dist_set[ri][ci]))\n",
    "        hist, bin_edges = np.histogram(patch_dist_set[ri][ci])\n",
    "        print(hist)\n",
    "        print(bin_edges)\n",
    "    "
   ]
  },
  {
   "cell_type": "code",
   "execution_count": 30,
   "metadata": {},
   "outputs": [
    {
     "name": "stdout",
     "output_type": "stream",
     "text": [
      "1.68741 0.0545851\n",
      "1.69864 0.054342\n",
      "1.70364 0.0512553\n",
      "1.71358 0.0443279\n",
      "1.71993 0.0383625\n",
      "1.71173 0.0423585\n",
      "1.71385 0.038747\n",
      "1.71378 0.0385872\n",
      "1.71163 0.0441137\n"
     ]
    }
   ],
   "source": [
    "vc_i = 143\n",
    "patch_dist_set = [[[],[],[]], [[],[],[]], [[],[],[]]]\n",
    "for ni in range(len(idx_s)):\n",
    "    ri,ci,chi = layer_fire_nms[ni].shape\n",
    "    assert(chi==max_2)\n",
    "    diff_r_1 = int((max_0-ri)/2)\n",
    "    diff_r_2 = max_0-ri-diff_r_1\n",
    "    \n",
    "    diff_c_1 = int((max_1-ci)/2)\n",
    "    diff_c_2 = max_1-ci-diff_c_1\n",
    "    \n",
    "    li_fire_nms_padded = np.pad(layer_fire_nms[ni][:,:,vc_i], ((diff_r_1, diff_r_2),(diff_c_1, diff_c_2)), 'constant', constant_values=0)\n",
    "    li_feat = np.pad(feat_set[idx_s[ni]], ((diff_r_1, diff_r_2),(diff_c_1, diff_c_2),(0,0)), 'edge')\n",
    "    \n",
    "    rnms, cnms = np.where(li_fire_nms_padded==1)\n",
    "    for pp in zip(rnms, cnms):\n",
    "        if heat_map_nms_processed[pp[0],pp[1],vc_i]>0:\n",
    "            for ri,rr in enumerate(range(pp[0]-1, pp[0]+2)):\n",
    "                if rr < 0 or rr >= li_dist.shape[0]:\n",
    "                    continue\n",
    "                    \n",
    "                for ci,cc in enumerate(range(pp[1]-1, pp[1]+2)):\n",
    "                    if cc < 0 or cc >= li_dist.shape[1]:\n",
    "                        continue\n",
    "                        \n",
    "                    ff = li_feat[rr,cc]\n",
    "                    ff = ff/np.sqrt(np.sum(ff**2))\n",
    "                    diff_tmp = []\n",
    "                    for bgi in np.random.choice(len(bg_feat_set),size=(100,),replace=False):\n",
    "                        bg_ff = bg_feat_set[bgi]\n",
    "                        diff_tmp.append(np.sum((ff-bg_ff)**2))\n",
    "                        \n",
    "                    patch_dist_set[ri][ci].append(np.mean(diff_tmp))\n",
    "                    \n",
    "for ri in range(3):\n",
    "    for ci in range(3):\n",
    "        print(np.mean(patch_dist_set[ri][ci]), np.std(patch_dist_set[ri][ci]))"
   ]
  },
  {
   "cell_type": "code",
   "execution_count": null,
   "metadata": {},
   "outputs": [],
   "source": []
  },
  {
   "cell_type": "code",
   "execution_count": null,
   "metadata": {
    "collapsed": true
   },
   "outputs": [],
   "source": []
  },
  {
   "cell_type": "code",
   "execution_count": null,
   "metadata": {
    "collapsed": true
   },
   "outputs": [],
   "source": []
  }
 ],
 "metadata": {
  "kernelspec": {
   "display_name": "Python 3",
   "language": "python",
   "name": "python3"
  },
  "language_info": {
   "codemirror_mode": {
    "name": "ipython",
    "version": 3
   },
   "file_extension": ".py",
   "mimetype": "text/x-python",
   "name": "python",
   "nbconvert_exporter": "python",
   "pygments_lexer": "ipython3",
   "version": "3.6.1"
  }
 },
 "nbformat": 4,
 "nbformat_minor": 2
}
