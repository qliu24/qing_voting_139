{
 "cells": [
  {
   "cell_type": "code",
   "execution_count": 1,
   "metadata": {},
   "outputs": [
    {
     "name": "stdout",
     "output_type": "stream",
     "text": [
      "loading object car\n",
      "total number of instances 1000\n",
      "total number of instances 118\n",
      "14 54 158\n"
     ]
    },
    {
     "data": {
      "text/plain": [
       "'\\nprint(Astride, Arf, Apad)\\nlayer_fire_nms = [np.zeros_like(layer_feature_b[nn]) for nn in range(N)]\\nfor nn in range(N):\\n    for vc_i in range(max_2):\\n        ri, ci = np.where(layer_feature_b[nn][:,:,vc_i]==1)\\n        if ri.size==0:\\n            continue\\n        \\n        r_list = Astride * ri + Arf/2 - Apad\\n        c_list = Astride * ci + Arf/2 - Apad\\n        bb_loc = np.column_stack([c_list-Arf/2, r_list-Arf/2, c_list+Arf/2, r_list+Arf/2])\\n        det = layer_feature_dist[nn][ri,ci,vc_i]\\n        \\n        bb_loc_ = np.column_stack([bb_loc, -det])\\n        nms_list = nms(bb_loc_, 0.05)\\n        layer_fire_nms[nn][ri[nms_list], ci[nms_list], vc_i] = 1\\n        \\n'"
      ]
     },
     "execution_count": 1,
     "metadata": {},
     "output_type": "execute_result"
    }
   ],
   "source": [
    "import pickle\n",
    "import numpy as np\n",
    "import matplotlib.pyplot as plt\n",
    "from sklearn.mixture import GaussianMixture\n",
    "from scipy.spatial.distance import pdist\n",
    "from nms import nms\n",
    "from config_voting import *\n",
    "from copy import *\n",
    "%matplotlib inline\n",
    "\n",
    "\n",
    "file_path = '/export/home/qliu24/qing_voting_data/intermediate/feat_pickle_VGG/'\n",
    "\n",
    "oo = 'car'\n",
    "fname = file_path + 'res_info_' + oo + '_train_carVC.pickle'\n",
    "print('loading object {0}'.format(oo))\n",
    "with open(fname, 'rb') as fh:\n",
    "    layer_feature_dist, _, view_point = pickle.load(fh)\n",
    "            \n",
    "N = len(layer_feature_dist)\n",
    "print('total number of instances {0}'.format(N))\n",
    "\n",
    "view_point = np.array(view_point)\n",
    "idx_s = np.where(np.logical_and(view_point>=67.5,view_point<=112.5))[0]\n",
    "\n",
    "layer_feature_dist = [layer_feature_dist[nn] for nn in idx_s]\n",
    "\n",
    "N = len(layer_feature_dist)\n",
    "print('total number of instances {0}'.format(N))\n",
    "\n",
    "'''\n",
    "# load original pool4 features\n",
    "file_cache_feat = '/export/home/qliu24/qing_voting_data/intermediate/feat_VGG/car_mergelist_rand_train_carVC.pickle'\n",
    "with open(file_cache_feat, 'rb') as fh:\n",
    "    feat_set, layer_feature_dist = pickle.load(fh)\n",
    "'''   \n",
    "\n",
    "magic_thh = 0.85\n",
    "layer_feature_b = [None for nn in range(N)]\n",
    "for nn in range(N):\n",
    "    layer_feature_b[nn] = (layer_feature_dist[nn]<magic_thh).astype(int)\n",
    "    \n",
    "for lfb in layer_feature_b:\n",
    "    lfb[0:3, :, :] = 0\n",
    "    lfb[-3:, :, :] = 0\n",
    "    lfb[:, 0:3, :] = 0\n",
    "    lfb[:, -3:, :] = 0\n",
    "    \n",
    "magic_thh2 = 0.81\n",
    "layer_feature_b2 = [None for nn in range(N)]\n",
    "for nn in range(N):\n",
    "    layer_feature_b2[nn] = (layer_feature_dist[nn]<magic_thh).astype(int)\n",
    "    \n",
    "for lfb in layer_feature_b2:\n",
    "    lfb[0:3, :, :] = 0\n",
    "    lfb[-3:, :, :] = 0\n",
    "    lfb[:, 0:3, :] = 0\n",
    "    lfb[:, -3:, :] = 0\n",
    "    \n",
    "\n",
    "max_0 = max([lfb.shape[0] for lfb in layer_feature_b])\n",
    "max_1 = max([lfb.shape[1] for lfb in layer_feature_b])\n",
    "max_2 = max([lfb.shape[2] for lfb in layer_feature_b])\n",
    "\n",
    "print(max_0, max_1, max_2)\n",
    "\n",
    "'''\n",
    "print(Astride, Arf, Apad)\n",
    "layer_fire_nms = [np.zeros_like(layer_feature_b[nn]) for nn in range(N)]\n",
    "for nn in range(N):\n",
    "    for vc_i in range(max_2):\n",
    "        ri, ci = np.where(layer_feature_b[nn][:,:,vc_i]==1)\n",
    "        if ri.size==0:\n",
    "            continue\n",
    "        \n",
    "        r_list = Astride * ri + Arf/2 - Apad\n",
    "        c_list = Astride * ci + Arf/2 - Apad\n",
    "        bb_loc = np.column_stack([c_list-Arf/2, r_list-Arf/2, c_list+Arf/2, r_list+Arf/2])\n",
    "        det = layer_feature_dist[nn][ri,ci,vc_i]\n",
    "        \n",
    "        bb_loc_ = np.column_stack([bb_loc, -det])\n",
    "        nms_list = nms(bb_loc_, 0.05)\n",
    "        layer_fire_nms[nn][ri[nms_list], ci[nms_list], vc_i] = 1\n",
    "        \n",
    "'''"
   ]
  },
  {
   "cell_type": "code",
   "execution_count": null,
   "metadata": {
    "collapsed": true
   },
   "outputs": [],
   "source": []
  },
  {
   "cell_type": "code",
   "execution_count": 2,
   "metadata": {
    "collapsed": true
   },
   "outputs": [],
   "source": [
    "def get_fired_pos(layer_f_dist, layer_f_b, heat_map, vc_templates=None):\n",
    "    max_0, max_1 = heat_map[0][0].shape\n",
    "    max_2 = len(heat_map)\n",
    "    heat_map_min = 1/(max_0*max_1)\n",
    "    hm_BG_val = np.log(heat_map_min)\n",
    "    \n",
    "    total_score = 0\n",
    "    total_score_details = np.zeros(3)\n",
    "    layer_f_pos = [[[None for hmnn in range(len(heat_map[vc_i]))] for vc_i in range(max_2)] for lfd in layer_f_dist]\n",
    "    \n",
    "    for lfd_i,lfd in enumerate(layer_f_dist):\n",
    "        lfb = layer_f_b[lfd_i]\n",
    "        rll,cll = lfd.shape[0:2]\n",
    "        diff_r = int((max_0-rll)/2)\n",
    "        diff_c = int((max_1-cll)/2)\n",
    "        \n",
    "        for vc_i in range(max_2):\n",
    "            for hmnn,hm in enumerate(heat_map[vc_i]):\n",
    "                hm_ll = hm[diff_r:diff_r+rll,diff_c:diff_c+cll]\n",
    "                \n",
    "                ri, ci = np.where(np.logical_and(lfb[:,:,vc_i]==1,hm_ll[:,:]>0))\n",
    "                if ri.size==0:\n",
    "                    continue\n",
    "                \n",
    "                if vc_templates is None:\n",
    "                    vc_tplt = np.ones((7,7))*1.3\n",
    "                else:\n",
    "                    vc_tplt = vc_templates[vc_i][hmnn]\n",
    "                \n",
    "                det = []\n",
    "                det_details = []\n",
    "                for pp in zip(ri,ci):\n",
    "                    pp_dist = lfd[pp[0]-3:pp[0]+4,pp[1]-3:pp[1]+4, vc_i]\n",
    "                    score1 = np.log(hm_ll[pp[0],pp[1]]) - hm_BG_val\n",
    "                    score2 = (1.7*49-np.sum(pp_dist**2))/2\n",
    "                    score3 = (np.sum((pp_dist - np.ones((7,7))*1.3)**2)-np.sum((pp_dist - vc_tplt)**2))\n",
    "                    det.append(score1+score2+score3)\n",
    "                    det_details.append([score1,score2,score3])\n",
    "                    \n",
    "                max_idx = np.argmax(det)\n",
    "                \n",
    "                layer_f_pos[lfd_i][vc_i][hmnn] = (ri[max_idx]+diff_r, ci[max_idx]+diff_c)\n",
    "                total_score += det[max_idx]\n",
    "                total_score_details += np.array(det_details[max_idx])\n",
    "            \n",
    "    return layer_f_pos, total_score/len(layer_f_dist), total_score_details/len(layer_f_dist)\n",
    "\n",
    "\n",
    "def get_heatmap(layer_f_pos, max_0, max_1, max_2, pctl = None, blur=0.3, thrh = None):\n",
    "    heat_map = [[np.zeros((max_0, max_1)) for hmnn in range(len(layer_f_pos[0][vc_i]))] for vc_i in range(max_2)]\n",
    "    for vc_i in range(max_2):\n",
    "        for hmnn in range(len(layer_f_pos[0][vc_i])):\n",
    "            vc_p = []\n",
    "            for lfp in layer_f_pos:\n",
    "                if lfp[vc_i][hmnn] is not None:\n",
    "                    vc_p.append(lfp[vc_i][hmnn])\n",
    "            \n",
    "            if len(vc_p)==0:\n",
    "                print('empty vc_p for {0}_{1}'.format(vc_i, hmnn))\n",
    "                continue\n",
    "                \n",
    "            heat_map[vc_i][hmnn] = init_heatmap(vc_p, max_0, max_1, pctl, blur, thrh)\n",
    "            \n",
    "    return heat_map\n",
    "\n",
    "    \n",
    "def get_vctplt(layer_f_pos, layer_f_dist, max_0, max_1):\n",
    "    vc_templates = [[np.zeros((7,7,0)) for hmnn in range(len(layer_f_pos[0][vc_i]))] for vc_i in range(len(layer_f_pos[0]))]\n",
    "    \n",
    "    for lfp,lfd in zip(layer_f_pos, layer_f_dist):\n",
    "        rll,cll = lfd.shape[0:2]\n",
    "        diff_r = int((max_0-rll)/2)\n",
    "        diff_c = int((max_1-cll)/2)\n",
    "        \n",
    "        for vc_i in range(lfd.shape[2]):\n",
    "            for hmnn in range(len(lfp[vc_i])):\n",
    "                if lfp[vc_i][hmnn] is None:\n",
    "                    continue\n",
    "                    \n",
    "                ri,ci = lfp[vc_i][hmnn]\n",
    "                rr = ri-diff_r\n",
    "                cc = ci-diff_c\n",
    "                patch_dist = lfd[rr-3:rr+4, cc-3:cc+4, vc_i].reshape(7,7,1)\n",
    "                vc_templates[vc_i][hmnn] = np.concatenate([vc_templates[vc_i][hmnn], patch_dist], axis=2)\n",
    "                \n",
    "    for vc_i in range(layer_f_dist[0].shape[2]):\n",
    "        for hmnn in range(len(layer_f_pos[0][vc_i])):\n",
    "            vc_templates[vc_i][hmnn] = np.median(vc_templates[vc_i][hmnn], axis=2)\n",
    "        \n",
    "    return vc_templates\n",
    "\n",
    "\n",
    "def init_heatmap(vc_p, max_0, max_1, pctl = None, blur=0.3, thrh = None):\n",
    "    hm = np.zeros((max_0, max_1))\n",
    "    for pp in vc_p:\n",
    "        if blur is None:\n",
    "            hm[pp[0],pp[1]]+=1\n",
    "        else:\n",
    "            hm[pp[0],pp[1]]+=1.0-blur\n",
    "            hm[pp[0]-1:pp[0]+2,pp[1]-1:pp[1]+2]+=blur\n",
    "            \n",
    "    if pctl is None and thrh is None:\n",
    "        thrh = 0\n",
    "    elif not (pctl is None):\n",
    "        thrh = np.percentile(hm[hm>0], pctl)\n",
    "        \n",
    "    hm[hm<=thrh]=0\n",
    "    hm /= np.sum(hm)\n",
    "    return hm\n"
   ]
  },
  {
   "cell_type": "code",
   "execution_count": null,
   "metadata": {
    "collapsed": true
   },
   "outputs": [],
   "source": []
  },
  {
   "cell_type": "code",
   "execution_count": 3,
   "metadata": {
    "scrolled": true
   },
   "outputs": [
    {
     "name": "stdout",
     "output_type": "stream",
     "text": [
      "0\n",
      "20\n",
      "40\n",
      "60\n",
      "80\n",
      "100\n",
      "120\n",
      "140\n",
      "158\n"
     ]
    }
   ],
   "source": [
    "def gm_vc_pos(pos_ls, cluster_num):\n",
    "    gm = GaussianMixture(n_components=cluster_num, covariance_type='full', \\\n",
    "                                  n_init=10, max_iter=1500)\n",
    "    \n",
    "    gm.fit(pos_ls)\n",
    "    assignment = gm.predict(pos_ls)\n",
    "    return gm, assignment\n",
    "\n",
    "\n",
    "heat_map_init = [[] for vc_i in range(max_2)]\n",
    "for vc_i in range(max_2):\n",
    "    # print('VC idx: {0}'.format(vc_i), end=' ')\n",
    "    vc_p = []\n",
    "    for nn in range(N):\n",
    "        vc_l = layer_feature_b[nn][:,:,vc_i]\n",
    "        rnum, colnum = vc_l.shape\n",
    "        diffr = int((max_0-rnum)/2)\n",
    "        diffc = int((max_1-colnum)/2)\n",
    "        row_i, col_i = np.where(vc_l==1)\n",
    "        for pp in zip(row_i,col_i):\n",
    "            vc_p.append((pp[0]+diffr,pp[1]+diffc))\n",
    "                \n",
    "    if len(vc_p)<N/2:\n",
    "        continue\n",
    "        \n",
    "    vc_p=np.array(vc_p)\n",
    "    K=4\n",
    "    gm, assignment = gm_vc_pos(vc_p, K)\n",
    "    while True:\n",
    "        p_dist = pdist(gm.means_)\n",
    "        if np.any(gm.weights_<0.5/K) or np.any(p_dist<7):\n",
    "            K -= 1\n",
    "            if K==1:\n",
    "                gm = None\n",
    "                assignment = np.zeros(vc_p.shape[0])\n",
    "                break\n",
    "            else:\n",
    "                gm, assignment = gm_vc_pos(vc_p, K)\n",
    "        else:\n",
    "            break\n",
    "            \n",
    "    # print('final K: {0}'.format(K), flush='True')\n",
    "    \n",
    "    for kk in range(K):\n",
    "        vc_p_kk = vc_p[assignment==kk]\n",
    "        if len(vc_p_kk)<10:\n",
    "            print('cluster too small {0}_{1}'.format(vc_i, kk))\n",
    "            continue\n",
    "            \n",
    "        heat_map_init[vc_i].append(init_heatmap(vc_p_kk, max_0, max_1, 10, None, None))\n",
    "        \n",
    "    if vc_i%20==0:\n",
    "        print(vc_i)\n",
    "        \n",
    "print(len(heat_map_init))"
   ]
  },
  {
   "cell_type": "code",
   "execution_count": 48,
   "metadata": {},
   "outputs": [
    {
     "data": {
      "image/png": "[encoded data removed]",
      "text/plain": [
       "<matplotlib.figure.Figure at 0x7fd2256177b8>"
      ]
     },
     "metadata": {},
     "output_type": "display_data"
    },
    {
     "data": {
      "image/png": "[encoded data removed]",
      "text/plain": [
       "<matplotlib.figure.Figure at 0x7fd224c8b390>"
      ]
     },
     "metadata": {},
     "output_type": "display_data"
    },
    {
     "data": {
      "image/png": "[encoded data removed]",
      "text/plain": [
       "<matplotlib.figure.Figure at 0x7fd224f0d5f8>"
      ]
     },
     "metadata": {},
     "output_type": "display_data"
    },
    {
     "data": {
      "image/png": "[encoded data removed]",
      "text/plain": [
       "<matplotlib.figure.Figure at 0x7fd224f15160>"
      ]
     },
     "metadata": {},
     "output_type": "display_data"
    },
    {
     "data": {
      "image/png": "[encoded data removed]",
      "text/plain": [
       "<matplotlib.figure.Figure at 0x7fd225282f60>"
      ]
     },
     "metadata": {},
     "output_type": "display_data"
    },
    {
     "data": {
      "image/png": "[encoded data removed]",
      "text/plain": [
       "<matplotlib.figure.Figure at 0x7fd22529c390>"
      ]
     },
     "metadata": {},
     "output_type": "display_data"
    },
    {
     "data": {
      "image/png": "[encoded data removed]",
      "text/plain": [
       "<matplotlib.figure.Figure at 0x7fd2c2922e80>"
      ]
     },
     "metadata": {},
     "output_type": "display_data"
    },
    {
     "data": {
      "image/png": "[encoded data removed]",
      "text/plain": [
       "<matplotlib.figure.Figure at 0x7fd2251b0b70>"
      ]
     },
     "metadata": {},
     "output_type": "display_data"
    }
   ],
   "source": [
    "vc_i = 91\n",
    "for hm in heat_map_init[vc_i]:\n",
    "    plt.imshow(hm, cmap='hot', interpolation='nearest')\n",
    "    plt.show()\n",
    "    \n",
    "vc_i = 109\n",
    "for hm in heat_map_init[vc_i]:\n",
    "    plt.imshow(hm, cmap='hot', interpolation='nearest')\n",
    "    plt.show()\n"
   ]
  },
  {
   "cell_type": "code",
   "execution_count": 4,
   "metadata": {},
   "outputs": [
    {
     "name": "stdout",
     "output_type": "stream",
     "text": [
      "0 0 0.425729626352 0.417188153993 0.0\n",
      "0 1 0.419853376336 0.569805870257 0.0\n",
      "1 0 0.47566142739 0.431316660402 0.0\n",
      "1 1 0.409434079832 0.421442037761 0.0\n",
      "65 0 0.65156378172 0.977325810069 0.0\n",
      "143 0 0.6041657214 0.621336053968 0.0\n",
      "91 0 0.406084738397 0.313264939221 0.0\n",
      "91 1 0.260228323837 0.281547082301 0.0\n",
      "91 2 0.168361924309 0.153390110732 0.0\n",
      "91 3 0.163205764166 0.0857301283278 0.0\n",
      "109 0 0.147339743026 0.150465999243 0.0\n",
      "109 1 0.0815507923019 0.0990605559214 0.0\n",
      "109 2 0.284545526628 0.330421844054 0.0\n",
      "109 3 0.212991002075 0.453080175364 0.0\n"
     ]
    }
   ],
   "source": [
    "heat_map_min = 1/(max_0*max_1)\n",
    "hm_BG_val = np.log(heat_map_min)\n",
    "vc_templates = None\n",
    "for vc_i in [0,1,65,143,91,109]:\n",
    "    for hmnn in range(len(heat_map_init[vc_i])):\n",
    "        stat1 = []\n",
    "        stat2 = []\n",
    "        stat3 = []\n",
    "        for img_n in range(30):\n",
    "            lfd = layer_feature_dist[img_n]\n",
    "            lfb = layer_feature_b[img_n]\n",
    "            rll,cll = lfd.shape[0:2]\n",
    "            diff_r = int((max_0-rll)/2)\n",
    "            diff_c = int((max_1-cll)/2)\n",
    "\n",
    "            hm_ll = heat_map_init[vc_i][hmnn][diff_r:diff_r+rll,diff_c:diff_c+cll]\n",
    "            ri, ci = np.where(np.logical_and(lfb[:,:,vc_i]==1,hm_ll[:,:]>0))\n",
    "            if ri.size==0:\n",
    "                continue\n",
    "\n",
    "            if vc_templates is None:\n",
    "                vc_tplt = np.ones((7,7))*1.3\n",
    "            else:\n",
    "                vc_tplt = vc_templates[vc_i][hmnn]\n",
    "\n",
    "            det = []\n",
    "            det_details = []\n",
    "            for pp in zip(ri,ci):\n",
    "                pp_dist = lfd[pp[0]-3:pp[0]+4,pp[1]-3:pp[1]+4, vc_i]\n",
    "                score1 = np.log(hm_ll[pp[0],pp[1]]) - hm_BG_val\n",
    "                score2 = (1.7*49-np.sum(pp_dist**2))/2\n",
    "                score3 = (np.sum((pp_dist - np.ones((7,7))*1.3)**2)-np.sum((pp_dist - vc_tplt)**2))\n",
    "                det.append(score1+score2+score3)\n",
    "                det_details.append([score1,score2,score3])\n",
    "                \n",
    "            stat1.append(np.std(np.array(det_details)[:,0]))\n",
    "            stat2.append(np.std(np.array(det_details)[:,1]))\n",
    "            stat3.append(np.std(np.array(det_details)[:,2]))\n",
    "\n",
    "        print(vc_i, hmnn, np.mean(stat1),np.mean(stat2),np.mean(stat3))\n",
    "        "
   ]
  },
  {
   "cell_type": "code",
   "execution_count": null,
   "metadata": {
    "collapsed": true
   },
   "outputs": [],
   "source": []
  },
  {
   "cell_type": "code",
   "execution_count": 5,
   "metadata": {
    "scrolled": false
   },
   "outputs": [
    {
     "name": "stdout",
     "output_type": "stream",
     "text": [
      "iter -1 score: 3713.007934452489, [  576.49734004  3136.51059441     0.        ]\n",
      "iter 0 score: 4713.065158531312, [  672.13854644  3133.47679804   907.44981405]\n",
      "iter 1 score: 4728.283269753881, [  690.57587324  3131.67401212   906.03338439]\n",
      "iter 2 score: 4733.418350898234, [  697.16266213  3130.87690609   905.37878268]\n",
      "iter 3 score: 4735.429447891682, [  699.68310422  3130.59440039   905.15194328]\n",
      "iter 4 score: 4736.290852786917, [  700.90606768  3130.40401064   904.98077446]\n"
     ]
    }
   ],
   "source": [
    "layer_fired_pos, sc, sc_d = get_fired_pos(layer_feature_dist, layer_feature_b, heat_map_init)\n",
    "print('iter {0} score: {1}, {2}'.format(-1, sc, sc_d))\n",
    "\n",
    "for itt in range(5):\n",
    "    vc_templates = get_vctplt(layer_fired_pos, layer_feature_dist, max_0, max_1)\n",
    "    heat_map = get_heatmap(layer_fired_pos, max_0, max_1, max_2, blur=None, thrh = None)\n",
    "    \n",
    "    layer_fired_pos, sc, sc_d = get_fired_pos(layer_feature_dist, layer_feature_b, heat_map, vc_templates)\n",
    "    print('iter {0} score: {1}, {2}'.format(itt, sc, sc_d))\n",
    "    \n",
    "heat_map = get_heatmap(layer_fired_pos, max_0, max_1, max_2, blur=0.5)"
   ]
  },
  {
   "cell_type": "code",
   "execution_count": 7,
   "metadata": {},
   "outputs": [
    {
     "name": "stdout",
     "output_type": "stream",
     "text": [
      "0 0 0.74929256258 0.834195708578 0.52285772787\n",
      "0 1 0.612030093858 1.12277456951 0.60156099458\n",
      "1 0 0.772098488144 0.865985878207 0.559158146247\n",
      "1 1 0.970691153583 0.835549361238 0.57513538251\n",
      "65 0 0.950169666974 1.57340966979 0.606155331991\n",
      "143 0 0.859062302535 1.11815797888 0.357748394143\n",
      "91 0 0.777063625862 0.665813670779 0.233072129175\n",
      "91 1 0.657198900894 0.687737555205 0.25130885571\n",
      "91 2 0.48874184508 0.380790131828 0.128181363835\n",
      "91 3 0.430292004202 0.510620400766 0.176039735025\n",
      "109 0 0.24074307066 0.296215394654 0.0993249257515\n",
      "109 1 0.179151388821 0.276956897215 0.0923020901466\n",
      "109 2 0.543576557043 0.705461765862 0.252781243155\n",
      "109 3 0.496532454902 0.847584035477 0.323688157034\n"
     ]
    }
   ],
   "source": [
    "for vc_i in [0,1,65,143,91,109]:\n",
    "    for hmnn in range(len(heat_map[vc_i])):\n",
    "        stat1 = []\n",
    "        stat2 = []\n",
    "        stat3 = []\n",
    "        for img_n in range(30):\n",
    "            lfd = layer_feature_dist[img_n]\n",
    "            lfb = layer_feature_b[img_n]\n",
    "            rll,cll = lfd.shape[0:2]\n",
    "            diff_r = int((max_0-rll)/2)\n",
    "            diff_c = int((max_1-cll)/2)\n",
    "\n",
    "            hm_ll = heat_map[vc_i][hmnn][diff_r:diff_r+rll,diff_c:diff_c+cll]\n",
    "            ri, ci = np.where(np.logical_and(lfb[:,:,vc_i]==1,hm_ll[:,:]>0))\n",
    "            if ri.size==0:\n",
    "                continue\n",
    "\n",
    "            if vc_templates is None:\n",
    "                vc_tplt = np.ones((7,7))*1.3\n",
    "            else:\n",
    "                vc_tplt = vc_templates[vc_i][hmnn]\n",
    "\n",
    "            det = []\n",
    "            det_details = []\n",
    "            for pp in zip(ri,ci):\n",
    "                pp_dist = lfd[pp[0]-3:pp[0]+4,pp[1]-3:pp[1]+4, vc_i]\n",
    "                score1 = np.log(hm_ll[pp[0],pp[1]]) - hm_BG_val\n",
    "                score2 = (1.7*49-np.sum(pp_dist**2))\n",
    "                score3 = (np.sum((pp_dist - np.ones((7,7))*1.3)**2)-np.sum((pp_dist - vc_tplt)**2))\n",
    "                det.append(score1+score2+score3)\n",
    "                det_details.append([score1,score2,score3])\n",
    "                \n",
    "            stat1.append(np.std(np.array(det_details)[:,0]))\n",
    "            stat2.append(np.std(np.array(det_details)[:,1]))\n",
    "            stat3.append(np.std(np.array(det_details)[:,2]))\n",
    "\n",
    "        print(vc_i, hmnn, np.mean(stat1),np.mean(stat2),np.mean(stat3))\n",
    "        "
   ]
  },
  {
   "cell_type": "code",
   "execution_count": 74,
   "metadata": {
    "scrolled": false
   },
   "outputs": [
    {
     "data": {
      "image/png": "[encoded data removed]",
      "text/plain": [
       "<matplotlib.figure.Figure at 0x7fd224d1a8d0>"
      ]
     },
     "metadata": {},
     "output_type": "display_data"
    },
    {
     "data": {
      "image/png": "[encoded data removed]",
      "text/plain": [
       "<matplotlib.figure.Figure at 0x7fd224cdcd68>"
      ]
     },
     "metadata": {},
     "output_type": "display_data"
    },
    {
     "data": {
      "image/png": "[encoded data removed]",
      "text/plain": [
       "<matplotlib.figure.Figure at 0x7fd2254cd208>"
      ]
     },
     "metadata": {},
     "output_type": "display_data"
    },
    {
     "data": {
      "image/png": "[encoded data removed]",
      "text/plain": [
       "<matplotlib.figure.Figure at 0x7fd2254e6748>"
      ]
     },
     "metadata": {},
     "output_type": "display_data"
    },
    {
     "data": {
      "image/png": "[encoded data removed]",
      "text/plain": [
       "<matplotlib.figure.Figure at 0x7fd2254cd518>"
      ]
     },
     "metadata": {},
     "output_type": "display_data"
    },
    {
     "data": {
      "image/png": "[encoded data removed]",
      "text/plain": [
       "<matplotlib.figure.Figure at 0x7fd224cdc1d0>"
      ]
     },
     "metadata": {},
     "output_type": "display_data"
    },
    {
     "data": {
      "image/png": "[encoded data removed]",
      "text/plain": [
       "<matplotlib.figure.Figure at 0x7fd225172278>"
      ]
     },
     "metadata": {},
     "output_type": "display_data"
    },
    {
     "data": {
      "image/png": "[encoded data removed]",
      "text/plain": [
       "<matplotlib.figure.Figure at 0x7fd225270278>"
      ]
     },
     "metadata": {},
     "output_type": "display_data"
    }
   ],
   "source": [
    "'''\n",
    "vc_i = 91\n",
    "for hm in heat_map_init[vc_i]:\n",
    "    plt.imshow(hm, cmap='hot', interpolation='nearest')\n",
    "    plt.show()\n",
    "    \n",
    "for hm in heat_map[vc_i]:\n",
    "    plt.imshow(hm, cmap='hot', interpolation='nearest')\n",
    "    plt.show()\n",
    "    \n",
    "'''    \n",
    "vc_i = 91\n",
    "for hm in heat_map_init[vc_i]:\n",
    "    plt.imshow(hm, cmap='hot', interpolation='nearest')\n",
    "    plt.show()\n",
    "    \n",
    "for hm in heat_map[vc_i]:\n",
    "    plt.imshow(hm, cmap='hot', interpolation='nearest')\n",
    "    plt.show()\n"
   ]
  },
  {
   "cell_type": "code",
   "execution_count": 40,
   "metadata": {},
   "outputs": [
    {
     "data": {
      "text/plain": [
       "2.76483587577773"
      ]
     },
     "execution_count": 40,
     "metadata": {},
     "output_type": "execute_result"
    }
   ],
   "source": [
    "51547.600068/(158*118)"
   ]
  },
  {
   "cell_type": "code",
   "execution_count": 53,
   "metadata": {},
   "outputs": [
    {
     "data": {
      "text/plain": [
       "384"
      ]
     },
     "execution_count": 53,
     "metadata": {},
     "output_type": "execute_result"
    }
   ],
   "source": [
    "(max_0-6)*(max_1-6)"
   ]
  },
  {
   "cell_type": "code",
   "execution_count": 43,
   "metadata": {},
   "outputs": [
    {
     "data": {
      "text/plain": [
       "1.0"
      ]
     },
     "execution_count": 43,
     "metadata": {},
     "output_type": "execute_result"
    }
   ],
   "source": [
    "np.sum(heat_map[0][1])"
   ]
  },
  {
   "cell_type": "code",
   "execution_count": 85,
   "metadata": {
    "scrolled": false
   },
   "outputs": [
    {
     "name": "stdout",
     "output_type": "stream",
     "text": [
      "65 0.157094594595 0.000788288288288 95 5.2947395452\n",
      "143 0.158962264151 0.000825471698113 95 5.26046714242\n"
     ]
    }
   ],
   "source": [
    "for vc_i in [65,143]:\n",
    "    for hm in heat_map[vc_i]:\n",
    "        hm_ll = hm.ravel()\n",
    "        hm_ll = hm_ll[hm_ll!=0]\n",
    "        print(vc_i, np.max(hm_ll), np.min(hm_ll), len(hm_ll), np.log(np.max(hm_ll)/np.min(hm_ll)))"
   ]
  },
  {
   "cell_type": "code",
   "execution_count": 26,
   "metadata": {},
   "outputs": [
    {
     "data": {
      "image/png": "[encoded data removed]",
      "text/plain": [
       "<matplotlib.figure.Figure at 0x7efc17b18278>"
      ]
     },
     "metadata": {},
     "output_type": "display_data"
    }
   ],
   "source": [
    "hm = heat_map[:,:,1].ravel()\n",
    "hm = hm[hm!=0]\n",
    "plt.hist(hm)\n",
    "plt.show()"
   ]
  },
  {
   "cell_type": "code",
   "execution_count": 18,
   "metadata": {},
   "outputs": [
    {
     "data": {
      "text/plain": [
       "0.089999999999999997"
      ]
     },
     "execution_count": 18,
     "metadata": {},
     "output_type": "execute_result"
    }
   ],
   "source": [
    "np.percentile(np.arange(10),1)"
   ]
  },
  {
   "cell_type": "code",
   "execution_count": 80,
   "metadata": {},
   "outputs": [
    {
     "data": {
      "image/png": "[encoded data removed]",
      "text/plain": [
       "<matplotlib.figure.Figure at 0x7fd224ccf0b8>"
      ]
     },
     "metadata": {},
     "output_type": "display_data"
    }
   ],
   "source": [
    "vc_i=143\n",
    "for vct in vc_templates[vc_i]:\n",
    "    plt.imshow(vct, cmap='hot', interpolation='nearest')\n",
    "    plt.show()"
   ]
  },
  {
   "cell_type": "code",
   "execution_count": 161,
   "metadata": {
    "scrolled": false
   },
   "outputs": [
    {
     "name": "stdout",
     "output_type": "stream",
     "text": [
      "0 [ 0.96610169  0.95762712]\n",
      "1 [ 0.94067797  0.98305085]\n",
      "2 [ 0.96610169  0.95762712]\n",
      "3 [ 0.33898305  0.43220339  0.36440678]\n",
      "4 [ 0.94915254  0.94067797]\n",
      "5 [ 0.91525424  0.97457627]\n",
      "6 [ 0.97457627  0.94067797]\n",
      "7 [ 0.92372881  0.96610169]\n",
      "8 [ 1.          0.84745763]\n",
      "9 [ 0.96610169  0.93220339  0.70338983]\n",
      "10 [ 0.94067797]\n",
      "11 [ 0.16101695  0.1779661 ]\n",
      "12 [ 0.94915254  0.98305085]\n",
      "13 [ 0.93220339  1.        ]\n",
      "14 [ 1.]\n",
      "15 [ 0.96610169  0.83050847]\n",
      "16 [ 0.77118644  0.98305085]\n",
      "18 [ 0.99152542]\n",
      "19 [ 0.53389831  0.91525424  0.84745763]\n",
      "20 [ 0.94067797]\n",
      "21 [ 0.93220339  0.97457627]\n",
      "22 [ 0.72033898  0.66949153]\n",
      "23 [ 0.98305085]\n",
      "24 [ 0.99152542  0.83050847]\n",
      "25 [ 0.84745763  0.74576271]\n",
      "26 [ 0.97457627  0.97457627]\n",
      "27 [ 0.15254237  0.20338983]\n",
      "28 [ 0.57627119]\n",
      "29 [ 0.71186441  0.56779661]\n",
      "31 [ 0.90677966  0.8220339 ]\n",
      "32 [ 0.65254237  0.6440678 ]\n",
      "33 [ 0.92372881]\n",
      "34 [ 0.61864407  0.47457627]\n",
      "35 [ 0.86440678  0.76271186  0.69491525]\n",
      "36 [ 0.83898305  0.79661017]\n",
      "37 [ 1.]\n",
      "39 [ 0.62711864  0.83050847]\n",
      "40 [ 0.93220339  0.92372881]\n",
      "41 [ 1.]\n",
      "42 [ 0.93220339  0.90677966]\n",
      "43 [ 0.60169492  0.60169492  0.5       ]\n",
      "44 [ 0.88135593  0.90677966]\n",
      "45 [ 0.65254237  0.69491525]\n",
      "46 [ 0.83898305  0.94915254]\n",
      "47 [ 0.6440678   0.61016949]\n",
      "48 [ 0.79661017  0.6779661 ]\n",
      "49 [ 0.94067797  0.95762712]\n",
      "50 [ 0.62711864  0.66949153  0.63559322]\n",
      "51 [ 0.3220339   0.33898305  0.31355932]\n",
      "52 [ 0.6779661   0.57627119  0.68644068]\n",
      "53 [ 0.1779661   0.11016949  0.11016949]\n",
      "54 [ 0.45762712  0.44915254  0.49152542]\n",
      "55 [ 0.55932203  0.72881356  0.61016949]\n",
      "56 [ 0.96610169  0.91525424]\n",
      "57 [ 0.90677966  0.88135593]\n",
      "58 [ 0.94067797  0.95762712]\n",
      "59 [ 0.44067797  0.45762712  0.54237288  0.3559322 ]\n",
      "60 [ 0.95762712]\n",
      "61 [ 0.80508475  0.70338983  0.77966102]\n",
      "62 [ 0.8559322   0.95762712]\n",
      "63 [ 0.70338983  0.63559322]\n",
      "64 [ 0.69491525  0.77966102]\n",
      "65 [ 0.94915254]\n",
      "66 [ 0.94067797]\n",
      "67 [ 0.27966102  0.28813559  0.19491525]\n",
      "68 [ 0.66949153  0.66101695]\n",
      "69 [ 0.44915254  0.51694915  0.49152542]\n",
      "70 [ 0.94915254  0.93220339]\n",
      "71 [ 0.6440678   0.51694915  0.87288136]\n",
      "72 [ 0.84745763  0.84745763]\n",
      "73 [ 0.48305085  0.43220339  0.44067797]\n",
      "74 [ 0.94915254]\n",
      "75 [ 0.98305085  0.98305085]\n",
      "76 [ 0.74576271  0.78813559  0.8559322   0.90677966]\n",
      "77 [ 0.95762712  0.93220339]\n",
      "78 [ 0.84745763  0.84745763  0.97457627]\n",
      "79 [ 0.30508475  0.31355932  0.21186441]\n",
      "80 [ 0.37288136  0.66101695  0.68644068]\n",
      "82 [ 0.97457627  0.86440678]\n",
      "83 [ 0.48305085  0.20338983  0.26271186  0.49152542]\n",
      "84 [ 0.75423729  0.72881356  0.76271186  0.72033898]\n",
      "85 [ 0.94067797  0.89830508]\n",
      "86 [ 0.55932203  0.44915254]\n",
      "87 [ 0.93220339]\n",
      "88 [ 0.91525424]\n",
      "89 [ 0.71186441]\n",
      "90 [ 0.89830508  0.83050847  0.88983051]\n",
      "91 [ 0.89830508  0.72881356  0.66949153  0.87288136]\n",
      "92 [ 0.88983051]\n",
      "93 [ 0.90677966]\n",
      "94 [ 0.50847458  0.26271186  0.29661017]\n",
      "95 [ 1.]\n",
      "96 [ 0.24576271  0.08474576]\n",
      "97 [ 0.38135593  0.29661017]\n",
      "98 [ 0.59322034  0.38135593  0.50847458]\n",
      "99 [ 0.66949153  0.87288136]\n",
      "100 [ 0.61016949  0.65254237]\n",
      "101 [ 0.78813559]\n",
      "102 [ 0.51694915  0.48305085  0.46610169]\n",
      "103 [ 0.71186441  0.27966102  0.50847458]\n",
      "104 [ 0.8220339]\n",
      "105 [ 0.61864407]\n",
      "106 [ 0.43220339  0.33898305  0.3220339 ]\n",
      "107 [ 0.76271186  0.8559322   0.62711864]\n",
      "109 [ 0.68644068  0.61864407  0.46610169  0.69491525]\n",
      "111 [ 0.92372881]\n",
      "112 [ 0.38135593  0.24576271  0.11864407]\n",
      "113 [ 0.80508475]\n",
      "114 [ 0.61864407  0.55084746  0.53389831]\n",
      "115 [ 0.42372881  0.38983051]\n",
      "116 [ 0.77118644]\n",
      "117 [ 0.63559322  0.59322034]\n",
      "118 [ 0.61016949  0.55932203  0.44915254]\n",
      "119 [ 0.69491525  0.60169492]\n",
      "120 [ 0.30508475  0.25423729]\n",
      "121 [ 0.19491525  0.39830508  0.39830508]\n",
      "122 [ 0.3559322   0.13559322]\n",
      "123 [ 0.38135593  0.3559322   0.22881356]\n",
      "124 [ 0.46610169  0.26271186]\n",
      "125 [ 0.87288136  0.68644068  0.58474576]\n",
      "126 [ 0.66949153]\n",
      "127 [ 0.15254237  0.11016949  0.06779661]\n",
      "128 [ 0.48305085]\n",
      "129 [ 0.71186441]\n",
      "130 [ 0.38983051]\n",
      "131 [ 0.13559322  0.12711864  0.13559322]\n",
      "132 [ 0.18644068  0.31355932  0.31355932]\n",
      "133 [ 0.66949153  0.75423729  0.75423729  0.66101695]\n",
      "134 [ 0.40677966  0.30508475  0.27118644]\n",
      "135 [ 0.94915254]\n",
      "136 [ 0.29661017  0.22033898  0.23728814  0.26271186]\n",
      "137 [ 0.94915254]\n",
      "138 [ 0.74576271]\n",
      "139 [ 0.3559322   0.27118644  0.27118644]\n",
      "140 [ 0.20338983  0.22881356  0.29661017]\n",
      "141 [ 0.70338983  0.63559322]\n",
      "142 [ 0.37288136  0.6779661   0.61864407]\n",
      "143 [ 0.92372881]\n",
      "144 [ 0.55084746  0.52542373]\n",
      "146 [ 0.19491525  0.50847458  0.26271186]\n",
      "147 [ 0.53389831]\n",
      "148 [ 0.39830508]\n",
      "149 [ 0.58474576  0.43220339  0.40677966]\n",
      "150 [ 0.34745763  0.1779661   0.33050847]\n",
      "151 [ 0.94067797]\n",
      "152 [ 0.49152542]\n",
      "153 [ 0.86440678  0.77966102]\n",
      "154 [ 0.88135593]\n",
      "155 [ 0.41525424  0.28813559]\n",
      "156 [ 0.41525424  0.29661017]\n"
     ]
    }
   ],
   "source": [
    "vc_part_cnt = [[0 for hmnn in range(len(heat_map[vc_i]))] for vc_i in range(max_2)]\n",
    "\n",
    "for vc_i in range(max_2):\n",
    "    for hmnn in range(len(heat_map[vc_i])):\n",
    "        for lfp in layer_fired_pos:\n",
    "            if not(lfp[vc_i][hmnn] is None):\n",
    "                vc_part_cnt[vc_i][hmnn] += 1\n",
    "\n",
    "# np.sum([len(vpc)==0 for vpc in vc_part_cnt])\n",
    "for vpc_i,vpc in enumerate(vc_part_cnt):\n",
    "    if len(vpc)!=0:\n",
    "        print(vpc_i,np.array(vpc)/N)"
   ]
  },
  {
   "cell_type": "code",
   "execution_count": 148,
   "metadata": {
    "collapsed": true
   },
   "outputs": [],
   "source": [
    "model_file = '/export/home/qliu24/qing_voting_data/intermediate/VCpart_model_car/VCpart_model_car_K4.pickle'\n",
    "with open(model_file, 'rb') as fh:\n",
    "    hm,vcT = pickle.load(fh)\n",
    "    "
   ]
  },
  {
   "cell_type": "code",
   "execution_count": 150,
   "metadata": {},
   "outputs": [
    {
     "data": {
      "image/png": "[encoded data removed]",
      "text/plain": [
       "<matplotlib.figure.Figure at 0x7f0e46294668>"
      ]
     },
     "metadata": {},
     "output_type": "display_data"
    },
    {
     "data": {
      "image/png": "[encoded data removed]",
      "text/plain": [
       "<matplotlib.figure.Figure at 0x7f0e461b3908>"
      ]
     },
     "metadata": {},
     "output_type": "display_data"
    }
   ],
   "source": [
    "plt.imshow(hm[2][:,:,1], cmap='hot', interpolation='nearest')\n",
    "plt.show()\n",
    "\n",
    "plt.imshow(vcT[1][0], cmap='hot', interpolation='nearest')\n",
    "plt.show()"
   ]
  },
  {
   "cell_type": "code",
   "execution_count": 63,
   "metadata": {
    "collapsed": true
   },
   "outputs": [],
   "source": [
    "def transform_heatmap(heatmap):\n",
    "    voting_rules = [dict() for vc_i in range(heatmap.shape[2])]\n",
    "    rcenter = int((heatmap.shape[0]-1)/2)\n",
    "    ccenter = int((heatmap.shape[1]-1)/2)\n",
    "    for vc_i in range(heatmap.shape[2]):\n",
    "        ri,ci = np.where(heatmap[:,:,vc_i]>0)\n",
    "        for pp in zip(ri,ci):\n",
    "            voting_rules[vc_i][ (pp[0]-rcenter, pp[1]-ccenter) ] = heatmap[pp[0],pp[1],vc_i]\n",
    "            \n",
    "    return voting_rules\n",
    "\n",
    "\n",
    "def vote_for_obj(lfd, lfb, voting_rules, vc_templates):\n",
    "    heat_map_min = 1/350\n",
    "    hm_BG_val = np.log(heat_map_min)\n",
    "    \n",
    "    hh,ww = lfd.shape[0:2]\n",
    "    score_map = np.zeros((hh,ww))\n",
    "    score_map_loc = [[[] for wi in range(ww)] for hi in range(hh)]\n",
    "    for vc_i in range(lfd.shape[2]):\n",
    "        tmp_loc = [[[] for wi in range(ww)] for hi in range(hh)]\n",
    "        \n",
    "        rr, cc = np.where(lfb[:,:,vc_i]==1)\n",
    "        for pp in zip(rr,cc):\n",
    "            pp_dist = lfd[pp[0]-3:pp[0]+4,pp[1]-3:pp[1]+4, vc_i]\n",
    "            score2 = (1.7*49-np.sum(pp_dist**2))/24.5\n",
    "            score3 = (np.sum((pp_dist - np.ones((7,7))*1.3)**2)-np.sum((pp_dist - vc_templates[vc_i])**2))/24.5\n",
    "            \n",
    "            for kk in voting_rules[vc_i].keys():\n",
    "                vpr = pp[0]-kk[0]\n",
    "                vpc = pp[1]-kk[1]\n",
    "                if vpr >= 0 and vpr < hh and vpc >= 0 and vpc < ww:\n",
    "                    score1 = np.log(voting_rules[vc_i][kk]) - hm_BG_val\n",
    "                    tmp_loc[vpr][vpc].append([pp[0],pp[1],np.sum([score1, score2, score3])])\n",
    "                    \n",
    "        for hi in range(hh):\n",
    "            for wi in range(ww):\n",
    "                info = np.array(tmp_loc[hi][wi])\n",
    "                if info.size==0:\n",
    "                    continue\n",
    "                    \n",
    "                nms_list = nms_help(info[:,0], info[:,1], info[:,2])\n",
    "                score_map[hi, wi] += np.sum(info[nms_list, 2])\n",
    "                score_map_loc[hi][wi]+=list(info[nms_list, 0:2])\n",
    "                    \n",
    "    return score_map,score_map_loc\n",
    "\n",
    "\n",
    "def nms_help(ri, ci, det, Astride=16, Arf=100, Apad=42):\n",
    "    r_list = Astride * ri + Arf/2 - Apad\n",
    "    c_list = Astride * ci + Arf/2 - Apad\n",
    "    bb_loc = np.column_stack([c_list-Arf/2, r_list-Arf/2, c_list+Arf/2, r_list+Arf/2])\n",
    "    bb_loc_ = np.column_stack([bb_loc, det])\n",
    "    nms_list = nms(bb_loc_, 0.05)\n",
    "    \n",
    "    return nms_list"
   ]
  },
  {
   "cell_type": "code",
   "execution_count": 54,
   "metadata": {},
   "outputs": [
    {
     "name": "stdout",
     "output_type": "stream",
     "text": [
      "{(0, -13): 0.0015560165975103733, (0, -12): 0.0031120331950207467, (0, -11): 0.0036307053941908715, (0, -10): 0.0031120331950207467, (0, -9): 0.0015560165975103733, (0, 12): 0.0020746887966804979, (0, 13): 0.0025933609958506223, (0, 14): 0.0036307053941908715, (0, 15): 0.0020746887966804979, (0, 16): 0.0015560165975103733, (1, -15): 0.0031120331950207467, (1, -14): 0.005705394190871369, (1, -13): 0.022302904564315353, (1, -12): 0.036307053941908717, (1, -11): 0.037863070539419084, (1, -10): 0.021784232365145227, (1, -9): 0.007261410788381743, (1, -8): 0.0046680497925311202, (1, -7): 0.0031120331950207467, (1, -6): 0.0015560165975103733, (1, 11): 0.01970954356846473, (1, 12): 0.033195020746887967, (1, 13): 0.035269709543568464, (1, 14): 0.01711618257261411, (1, 15): 0.0041493775933609959, (1, 16): 0.0015560165975103733, (2, -16): 0.0015560165975103733, (2, -15): 0.0041493775933609959, (2, -14): 0.0077800829875518673, (2, -13): 0.025414937759336099, (2, -12): 0.042012448132780086, (2, -11): 0.043049792531120332, (2, -10): 0.027489626556016597, (2, -9): 0.010892116182572614, (2, -8): 0.007261410788381743, (2, -7): 0.0041493775933609959, (2, -6): 0.0015560165975103733, (2, 6): 0.0015560165975103733, (2, 7): 0.0015560165975103733, (2, 9): 0.0015560165975103733, (2, 10): 0.0067427385892116186, (2, 11): 0.032676348547717844, (2, 12): 0.046680497925311204, (2, 13): 0.044087136929460584, (2, 14): 0.018672199170124481, (2, 15): 0.0036307053941908715, (3, -16): 0.0015560165975103733, (3, -15): 0.0041493775933609959, (3, -14): 0.007261410788381743, (3, -13): 0.023858921161825725, (3, -12): 0.038900414937759337, (3, -11): 0.039419087136929459, (3, -10): 0.024377593360995851, (3, -9): 0.0093360995850622405, (3, -8): 0.0062240663900414933, (3, -7): 0.0036307053941908715, (3, 6): 0.0015560165975103733, (3, 7): 0.0015560165975103733, (3, 9): 0.0020746887966804979, (3, 10): 0.007261410788381743, (3, 11): 0.033713692946058089, (3, 12): 0.045124481327800829, (3, 13): 0.042012448132780086, (3, 14): 0.01504149377593361, (3, 15): 0.0020746887966804979, (4, -14): 0.0020746887966804979, (4, -13): 0.0031120331950207467, (4, -12): 0.005705394190871369, (4, -11): 0.0051867219917012446, (4, -10): 0.005705394190871369, (4, -9): 0.0036307053941908715, (4, -8): 0.0025933609958506223, (4, 6): 0.0015560165975103733, (4, 7): 0.0015560165975103733, (4, 9): 0.0020746887966804979, (4, 10): 0.0067427385892116186, (4, 11): 0.014004149377593362, (4, 12): 0.014004149377593362, (4, 13): 0.0093360995850622405, (4, 14): 0.0015560165975103733}\n"
     ]
    }
   ],
   "source": [
    "voting_r = transform_heatmap(heat_map)\n",
    "print(voting_r[0])"
   ]
  },
  {
   "cell_type": "code",
   "execution_count": 73,
   "metadata": {},
   "outputs": [
    {
     "data": {
      "image/png": "[encoded data removed]",
      "text/plain": [
       "<matplotlib.figure.Figure at 0x7fd46bb03da0>"
      ]
     },
     "metadata": {},
     "output_type": "display_data"
    }
   ],
   "source": [
    "rst, rst_loc = vote_for_obj(layer_feature_dist[4], layer_feature_b[4], voting_r, vc_templates)\n",
    "plt.imshow(rst, cmap='hot', interpolation='nearest')\n",
    "plt.show()"
   ]
  },
  {
   "cell_type": "code",
   "execution_count": 74,
   "metadata": {},
   "outputs": [
    {
     "data": {
      "text/plain": [
       "(0.0, 0.0, 13.0, 36.0)"
      ]
     },
     "execution_count": 74,
     "metadata": {},
     "output_type": "execute_result"
    }
   ],
   "source": [
    "rmax, cmax = np.where(rst==np.max(rst))\n",
    "loc_ls = np.array(rst_loc[rmax[0]][cmax[0]])\n",
    "np.min(loc_ls[:,0])-3, np.min(loc_ls[:,1])-3,np.max(loc_ls[:,0])+3, np.max(loc_ls[:,1])+3\n"
   ]
  },
  {
   "cell_type": "code",
   "execution_count": 62,
   "metadata": {},
   "outputs": [
    {
     "data": {
      "text/plain": [
       "[array([1, 2]), array([3, 4])]"
      ]
     },
     "execution_count": 62,
     "metadata": {},
     "output_type": "execute_result"
    }
   ],
   "source": [
    "list(np.array([[1,2],[3,4]]))"
   ]
  },
  {
   "cell_type": "code",
   "execution_count": 47,
   "metadata": {},
   "outputs": [
    {
     "data": {
      "text/plain": [
       "array([  2.82842712,   4.12310563,  12.04159458,   2.23606798,\n",
       "         9.21954446,   8.60232527])"
      ]
     },
     "execution_count": 47,
     "metadata": {},
     "output_type": "execute_result"
    }
   ],
   "source": [
    "from scipy.spatial.distance import pdist\n",
    "pdist([[0,1],[2,3], [4,2],[9,9]])"
   ]
  },
  {
   "cell_type": "code",
   "execution_count": null,
   "metadata": {
    "collapsed": true
   },
   "outputs": [],
   "source": []
  }
 ],
 "metadata": {
  "kernelspec": {
   "display_name": "Python 3",
   "language": "python",
   "name": "python3"
  },
  "language_info": {
   "codemirror_mode": {
    "name": "ipython",
    "version": 3
   },
   "file_extension": ".py",
   "mimetype": "text/x-python",
   "name": "python",
   "nbconvert_exporter": "python",
   "pygments_lexer": "ipython3",
   "version": "3.6.1"
  }
 },
 "nbformat": 4,
 "nbformat_minor": 2
}
