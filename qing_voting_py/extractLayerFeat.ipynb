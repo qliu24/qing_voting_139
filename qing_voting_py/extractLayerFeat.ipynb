{
 "cells": [
  {
   "cell_type": "code",
   "execution_count": 1,
   "metadata": {
    "collapsed": false,
    "deletable": true,
    "editable": true
   },
   "outputs": [],
   "source": [
    "import numpy as np\n",
    "import math\n",
    "import pickle\n",
    "import scipy.io as sio\n",
    "from FeatureExtractor import *\n",
    "from config_voting import *\n",
    "import matplotlib.pyplot as plt\n",
    "%matplotlib inline\n",
    "\n",
    "def extractLayerFeat(category, set_type):\n",
    "    dir_img = Dataset['img_dir'].format(category)\n",
    "    dir_anno = Dataset['anno_dir'].format(category)\n",
    "    \n",
    "    file_list = Dataset['{0}_list'.format(set_type)].format(category)\n",
    "    assert(os.path.isfile(file_list))\n",
    "    \n",
    "    with open(file_list, 'r') as fh:\n",
    "        content = fh.readlines()\n",
    "    \n",
    "    img_list = [x.strip().split() for x in content]\n",
    "    img_num = len(img_list)\n",
    "    print('total number of images: {0}'.format(img_num))\n",
    "    \n",
    "    scale_size = 224\n",
    "    extractor = FeatureExtractor(cache_folder=cache_folder, which_snapshot=25000)\n",
    "    \n",
    "    feat_set = [None for nn in range(img_num)]\n",
    "    for nn in range(img_num):\n",
    "        file_img = os.path.join(dir_img, '{0}.JPEG'.format(img_list[nn][0]))\n",
    "        assert(os.path.isfile(file_img))\n",
    "        img = cv2.imread(file_img)\n",
    "        # plt.imshow(cv2.cvtColor(img, cv2.COLOR_BGR2RGB))\n",
    "        # plt.show()\n",
    "        \n",
    "        height, width, _ = img.shape\n",
    "        \n",
    "        file_anno = os.path.join(dir_anno, '{0}.mat'.format(img_list[nn][0]))\n",
    "        assert(os.path.isfile(file_anno))\n",
    "        mat_contents = sio.loadmat(file_anno)\n",
    "        record = mat_contents['record']\n",
    "        objects = record['objects']\n",
    "        bbox = objects[0,0]['bbox'][0,int(img_list[nn][1])-1][0]\n",
    "        bbox = [max(math.ceil(bbox[0]), 1), max(math.ceil(bbox[1]), 1), \\\n",
    "                min(math.floor(bbox[2]), width), min(math.floor(bbox[3]), height)]\n",
    "        patch = img[bbox[1]-1: bbox[3], bbox[0]-1: bbox[2], :]\n",
    "        \n",
    "        feat_set[nn] = extractor.extract_feature_image(patch)[0]\n",
    "        \n",
    "        if nn%100 == 0:\n",
    "            print(nn, end=' ')\n",
    "        \n",
    "        \n",
    "    print('\\n')\n",
    "    \n",
    "    if not os.path.exists(Feat['cache_dir']):\n",
    "        os.makedirs(Feat['cache_dir'])\n",
    "        \n",
    "    file_cache_feat = os.path.join(Feat['cache_dir'], '{0}_{1}_{2}.pickle'.format(category, dataset_suffix, set_type))\n",
    "    with open(file_cache_feat, 'wb') as fh:\n",
    "        pickle.dump(feat_set, fh)\n"
   ]
  },
  {
   "cell_type": "code",
   "execution_count": 2,
   "metadata": {
    "collapsed": false,
    "deletable": true,
    "editable": true
   },
   "outputs": [
    {
     "name": "stdout",
     "output_type": "stream",
     "text": [
      "total number of images: 1000\n",
      "2017-05-18 17:34:13.612121: Start Init\n",
      "2017-05-18 17:35:57.861677: Finish Init\n",
      "0 100 200 300 400 500 600 700 800 900 \n",
      "\n"
     ]
    }
   ],
   "source": [
    "extractLayerFeat('car','train')"
   ]
  },
  {
   "cell_type": "code",
   "execution_count": 2,
   "metadata": {
    "collapsed": false,
    "deletable": true,
    "editable": true
   },
   "outputs": [
    {
     "name": "stdout",
     "output_type": "stream",
     "text": [
      "2017-05-18 15:53:52.908018: Start Init\n",
      "2017-05-18 15:55:31.368719: Finish Init\n",
      "1\n",
      "(224, 224, 3)\n",
      "feed network\n",
      "(1, 14, 14, 512)\n"
     ]
    }
   ],
   "source": [
    "Apad_set = [2, 6, 18, 42, 90] # padding size\n",
    "Astride_set = [2, 4, 8, 16, 32] # stride size\n",
    "featDim_set = [64, 128, 256, 512, 512] # feature dimension\n",
    "Arf_set = [6, 16, 44, 100, 212]\n",
    "offset_set = np.ceil(np.array(Apad_set).astype(float)/np.array(Astride_set)).astype(int)\n",
    "\n",
    "# get pool4 layer parameters\n",
    "pool4_n = 3\n",
    "Apad = Apad_set[pool4_n]\n",
    "Astride = Astride_set[pool4_n]\n",
    "featDim = featDim_set[pool4_n]\n",
    "Arf = Arf_set[pool4_n]\n",
    "offset = offset_set[pool4_n]\n",
    "    "
   ]
  },
  {
   "cell_type": "code",
   "execution_count": 5,
   "metadata": {
    "collapsed": false,
    "deletable": true,
    "editable": true
   },
   "outputs": [
    {
     "data": {
      "text/plain": [
       "4.0"
      ]
     },
     "execution_count": 5,
     "metadata": {},
     "output_type": "execute_result"
    }
   ],
   "source": [
    "max(np.ceil(3.3),2)"
   ]
  },
  {
   "cell_type": "code",
   "execution_count": null,
   "metadata": {
    "collapsed": true,
    "deletable": true,
    "editable": true
   },
   "outputs": [],
   "source": [
    "tmp = features\n",
    "    img_rec.append(deepcopy(images))\n",
    "\n",
    "    assert (tmp.shape[0] == batch_size)\n",
    "    assert (tmp.shape[3] == featDim)\n",
    "    height, width = tmp.shape[1:3]\n",
    "    # remove offset patches\n",
    "    tmp = tmp[:, offset:height - offset, offset:width - offset, :]\n",
    "    ntmp = np.transpose(tmp, (3, 0, 1, 2))\n",
    "    gtmp = ntmp.reshape(ntmp.shape[0], -1)\n",
    "    res.append(deepcopy(gtmp))\n",
    "\n",
    "    irec += [i for ixx in range(gtmp.shape[1])]\n",
    "    \n",
    "    if nn%100 == 0:\n",
    "        print(nn, end=' ')"
   ]
  },
  {
   "cell_type": "code",
   "execution_count": 15,
   "metadata": {
    "collapsed": false,
    "deletable": true,
    "editable": true
   },
   "outputs": [
    {
     "name": "stdout",
     "output_type": "stream",
     "text": [
      "(1, 1)\n",
      "260\n"
     ]
    }
   ],
   "source": [
    "mat_contents = sio.loadmat('/mnt/4T-HD/qing/PASCAL3D+_release1.1/Annotations/motorbike_imagenet/n03790512_10200.mat')\n",
    "record = mat_contents['record']\n",
    "objects = record['objects']\n",
    "print(objects.shape)\n",
    "print(objects[0,0]['viewpoint'][0,0]['azimuth_coarse'][0,0][0,0])\n"
   ]
  },
  {
   "cell_type": "code",
   "execution_count": 4,
   "metadata": {
    "collapsed": false,
    "deletable": true,
    "editable": true
   },
   "outputs": [
    {
     "data": {
      "text/plain": [
       "8"
      ]
     },
     "execution_count": 4,
     "metadata": {},
     "output_type": "execute_result"
    }
   ],
   "source": [
    "int('8')"
   ]
  },
  {
   "cell_type": "code",
   "execution_count": 19,
   "metadata": {
    "collapsed": false,
    "deletable": true,
    "editable": true
   },
   "outputs": [
    {
     "data": {
      "text/plain": [
       "array([[ ([[260]], [[0]], [[282.499999736506]], [[-16.51758772396259]], [[9.32294647615442]], [[1]], [[129.34856935641568]], [[60.53952982944796]], [[2.64356071524987]], [[34.70953361909312]], [[0.43425944602571964]], [[0.5706587042430594]], [[6]], [[3000]])]], \n",
       "      dtype=[('azimuth_coarse', 'O'), ('elevation_coarse', 'O'), ('azimuth', 'O'), ('elevation', 'O'), ('distance', 'O'), ('focal', 'O'), ('px', 'O'), ('py', 'O'), ('theta', 'O'), ('error', 'O'), ('interval_azimuth', 'O'), ('interval_elevation', 'O'), ('num_anchor', 'O'), ('viewport', 'O')])"
      ]
     },
     "execution_count": 19,
     "metadata": {},
     "output_type": "execute_result"
    }
   ],
   "source": [
    "objects[0,0]['viewpoint'][0,0]"
   ]
  },
  {
   "cell_type": "code",
   "execution_count": null,
   "metadata": {
    "collapsed": true,
    "deletable": true,
    "editable": true
   },
   "outputs": [],
   "source": []
  }
 ],
 "metadata": {
  "kernelspec": {
   "display_name": "Python 3",
   "language": "python",
   "name": "python3"
  },
  "language_info": {
   "codemirror_mode": {
    "name": "ipython",
    "version": 3
   },
   "file_extension": ".py",
   "mimetype": "text/x-python",
   "name": "python",
   "nbconvert_exporter": "python",
   "pygments_lexer": "ipython3",
   "version": "3.5.2"
  }
 },
 "nbformat": 4,
 "nbformat_minor": 2
}
