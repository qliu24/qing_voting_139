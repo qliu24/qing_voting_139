{
 "cells": [
  {
   "cell_type": "code",
   "execution_count": 1,
   "metadata": {
    "collapsed": false
   },
   "outputs": [
    {
     "name": "stdout",
     "output_type": "stream",
     "text": [
      "compute and cache VC distance data for car train set ...\n",
      "\n"
     ]
    }
   ],
   "source": [
    "import math\n",
    "import pickle\n",
    "import scipy.io as sio\n",
    "from scipy.spatial.distance import cdist\n",
    "from FeatureExtractor import *\n",
    "from config_voting import *\n",
    "\n",
    "category='car'\n",
    "set_type='train'\n",
    "file_cache_feat = os.path.join(Feat['cache_dir'], '{0}_{1}_{2}.pickle'.format(category, dataset_suffix, set_type))\n",
    "assert(os.path.isfile(file_cache_feat))\n",
    "with open(file_cache_feat, 'rb') as fh:\n",
    "    feat_set = pickle.load(fh)\n",
    "    \n",
    "assert(os.path.isfile(Dictionary))\n",
    "with open(Dictionary, 'rb') as fh:\n",
    "    _,centers = pickle.load(fh)\n",
    "     \n",
    "assert(centers.shape[0]==VC['num'])\n",
    "print('compute and cache VC distance data for {1} {0} set ...\\n'.format(set_type, category))"
   ]
  },
  {
   "cell_type": "code",
   "execution_count": 3,
   "metadata": {
    "collapsed": false
   },
   "outputs": [
    {
     "name": "stdout",
     "output_type": "stream",
     "text": [
      "(14, 14, 512)\n",
      "(14, 14, 198)\n"
     ]
    }
   ],
   "source": [
    "r_set = [None for nn in range(len(feat_set))]\n",
    "for nn in range(1):\n",
    "    layer_feature = feat_set[nn]\n",
    "    print(layer_feature.shape)\n",
    "    height = layer_feature.shape[0]\n",
    "    width = layer_feature.shape[1]\n",
    "    assert(featDim == layer_feature.shape[2])\n",
    "    \n",
    "    layer_feature = layer_feature.reshape(-1, featDim)\n",
    "    feat_norm = np.sqrt(np.sum(layer_feature**2, 1)).reshape(-1,1)\n",
    "    layer_feature = layer_feature/feat_norm\n",
    "    \n",
    "    dist = cdist(layer_feature, centers).reshape(height,width,-1)\n",
    "    print(dist.shape)\n",
    "    assert(dist.shape[2]==centers.shape[0]);\n",
    "    r_set[nn] = dist\n"
   ]
  },
  {
   "cell_type": "code",
   "execution_count": null,
   "metadata": {
    "collapsed": true
   },
   "outputs": [],
   "source": []
  }
 ],
 "metadata": {
  "kernelspec": {
   "display_name": "Python 3",
   "language": "python",
   "name": "python3"
  },
  "language_info": {
   "codemirror_mode": {
    "name": "ipython",
    "version": 3
   },
   "file_extension": ".py",
   "mimetype": "text/x-python",
   "name": "python",
   "nbconvert_exporter": "python",
   "pygments_lexer": "ipython3",
   "version": "3.5.2"
  }
 },
 "nbformat": 4,
 "nbformat_minor": 2
}
