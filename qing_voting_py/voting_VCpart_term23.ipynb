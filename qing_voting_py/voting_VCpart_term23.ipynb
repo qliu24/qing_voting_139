{
 "cells": [
  {
   "cell_type": "code",
   "execution_count": 1,
   "metadata": {},
   "outputs": [
    {
     "name": "stdout",
     "output_type": "stream",
     "text": [
      "loading object car\n",
      "total number of instances 1000\n",
      "total number of instances 118\n",
      "14 54 158\n"
     ]
    }
   ],
   "source": [
    "import pickle\n",
    "import numpy as np\n",
    "import matplotlib.pyplot as plt\n",
    "from sklearn.mixture import GaussianMixture\n",
    "from scipy.spatial.distance import pdist\n",
    "from nms import nms\n",
    "from config_voting import *\n",
    "from copy import *\n",
    "%matplotlib inline\n",
    "\n",
    "\n",
    "file_path = '/export/home/qliu24/qing_voting_data/intermediate/feat_pickle_VGG/'\n",
    "\n",
    "oo = 'car'\n",
    "fname = file_path + 'res_info_' + oo + '_train_carVC.pickle'\n",
    "print('loading object {0}'.format(oo))\n",
    "with open(fname, 'rb') as fh:\n",
    "    layer_feature_dist, _, view_point = pickle.load(fh)\n",
    "            \n",
    "N = len(layer_feature_dist)\n",
    "print('total number of instances {0}'.format(N))\n",
    "\n",
    "view_point = np.array(view_point)\n",
    "idx_s = np.where(np.logical_and(view_point>=67.5,view_point<=112.5))[0]\n",
    "\n",
    "layer_feature_dist = [layer_feature_dist[nn] for nn in idx_s]\n",
    "\n",
    "N = len(layer_feature_dist)\n",
    "print('total number of instances {0}'.format(N))\n",
    "\n",
    "'''\n",
    "# load original pool4 features\n",
    "file_cache_feat = '/export/home/qliu24/qing_voting_data/intermediate/feat_VGG/car_mergelist_rand_train_carVC.pickle'\n",
    "with open(file_cache_feat, 'rb') as fh:\n",
    "    feat_set, layer_feature_dist = pickle.load(fh)\n",
    "'''   \n",
    "\n",
    "magic_thh = 0.85\n",
    "layer_feature_b = [None for nn in range(N)]\n",
    "for nn in range(N):\n",
    "    layer_feature_b[nn] = (layer_feature_dist[nn]<magic_thh).astype(int)\n",
    "    \n",
    "for lfb in layer_feature_b:\n",
    "    lfb[0:3, :, :] = 0\n",
    "    lfb[-3:, :, :] = 0\n",
    "    lfb[:, 0:3, :] = 0\n",
    "    lfb[:, -3:, :] = 0\n",
    "    \n",
    "max_0 = max([lfb.shape[0] for lfb in layer_feature_b])\n",
    "max_1 = max([lfb.shape[1] for lfb in layer_feature_b])\n",
    "max_2 = max([lfb.shape[2] for lfb in layer_feature_b])\n",
    "\n",
    "print(max_0, max_1, max_2)"
   ]
  },
  {
   "cell_type": "code",
   "execution_count": 13,
   "metadata": {
    "collapsed": true
   },
   "outputs": [],
   "source": [
    "def get_fired_pos_gm(layer_f_dist, layer_f_b, gm_ls, vc_part_cnt, max_0, max_1, max_2):\n",
    "    heat_map_min = 1/(max_0*max_1)\n",
    "    hm_BG_val = np.log(heat_map_min)\n",
    "    \n",
    "    layer_f_pos = [[[None for hmnn in range(vc_part_cnt[vc_i])] for vc_i in range(max_2)] for nn in range(len(layer_f_dist))]\n",
    "    \n",
    "    for lfd_i,lfd in enumerate(layer_f_dist):\n",
    "        lfb = layer_f_b[lfd_i]\n",
    "        rll,cll = lfd.shape[0:2]\n",
    "        diff_r = int((max_0-rll)/2)\n",
    "        diff_c = int((max_1-cll)/2)\n",
    "        \n",
    "        for vc_i in range(max_2):\n",
    "            ri, ci = np.where(lfb[:,:,vc_i]==1)\n",
    "            if ri.size==0:\n",
    "                continue\n",
    "            \n",
    "            pos_lsi = np.column_stack([ri+diff_r, ci+diff_c])\n",
    "            if vc_part_cnt[vc_i] == 1:\n",
    "                ass = np.zeros(len(ri))\n",
    "            elif vc_part_cnt[vc_i] > 1:\n",
    "                ass = gm_ls[vc_i].predict(pos_lsi)\n",
    "                \n",
    "            for kk in range(vc_part_cnt[vc_i]):\n",
    "                if np.sum(ass==kk) == 0:\n",
    "                    continue\n",
    "\n",
    "                det = []\n",
    "                for pp in zip(ri[ass==kk],ci[ass==kk]):\n",
    "                    pp_dist = lfd[pp[0]-3:pp[0]+4,pp[1]-3:pp[1]+4, vc_i]\n",
    "                    score2 = (1.7*49-np.sum(pp_dist**2))/10\n",
    "                    det.append(score2)\n",
    "\n",
    "                layer_f_pos[lfd_i][vc_i][kk] = pos_lsi[ass==kk][np.argmax(det)]\n",
    "            \n",
    "    return layer_f_pos\n",
    "\n",
    "\n",
    "def get_fired_pos_vct(layer_f_dist, layer_f_b, gm_ls, vc_templates, vc_part_cnt, max_0, max_1, max_2):\n",
    "    heat_map_min = 1/(max_0*max_1)\n",
    "    hm_BG_val = np.log(heat_map_min)\n",
    "    \n",
    "    layer_f_pos = [[[None for hmnn in range(vc_part_cnt[vc_i])] for vc_i in range(max_2)] for nn in range(len(layer_f_dist))]\n",
    "    \n",
    "    for lfd_i,lfd in enumerate(layer_f_dist):\n",
    "        lfb = layer_f_b[lfd_i]\n",
    "        rll,cll = lfd.shape[0:2]\n",
    "        diff_r = int((max_0-rll)/2)\n",
    "        diff_c = int((max_1-cll)/2)\n",
    "        \n",
    "        for vc_i in range(max_2):\n",
    "            ri, ci = np.where(lfb[:,:,vc_i]==1)\n",
    "            if ri.size==0:\n",
    "                continue\n",
    "            \n",
    "            pos_lsi = np.column_stack([ri+diff_r, ci+diff_c])\n",
    "            if vc_part_cnt[vc_i] == 1:\n",
    "                ass = np.zeros(len(ri))\n",
    "            elif vc_part_cnt[vc_i] > 1:\n",
    "                ass = gm_ls[vc_i].predict(pos_lsi)\n",
    "                \n",
    "            for kk in range(vc_part_cnt[vc_i]):\n",
    "                if np.sum(ass==kk) == 0:\n",
    "                    continue\n",
    "\n",
    "                vc_tplt = vc_templates[vc_i][kk]\n",
    "                det = []\n",
    "                for pp in zip(ri[ass==kk],ci[ass==kk]):\n",
    "                    pp_dist = lfd[pp[0]-3:pp[0]+4,pp[1]-3:pp[1]+4, vc_i]\n",
    "                    score2 = (1.7*49-np.sum(pp_dist**2))/10\n",
    "                    score3 = (np.sum((pp_dist - np.ones((7,7))*1.3)**2)-np.sum((pp_dist - vc_tplt)**2))/5\n",
    "                    det.append(score2+score3)\n",
    "\n",
    "                layer_f_pos[lfd_i][vc_i][kk] = pos_lsi[ass==kk][np.argmax(det)]\n",
    "            \n",
    "    return layer_f_pos\n",
    "\n",
    "\n",
    "def get_fired_pos(layer_f_dist, layer_f_b, heat_map, vc_part_cnt, vc_part_p, vc_templates):\n",
    "    max_0, max_1 = heat_map[0][0].shape\n",
    "    max_2 = len(heat_map)\n",
    "    heat_map_min = 1/(max_0*max_1)\n",
    "    hm_BG_val = np.log(heat_map_min)\n",
    "    \n",
    "    layer_f_pos = [[[None for hmnn in range(vc_part_cnt[vc_i])] for vc_i in range(max_2)] for nn in range(len(layer_f_dist))]\n",
    "    \n",
    "    for lfd_i,lfd in enumerate(layer_f_dist):\n",
    "        lfb = layer_f_b[lfd_i]\n",
    "        rll,cll = lfd.shape[0:2]\n",
    "        diff_r = int((max_0-rll)/2)\n",
    "        diff_c = int((max_1-cll)/2)\n",
    "        \n",
    "        for vc_i in range(max_2):\n",
    "            for hmnn in range(vc_part_cnt[vc_i]):\n",
    "                hm = heat_map[vc_i][hmnn]\n",
    "                hm_ll = hm[diff_r:diff_r+rll,diff_c:diff_c+cll]\n",
    "                \n",
    "                vc_tplt = vc_templates[vc_i][hmnn]\n",
    "                \n",
    "                ri, ci = np.where(np.logical_and(lfb[:,:,vc_i]==1,hm_ll[:,:]>0))\n",
    "                if ri.size==0:\n",
    "                    continue\n",
    "                \n",
    "                pos_lsi = np.column_stack([ri+diff_r, ci+diff_c])\n",
    "                \n",
    "                det = []\n",
    "                for pp in zip(ri, ci):\n",
    "                    pp_dist = lfd[pp[0]-3:pp[0]+4,pp[1]-3:pp[1]+4, vc_i]\n",
    "                    score1 = np.log(hm_ll[pp[0],pp[1]]) + np.log(vc_part_p[vc_i][hmnn]) - hm_BG_val\n",
    "                    score2 = (1.7*49-np.sum(pp_dist**2))/10\n",
    "                    score3 = (np.sum((pp_dist - np.ones((7,7))*1.3)**2)-np.sum((pp_dist - vc_tplt)**2))/5\n",
    "                    det.append(score1+score2+score3)\n",
    "                    \n",
    "                layer_f_pos[lfd_i][vc_i][hmnn] = pos_lsi[np.argmax(det)]\n",
    "                \n",
    "    return layer_f_pos\n",
    "\n",
    "\n",
    "def get_heatmap(layer_f_pos, max_0, max_1, max_2, blur=0.5, pctl = None, thrh = None):\n",
    "    heat_map = [[np.zeros((max_0, max_1)) for hmnn in range(len(layer_f_pos[0][vc_i]))] for vc_i in range(max_2)]\n",
    "    for vc_i in range(max_2):\n",
    "        for hmnn in range(len(layer_f_pos[0][vc_i])):\n",
    "            vc_p = []\n",
    "            for lfp in layer_f_pos:\n",
    "                if not(lfp[vc_i][hmnn] is None):\n",
    "                    vc_p.append(lfp[vc_i][hmnn])\n",
    "            \n",
    "            if len(vc_p)==0:\n",
    "                print('empty vc_p for {0}_{1}'.format(vc_i, hmnn))\n",
    "                continue\n",
    "                \n",
    "            heat_map[vc_i][hmnn] = init_heatmap(vc_p, max_0, max_1, blur, pctl, thrh)\n",
    "            \n",
    "    return heat_map\n",
    "\n",
    "\n",
    "def init_heatmap(vc_p, max_0, max_1, blur=0.5, pctl = None, thrh = None):\n",
    "    hm = np.zeros((max_0, max_1))\n",
    "    for pp in vc_p:\n",
    "        if blur is None:\n",
    "            hm[pp[0],pp[1]]+=1\n",
    "        else:\n",
    "            hm[pp[0],pp[1]]+=1.0-blur\n",
    "            hm[pp[0]-1:pp[0]+2,pp[1]-1:pp[1]+2]+=blur\n",
    "            \n",
    "    if pctl is None and thrh is None:\n",
    "        thrh = 0\n",
    "    elif not (pctl is None):\n",
    "        thrh = np.percentile(hm[hm>0], pctl)\n",
    "        \n",
    "    hm[hm<=thrh]=0\n",
    "    hm /= np.sum(hm)\n",
    "    return hm\n",
    "\n",
    "\n",
    "def get_vctplt(layer_f_pos, layer_f_dist, vc_part_cnt, max_0, max_1, max_2):\n",
    "    vc_templates = [[np.zeros((7,7,0)) for hmnn in range(vc_part_cnt[vc_i])] for vc_i in range(max_2)]\n",
    "    \n",
    "    for lfp,lfd in zip(layer_f_pos, layer_f_dist):\n",
    "        rll,cll = lfd.shape[0:2]\n",
    "        diff_r = int((max_0-rll)/2)\n",
    "        diff_c = int((max_1-cll)/2)\n",
    "        \n",
    "        for vc_i in range(max_2):\n",
    "            for hmnn in range(vc_part_cnt[vc_i]):\n",
    "                if lfp[vc_i][hmnn] is None:\n",
    "                    continue\n",
    "                    \n",
    "                ri,ci = lfp[vc_i][hmnn]\n",
    "                rr = ri-diff_r\n",
    "                cc = ci-diff_c\n",
    "                patch_dist = lfd[rr-3:rr+4, cc-3:cc+4, vc_i].reshape(7,7,1)\n",
    "                vc_templates[vc_i][hmnn] = np.concatenate([vc_templates[vc_i][hmnn], patch_dist], axis=2)\n",
    "                \n",
    "    for vc_i in range(max_2):\n",
    "        for hmnn in range(vc_part_cnt[vc_i]):\n",
    "            vc_templates[vc_i][hmnn] = np.median(vc_templates[vc_i][hmnn], axis=2)\n",
    "        \n",
    "    return vc_templates\n",
    "\n",
    "\n",
    "def get_score(layer_f_dist, layer_f_pos, heat_map, vc_templates, vc_part_cnt, vc_part_p):\n",
    "    max_0, max_1 = heat_map[0][0].shape\n",
    "    max_2 = len(heat_map)\n",
    "    heat_map_min = 1/(max_0*max_1)\n",
    "    hm_BG_val = np.log(heat_map_min)\n",
    "    \n",
    "    total_score = 0\n",
    "    total_score_details = np.zeros(3)\n",
    "    for lfd, lfp in zip(layer_f_dist, layer_f_pos):\n",
    "        rll, cll = lfd.shape[0:2]\n",
    "        diff_r = int((max_0-rll)/2)\n",
    "        diff_c = int((max_1-cll)/2)\n",
    "        \n",
    "        for vc_i in range(max_2):\n",
    "        # for vc_i in [17,30,38,81,108]:\n",
    "            for hmnn in range(vc_part_cnt[vc_i]):\n",
    "                if lfp[vc_i][hmnn] is None:\n",
    "                    continue\n",
    "                \n",
    "                if vc_part_p[vc_i][hmnn] < 0.1:\n",
    "                    continue\n",
    "                    \n",
    "                rp = lfp[vc_i][hmnn][0] - diff_r\n",
    "                cp = lfp[vc_i][hmnn][1] - diff_c\n",
    "                pp_dist = lfd[rp-3:rp+4,cp-3:cp+4, vc_i]\n",
    "                \n",
    "                vc_tplt = vc_templates[vc_i][hmnn]\n",
    "                \n",
    "                score1 = np.log(heat_map[vc_i][hmnn][lfp[vc_i][hmnn][0],lfp[vc_i][hmnn][1]]) + np.log(vc_part_p[vc_i][hmnn]) - hm_BG_val\n",
    "                score2 = (1.7*49-np.sum(pp_dist**2))/10\n",
    "                score3 = (np.sum((pp_dist - np.ones((7,7))*1.3)**2)-np.sum((pp_dist - vc_tplt)**2))/5\n",
    "                \n",
    "                # print(vc_i,hmnn,score1,score2)\n",
    "                \n",
    "                total_score += score1+score2+score3\n",
    "                total_score_details += np.array([score1,score2,score3])\n",
    "                \n",
    "    return total_score/len(layer_f_dist),total_score_details/len(layer_f_dist)\n",
    "        \n",
    "\n",
    "def gm_vc_pos(pos_ls, cluster_num):\n",
    "    gm = GaussianMixture(n_components=cluster_num, covariance_type='full', \\\n",
    "                                  n_init=10, max_iter=1500)\n",
    "    \n",
    "    gm.fit(pos_ls)\n",
    "    assignment = gm.predict(pos_ls)\n",
    "    return gm, assignment\n",
    "\n"
   ]
  },
  {
   "cell_type": "code",
   "execution_count": 3,
   "metadata": {},
   "outputs": [
    {
     "name": "stdout",
     "output_type": "stream",
     "text": [
      "VC idx: 0\n",
      "not enough VC firing 17\n",
      "VC idx: 20\n",
      "not enough VC firing 30\n",
      "not enough VC firing 38\n",
      "VC idx: 40\n",
      "VC idx: 60\n",
      "VC idx: 80\n",
      "not enough VC firing 81\n",
      "VC idx: 100\n",
      "not enough VC firing 108\n",
      "not enough VC firing 110\n",
      "VC idx: 120\n",
      "VC idx: 140\n",
      "not enough VC firing 145\n",
      "not enough VC firing 157\n",
      "158\n"
     ]
    }
   ],
   "source": [
    "gm_ls = [None for vc_i in range(max_2)]\n",
    "vc_part_cnt = np.zeros(max_2).astype(int)\n",
    "for vc_i in range(max_2):\n",
    "    if vc_i%20 == 0:\n",
    "        print('VC idx: {0}'.format(vc_i))\n",
    "        \n",
    "    vc_p = []\n",
    "    for nn in range(N):\n",
    "        vc_l = layer_feature_b[nn][:,:,vc_i]\n",
    "        rnum, colnum = vc_l.shape\n",
    "        diffr = int((max_0-rnum)/2)\n",
    "        diffc = int((max_1-colnum)/2)\n",
    "        row_i, col_i = np.where(vc_l==1)\n",
    "        for pp in zip(row_i,col_i):\n",
    "            vc_p.append((pp[0]+diffr,pp[1]+diffc))\n",
    "                \n",
    "    if len(vc_p)<N/2:\n",
    "        print('not enough VC firing {0}'.format(vc_i))\n",
    "        continue\n",
    "        \n",
    "    vc_p=np.array(vc_p)\n",
    "    K=4\n",
    "    gm, assignment = gm_vc_pos(vc_p, K)\n",
    "    while True:\n",
    "        p_dist = pdist(gm.means_)\n",
    "        if np.any(gm.weights_<0.5/K) or np.any(p_dist<7):\n",
    "            K -= 1\n",
    "            if K==1:\n",
    "                gm = None\n",
    "                assignment = np.zeros(vc_p.shape[0])\n",
    "                break\n",
    "            else:\n",
    "                gm, assignment = gm_vc_pos(vc_p, K)\n",
    "        else:\n",
    "            break\n",
    "            \n",
    "    # print('final K: {0}'.format(K), flush='True')\n",
    "    gm_ls[vc_i]=gm\n",
    "    vc_part_cnt[vc_i] = K\n",
    "    \n",
    "print(len(gm_ls))"
   ]
  },
  {
   "cell_type": "code",
   "execution_count": 14,
   "metadata": {},
   "outputs": [
    {
     "name": "stdout",
     "output_type": "stream",
     "text": [
      "1317.63154085 [ 445.84851131  675.43628575  196.34674379]\n"
     ]
    }
   ],
   "source": [
    "layer_fired_pos = get_fired_pos_gm(layer_feature_dist, layer_feature_b, gm_ls, vc_part_cnt, max_0, max_1, max_2)\n",
    "vc_templates = get_vctplt(layer_fired_pos, layer_feature_dist, vc_part_cnt, max_0, max_1, max_2)\n",
    "layer_fired_pos = get_fired_pos_vct(layer_feature_dist, layer_feature_b, gm_ls, vc_templates, vc_part_cnt, max_0, max_1, max_2)\n",
    "\n",
    "for itt in range(1):\n",
    "    heat_map = get_heatmap(layer_fired_pos, max_0, max_1, max_2, blur=0.25, pctl = None, thrh = None)\n",
    "    vc_part_p = [[np.sum([not(layer_fired_pos[nn][vc_i][hmnn] is None) for nn in range(N)])/N for hmnn in range(vc_part_cnt[vc_i])]for vc_i in range(max_2)]\n",
    "    sc, sc_d = get_score(layer_feature_dist, layer_fired_pos, heat_map, vc_templates, vc_part_cnt, vc_part_p)\n",
    "    print(sc, sc_d)\n",
    "    \n",
    "    vc_templates = get_vctplt(layer_fired_pos, layer_feature_dist, vc_part_cnt, max_0, max_1, max_2)\n",
    "    layer_fired_pos = get_fired_pos(layer_feature_dist, layer_feature_b, heat_map, vc_part_cnt, vc_part_p, vc_templates)\n",
    "    "
   ]
  },
  {
   "cell_type": "code",
   "execution_count": 15,
   "metadata": {},
   "outputs": [
    {
     "data": {
      "image/png": "[encoded data removed]",
      "text/plain": [
       "<matplotlib.figure.Figure at 0x7fa05bc68908>"
      ]
     },
     "metadata": {},
     "output_type": "display_data"
    },
    {
     "data": {
      "image/png": "[encoded data removed]",
      "text/plain": [
       "<matplotlib.figure.Figure at 0x7fa05be6a1d0>"
      ]
     },
     "metadata": {},
     "output_type": "display_data"
    },
    {
     "data": {
      "image/png": "[encoded data removed]",
      "text/plain": [
       "<matplotlib.figure.Figure at 0x7fa05b8441d0>"
      ]
     },
     "metadata": {},
     "output_type": "display_data"
    },
    {
     "data": {
      "image/png": "[encoded data removed]",
      "text/plain": [
       "<matplotlib.figure.Figure at 0x7fa05b79d2b0>"
      ]
     },
     "metadata": {},
     "output_type": "display_data"
    }
   ],
   "source": [
    "heat_map_i = get_heatmap(layer_fired_pos, max_0, max_1, max_2, blur=0.25, pctl = None, thrh = None)\n",
    "vc_i = 0\n",
    "for hm in heat_map_i[vc_i]:\n",
    "    plt.imshow(hm, cmap='hot', interpolation='nearest')\n",
    "    plt.show()\n",
    "    \n",
    "vc_i = 1\n",
    "for hm in heat_map_i[vc_i]:\n",
    "    plt.imshow(hm, cmap='hot', interpolation='nearest')\n",
    "    plt.show()"
   ]
  },
  {
   "cell_type": "code",
   "execution_count": 16,
   "metadata": {},
   "outputs": [
    {
     "name": "stdout",
     "output_type": "stream",
     "text": [
      "1442.9128482 [ 540.83837155  700.89252743  201.18194922]\n",
      "1499.77065479 [ 571.01294644  722.0700822   206.68762614]\n",
      "1534.71831998 [ 588.93131111  735.33135196  210.45565692]\n",
      "1555.34089363 [ 599.63050362  742.99234361  212.7180464 ]\n",
      "1570.8362323 [ 606.57190575  749.53047254  214.73385401]\n",
      "1581.26175613 [ 611.53182866  753.68279029  216.04713718]\n",
      "1588.93829064 [ 615.24558088  756.69176745  217.00094232]\n",
      "1594.02917377 [ 617.61383334  758.72851839  217.68682204]\n",
      "1598.36947207 [ 619.57933291  760.51071805  218.27942111]\n",
      "1601.36327354 [ 620.89553026  761.78078218  218.68696111]\n"
     ]
    }
   ],
   "source": [
    "for itt in range(10):\n",
    "    heat_map = get_heatmap(layer_fired_pos, max_0, max_1, max_2, blur=0.25, pctl = None, thrh = None)\n",
    "    vc_part_p = [[np.sum([not(layer_fired_pos[nn][vc_i][hmnn] is None) for nn in range(N)])/N for hmnn in range(vc_part_cnt[vc_i])]for vc_i in range(max_2)]\n",
    "    sc, sc_d = get_score(layer_feature_dist, layer_fired_pos, heat_map, vc_templates, vc_part_cnt, vc_part_p)\n",
    "    print(sc, sc_d)\n",
    "    \n",
    "    vc_templates = get_vctplt(layer_fired_pos, layer_feature_dist, vc_part_cnt, max_0, max_1, max_2)\n",
    "    layer_fired_pos = get_fired_pos(layer_feature_dist, layer_feature_b, heat_map, vc_part_cnt, vc_part_p, vc_templates)\n",
    "    "
   ]
  },
  {
   "cell_type": "code",
   "execution_count": 24,
   "metadata": {},
   "outputs": [
    {
     "data": {
      "image/png": "[encoded data removed]",
      "text/plain": [
       "<matplotlib.figure.Figure at 0x7fa05c0f4cf8>"
      ]
     },
     "metadata": {},
     "output_type": "display_data"
    },
    {
     "data": {
      "image/png": "[encoded data removed]",
      "text/plain": [
       "<matplotlib.figure.Figure at 0x7fa05bbc5b38>"
      ]
     },
     "metadata": {},
     "output_type": "display_data"
    },
    {
     "data": {
      "image/png": "[encoded data removed]",
      "text/plain": [
       "<matplotlib.figure.Figure at 0x7fa05bb8d9e8>"
      ]
     },
     "metadata": {},
     "output_type": "display_data"
    },
    {
     "data": {
      "image/png": "[encoded data removed]",
      "text/plain": [
       "<matplotlib.figure.Figure at 0x7fa05e37e630>"
      ]
     },
     "metadata": {},
     "output_type": "display_data"
    }
   ],
   "source": [
    "heat_map_ii = get_heatmap(layer_fired_pos, max_0, max_1, max_2, blur=0.5, pctl = None, thrh = None)\n",
    "vc_i = 0\n",
    "for hm in heat_map_ii[vc_i]:\n",
    "    plt.imshow(hm, cmap='hot', interpolation='nearest')\n",
    "    plt.show()\n",
    "    \n",
    "vc_i = 1\n",
    "for hm in heat_map_ii[vc_i]:\n",
    "    plt.imshow(hm, cmap='hot', interpolation='nearest')\n",
    "    plt.show()"
   ]
  },
  {
   "cell_type": "code",
   "execution_count": 20,
   "metadata": {},
   "outputs": [
    {
     "name": "stdout",
     "output_type": "stream",
     "text": [
      "[[ 1.15665208  1.15771138  1.16490266  1.16812898  1.15886492  1.1594994\n",
      "   1.16774829]\n",
      " [ 1.15024843  1.13163039  1.10815616  1.08236165  1.09747624  1.12846686\n",
      "   1.15390187]\n",
      " [ 1.11780925  0.99834631  0.88188718  0.88042734  0.96662931  1.08132105\n",
      "   1.13583357]\n",
      " [ 1.07436962  0.82920381  0.66376859  0.75076063  0.84815225  1.01083133\n",
      "   1.11459772]\n",
      " [ 1.02522978  0.77066491  0.7574316   0.85604157  0.95407053  1.04251984\n",
      "   1.12090958]\n",
      " [ 1.11113884  0.97536479  0.98770431  1.05943408  1.10854145  1.12890549\n",
      "   1.1493532 ]\n",
      " [ 1.15921623  1.14014596  1.13715429  1.15739874  1.16855023  1.17718888\n",
      "   1.17965205]]\n"
     ]
    },
    {
     "data": {
      "image/png": "[encoded data removed]",
      "text/plain": [
       "<matplotlib.figure.Figure at 0x7fa05c1fc128>"
      ]
     },
     "metadata": {},
     "output_type": "display_data"
    },
    {
     "name": "stdout",
     "output_type": "stream",
     "text": [
      "[[ 1.12484218  1.1175641   1.11832055  1.12715478  1.14307146  1.14944037\n",
      "   1.15593264]\n",
      " [ 1.09214906  1.07501919  1.05828486  1.07665346  1.09340146  1.12626173\n",
      "   1.14543651]\n",
      " [ 1.09406077  0.9989983   0.89288469  0.88462851  0.93831097  1.04227898\n",
      "   1.11229974]\n",
      " [ 1.10156716  0.88184219  0.71841027  0.71804063  0.79957195  0.94215363\n",
      "   1.07984511]\n",
      " [ 1.0979778   0.81905981  0.71086011  0.7414252   0.87729223  0.97900965\n",
      "   1.0738026 ]\n",
      " [ 1.12676662  0.98792953  0.89551754  0.97821482  1.05252959  1.09760985\n",
      "   1.13042197]\n",
      " [ 1.16012326  1.14872189  1.10570304  1.12763817  1.15655142  1.16753775\n",
      "   1.1709283 ]]\n"
     ]
    },
    {
     "data": {
      "image/png": "[encoded data removed]",
      "text/plain": [
       "<matplotlib.figure.Figure at 0x7fa05babb9b0>"
      ]
     },
     "metadata": {},
     "output_type": "display_data"
    }
   ],
   "source": [
    "vc_i=1\n",
    "for vct in vc_templates[vc_i]:\n",
    "    print(vct)\n",
    "    plt.imshow(vct, cmap='hot', interpolation='nearest')\n",
    "    plt.show()"
   ]
  },
  {
   "cell_type": "code",
   "execution_count": 29,
   "metadata": {},
   "outputs": [
    {
     "data": {
      "image/png": "[encoded data removed]",
      "text/plain": [
       "<matplotlib.figure.Figure at 0x7fa05b8612e8>"
      ]
     },
     "metadata": {},
     "output_type": "display_data"
    },
    {
     "data": {
      "image/png": "[encoded data removed]",
      "text/plain": [
       "<matplotlib.figure.Figure at 0x7fa05b73d4e0>"
      ]
     },
     "metadata": {},
     "output_type": "display_data"
    }
   ],
   "source": [
    "fn = '/export/home/qliu24/qing_voting_data/intermediate/VCpart_model_car/VCpart_model_car_K4_term2.pickle'\n",
    "with open(fn, 'rb') as fh:\n",
    "    hmf, _ = pickle.load(fh)\n",
    "    \n",
    "vc_i = 0\n",
    "for hm in hmf[3][vc_i]:\n",
    "    plt.imshow(hm, cmap='hot', interpolation='nearest')\n",
    "    plt.show()"
   ]
  },
  {
   "cell_type": "code",
   "execution_count": 22,
   "metadata": {},
   "outputs": [
    {
     "data": {
      "text/plain": [
       "4"
      ]
     },
     "execution_count": 22,
     "metadata": {},
     "output_type": "execute_result"
    }
   ],
   "source": [
    "len(hmf)"
   ]
  },
  {
   "cell_type": "code",
   "execution_count": null,
   "metadata": {
    "collapsed": true
   },
   "outputs": [],
   "source": []
  }
 ],
 "metadata": {
  "kernelspec": {
   "display_name": "Python 3",
   "language": "python",
   "name": "python3"
  },
  "language_info": {
   "codemirror_mode": {
    "name": "ipython",
    "version": 3
   },
   "file_extension": ".py",
   "mimetype": "text/x-python",
   "name": "python",
   "nbconvert_exporter": "python",
   "pygments_lexer": "ipython3",
   "version": "3.6.1"
  }
 },
 "nbformat": 4,
 "nbformat_minor": 2
}
