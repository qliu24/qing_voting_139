{
 "cells": [
  {
   "cell_type": "code",
   "execution_count": null,
   "metadata": {
    "collapsed": true
   },
   "outputs": [],
   "source": [
    "import pickle\n",
    "import numpy as np\n",
    "import matplotlib.pyplot as plt\n",
    "from sklearn.cluster import KMeans\n",
    "from nms import nms\n",
    "from config_voting import *\n",
    "%matplotlib inline\n",
    "\n",
    "model_category='car'\n",
    "\n",
    "Model_file = model_file_dic[model_category]\n",
    "assert(os.path.isfile(Model_file))\n",
    "with open(Model_file, 'rb') as fh:\n",
    "    heat_map, vc_templates = pickle.load(fh)\n",
    "    \n",
    "file_gt_obj_feat = os.path.join(dir_perf_eval, 'gt_feat_{0}_{1}_{2}.pickle'.format('car', dataset_suffix, 'test'))\n",
    "with open(file_gt_obj_feat, 'rb') as fh:\n",
    "    gt, n_pos = pickle.load(fh)\n",
    "    \n"
   ]
  }
 ],
 "metadata": {
  "kernelspec": {
   "display_name": "Python 3",
   "language": "python",
   "name": "python3"
  },
  "language_info": {
   "codemirror_mode": {
    "name": "ipython",
    "version": 3
   },
   "file_extension": ".py",
   "mimetype": "text/x-python",
   "name": "python",
   "nbconvert_exporter": "python",
   "pygments_lexer": "ipython3",
   "version": "3.6.1"
  }
 },
 "nbformat": 4,
 "nbformat_minor": 2
}
