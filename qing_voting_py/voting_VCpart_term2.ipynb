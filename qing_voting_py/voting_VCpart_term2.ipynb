{
 "cells": [
  {
   "cell_type": "code",
   "execution_count": 1,
   "metadata": {},
   "outputs": [
    {
     "name": "stdout",
     "output_type": "stream",
     "text": [
      "loading object car\n",
      "total number of instances 1000\n",
      "total number of instances 118\n",
      "14 54 158\n"
     ]
    }
   ],
   "source": [
    "import pickle\n",
    "import numpy as np\n",
    "import matplotlib.pyplot as plt\n",
    "from sklearn.mixture import GaussianMixture\n",
    "from scipy.spatial.distance import pdist\n",
    "from nms import nms\n",
    "from config_voting import *\n",
    "from copy import *\n",
    "%matplotlib inline\n",
    "\n",
    "\n",
    "file_path = '/export/home/qliu24/qing_voting_data/intermediate/feat_pickle_VGG/'\n",
    "\n",
    "oo = 'car'\n",
    "fname = file_path + 'res_info_' + oo + '_train_carVC.pickle'\n",
    "print('loading object {0}'.format(oo))\n",
    "with open(fname, 'rb') as fh:\n",
    "    layer_feature_dist, _, view_point = pickle.load(fh)\n",
    "            \n",
    "N = len(layer_feature_dist)\n",
    "print('total number of instances {0}'.format(N))\n",
    "\n",
    "view_point = np.array(view_point)\n",
    "idx_s = np.where(np.logical_and(view_point>=67.5,view_point<=112.5))[0]\n",
    "\n",
    "layer_feature_dist = [layer_feature_dist[nn] for nn in idx_s]\n",
    "\n",
    "N = len(layer_feature_dist)\n",
    "print('total number of instances {0}'.format(N))\n",
    "\n",
    "'''\n",
    "# load original pool4 features\n",
    "file_cache_feat = '/export/home/qliu24/qing_voting_data/intermediate/feat_VGG/car_mergelist_rand_train_carVC.pickle'\n",
    "with open(file_cache_feat, 'rb') as fh:\n",
    "    feat_set, layer_feature_dist = pickle.load(fh)\n",
    "'''   \n",
    "\n",
    "magic_thh = 0.85\n",
    "layer_feature_b = [None for nn in range(N)]\n",
    "for nn in range(N):\n",
    "    layer_feature_b[nn] = (layer_feature_dist[nn]<magic_thh).astype(int)\n",
    "    \n",
    "for lfb in layer_feature_b:\n",
    "    lfb[0:3, :, :] = 0\n",
    "    lfb[-3:, :, :] = 0\n",
    "    lfb[:, 0:3, :] = 0\n",
    "    lfb[:, -3:, :] = 0\n",
    "    \n",
    "\n",
    "max_0 = max([lfb.shape[0] for lfb in layer_feature_b])\n",
    "max_1 = max([lfb.shape[1] for lfb in layer_feature_b])\n",
    "max_2 = max([lfb.shape[2] for lfb in layer_feature_b])\n",
    "\n",
    "print(max_0, max_1, max_2)"
   ]
  },
  {
   "cell_type": "code",
   "execution_count": 9,
   "metadata": {
    "collapsed": true
   },
   "outputs": [],
   "source": [
    "def get_fired_pos_gm(layer_f_dist, layer_f_b, gm_ls, vc_part_cnt, max_0, max_1, max_2):\n",
    "    heat_map_min = 1/(max_0*max_1)\n",
    "    hm_BG_val = np.log(heat_map_min)\n",
    "    \n",
    "    layer_f_pos = [[[None for hmnn in range(vc_part_cnt[vc_i])] for vc_i in range(max_2)] for nn in range(len(layer_f_dist))]\n",
    "    \n",
    "    for lfd_i,lfd in enumerate(layer_f_dist):\n",
    "        lfb = layer_f_b[lfd_i]\n",
    "        rll,cll = lfd.shape[0:2]\n",
    "        diff_r = int((max_0-rll)/2)\n",
    "        diff_c = int((max_1-cll)/2)\n",
    "        \n",
    "        for vc_i in range(max_2):\n",
    "            ri, ci = np.where(lfb[:,:,vc_i]==1)\n",
    "            if ri.size==0:\n",
    "                continue\n",
    "            \n",
    "            pos_lsi = np.column_stack([ri+diff_r, ci+diff_c])\n",
    "            if vc_part_cnt[vc_i] == 1:\n",
    "                ass = np.zeros(len(ri))\n",
    "            elif vc_part_cnt[vc_i] > 1:\n",
    "                ass = gm_ls[vc_i].predict(pos_lsi)\n",
    "                \n",
    "            for kk in range(vc_part_cnt[vc_i]):\n",
    "                if np.sum(ass==kk) == 0:\n",
    "                    continue\n",
    "\n",
    "                det = []\n",
    "                for pp in zip(ri[ass==kk],ci[ass==kk]):\n",
    "                    pp_dist = lfd[pp[0]-3:pp[0]+4,pp[1]-3:pp[1]+4, vc_i]\n",
    "                    score2 = (1.7*49-np.sum(pp_dist**2))\n",
    "                    det.append(score2)\n",
    "\n",
    "                layer_f_pos[lfd_i][vc_i][kk] = pos_lsi[ass==kk][np.argmax(det)]\n",
    "            \n",
    "    return layer_f_pos\n",
    "\n",
    "\n",
    "\n",
    "\n",
    "def get_fired_pos(layer_f_dist, layer_f_b, heat_map, vc_part_cnt, vc_part_p):\n",
    "    max_0, max_1 = heat_map[0][0].shape\n",
    "    max_2 = len(heat_map)\n",
    "    heat_map_min = 1/(max_0*max_1)\n",
    "    hm_BG_val = np.log(heat_map_min)\n",
    "    \n",
    "    layer_f_pos = [[[None for hmnn in range(vc_part_cnt[vc_i])] for vc_i in range(max_2)] for nn in range(len(layer_f_dist))]\n",
    "    \n",
    "    for lfd_i,lfd in enumerate(layer_f_dist):\n",
    "        lfb = layer_f_b[lfd_i]\n",
    "        rll,cll = lfd.shape[0:2]\n",
    "        diff_r = int((max_0-rll)/2)\n",
    "        diff_c = int((max_1-cll)/2)\n",
    "        \n",
    "        for vc_i in range(max_2):\n",
    "            for hmnn in range(vc_part_cnt[vc_i]):\n",
    "                hm = heat_map[vc_i][hmnn]\n",
    "                hm_ll = hm[diff_r:diff_r+rll,diff_c:diff_c+cll]\n",
    "                \n",
    "                ri, ci = np.where(np.logical_and(lfb[:,:,vc_i]==1,hm_ll[:,:]>0))\n",
    "                if ri.size==0:\n",
    "                    continue\n",
    "                \n",
    "                pos_lsi = np.column_stack([ri+diff_r, ci+diff_c])\n",
    "                \n",
    "                det = []\n",
    "                for pp in zip(ri, ci):\n",
    "                    pp_dist = lfd[pp[0]-3:pp[0]+4,pp[1]-3:pp[1]+4, vc_i]\n",
    "                    score1 = np.log(hm_ll[pp[0],pp[1]]) + np.log(vc_part_p[vc_i][hmnn]) - hm_BG_val\n",
    "                    score2 = (1.7*49-np.sum(pp_dist**2))\n",
    "                    det.append(score1+score2)\n",
    "                    \n",
    "                layer_f_pos[lfd_i][vc_i][hmnn] = pos_lsi[np.argmax(det)]\n",
    "                \n",
    "    return layer_f_pos\n",
    "\n",
    "\n",
    "def get_heatmap(layer_f_pos, max_0, max_1, max_2, blur=0.5, pctl = None, thrh = None):\n",
    "    heat_map = [[np.zeros((max_0, max_1)) for hmnn in range(len(layer_f_pos[0][vc_i]))] for vc_i in range(max_2)]\n",
    "    for vc_i in range(max_2):\n",
    "        for hmnn in range(len(layer_f_pos[0][vc_i])):\n",
    "            vc_p = []\n",
    "            for lfp in layer_f_pos:\n",
    "                if not(lfp[vc_i][hmnn] is None):\n",
    "                    vc_p.append(lfp[vc_i][hmnn])\n",
    "            \n",
    "            if len(vc_p)==0:\n",
    "                print('empty vc_p for {0}_{1}'.format(vc_i, hmnn))\n",
    "                continue\n",
    "                \n",
    "            heat_map[vc_i][hmnn] = init_heatmap(vc_p, max_0, max_1, blur, pctl, thrh)\n",
    "            \n",
    "    return heat_map\n",
    "\n",
    "def init_heatmap(vc_p, max_0, max_1, blur=0.5, pctl = None, thrh = None):\n",
    "    hm = np.zeros((max_0, max_1))\n",
    "    for pp in vc_p:\n",
    "        if blur is None:\n",
    "            hm[pp[0],pp[1]]+=1\n",
    "        else:\n",
    "            hm[pp[0],pp[1]]+=1.0-blur\n",
    "            hm[pp[0]-1:pp[0]+2,pp[1]-1:pp[1]+2]+=blur\n",
    "            \n",
    "    if pctl is None and thrh is None:\n",
    "        thrh = 0\n",
    "    elif not (pctl is None):\n",
    "        thrh = np.percentile(hm[hm>0], pctl)\n",
    "        \n",
    "    hm[hm<=thrh]=0\n",
    "    hm /= np.sum(hm)\n",
    "    return hm\n",
    "\n",
    "\n",
    "def get_score(layer_f_dist, layer_f_pos, heat_map, vc_part_cnt, vc_part_p):\n",
    "    max_0, max_1 = heat_map[0][0].shape\n",
    "    max_2 = len(heat_map)\n",
    "    heat_map_min = 1/(max_0*max_1)\n",
    "    hm_BG_val = np.log(heat_map_min)\n",
    "    \n",
    "    total_score = 0\n",
    "    total_score_details = np.zeros(2)\n",
    "    for lfd, lfp in zip(layer_f_dist, layer_f_pos):\n",
    "        rll, cll = lfd.shape[0:2]\n",
    "        diff_r = int((max_0-rll)/2)\n",
    "        diff_c = int((max_1-cll)/2)\n",
    "        \n",
    "        for vc_i in range(max_2):\n",
    "        # for vc_i in [17,30,38,81,108]:\n",
    "            for hmnn in range(vc_part_cnt[vc_i]):\n",
    "                if lfp[vc_i][hmnn] is None:\n",
    "                    continue\n",
    "                \n",
    "                if vc_part_p[vc_i][hmnn] < 0.1:\n",
    "                    continue\n",
    "                    \n",
    "                rp = lfp[vc_i][hmnn][0] - diff_r\n",
    "                cp = lfp[vc_i][hmnn][1] - diff_c\n",
    "                pp_dist = lfd[rp-3:rp+4,cp-3:cp+4, vc_i]\n",
    "                \n",
    "                score1 = np.log(heat_map[vc_i][hmnn][lfp[vc_i][hmnn][0],lfp[vc_i][hmnn][1]]) + np.log(vc_part_p[vc_i][hmnn]) - hm_BG_val\n",
    "                score2 = (1.7*49-np.sum(pp_dist**2))/2\n",
    "                \n",
    "                # print(vc_i,hmnn,score1,score2)\n",
    "                \n",
    "                total_score += score1+score2\n",
    "                total_score_details += np.array([score1,score2])\n",
    "                \n",
    "    return total_score/len(layer_f_dist),total_score_details/len(layer_f_dist)\n",
    "        \n",
    "\n",
    "def gm_vc_pos(pos_ls, cluster_num):\n",
    "    gm = GaussianMixture(n_components=cluster_num, covariance_type='full', \\\n",
    "                                  n_init=10, max_iter=1500)\n",
    "    \n",
    "    gm.fit(pos_ls)\n",
    "    assignment = gm.predict(pos_ls)\n",
    "    return gm, assignment\n",
    "\n"
   ]
  },
  {
   "cell_type": "code",
   "execution_count": 3,
   "metadata": {},
   "outputs": [
    {
     "name": "stdout",
     "output_type": "stream",
     "text": [
      "VC idx: 0\n",
      "not enough VC firing 17\n",
      "VC idx: 20\n",
      "not enough VC firing 30\n",
      "not enough VC firing 38\n",
      "VC idx: 40\n",
      "VC idx: 60\n",
      "VC idx: 80\n",
      "not enough VC firing 81\n",
      "VC idx: 100\n",
      "not enough VC firing 108\n",
      "not enough VC firing 110\n",
      "VC idx: 120\n",
      "VC idx: 140\n",
      "not enough VC firing 145\n",
      "not enough VC firing 157\n",
      "158\n"
     ]
    }
   ],
   "source": [
    "gm_ls = [None for vc_i in range(max_2)]\n",
    "vc_part_cnt = np.zeros(max_2).astype(int)\n",
    "for vc_i in range(max_2):\n",
    "    if vc_i%20 == 0:\n",
    "        print('VC idx: {0}'.format(vc_i))\n",
    "    vc_p = []\n",
    "    for nn in range(N):\n",
    "        vc_l = layer_feature_b[nn][:,:,vc_i]\n",
    "        rnum, colnum = vc_l.shape\n",
    "        diffr = int((max_0-rnum)/2)\n",
    "        diffc = int((max_1-colnum)/2)\n",
    "        row_i, col_i = np.where(vc_l==1)\n",
    "        for pp in zip(row_i,col_i):\n",
    "            vc_p.append((pp[0]+diffr,pp[1]+diffc))\n",
    "                \n",
    "    if len(vc_p)<N/2:\n",
    "        print('not enough VC firing {0}'.format(vc_i))\n",
    "        continue\n",
    "        \n",
    "    vc_p=np.array(vc_p)\n",
    "    K=4\n",
    "    gm, assignment = gm_vc_pos(vc_p, K)\n",
    "    while True:\n",
    "        p_dist = pdist(gm.means_)\n",
    "        if np.any(gm.weights_<0.5/K) or np.any(p_dist<7):\n",
    "            K -= 1\n",
    "            if K==1:\n",
    "                gm = None\n",
    "                assignment = np.zeros(vc_p.shape[0])\n",
    "                break\n",
    "            else:\n",
    "                gm, assignment = gm_vc_pos(vc_p, K)\n",
    "        else:\n",
    "            break\n",
    "            \n",
    "    # print('final K: {0}'.format(K), flush='True')\n",
    "    gm_ls[vc_i]=gm\n",
    "    vc_part_cnt[vc_i] = K\n",
    "        \n",
    "print(len(gm_ls))"
   ]
  },
  {
   "cell_type": "code",
   "execution_count": 10,
   "metadata": {},
   "outputs": [
    {
     "name": "stdout",
     "output_type": "stream",
     "text": [
      "3918.906996 [  529.67457289  3389.23242311]\n"
     ]
    }
   ],
   "source": [
    "layer_fired_pos = get_fired_pos_gm(layer_feature_dist, layer_feature_b, gm_ls, vc_part_cnt, max_0, max_1, max_2)\n",
    "\n",
    "for itt in range(1):\n",
    "    heat_map = get_heatmap(layer_fired_pos, max_0, max_1, max_2, blur=None, pctl = None, thrh = None)\n",
    "    vc_part_p = [[np.sum([not(layer_fired_pos[nn][vc_i][hmnn] is None) for nn in range(N)])/N for hmnn in range(vc_part_cnt[vc_i])]for vc_i in range(max_2)]\n",
    "    sc, sc_d = get_score(layer_feature_dist, layer_fired_pos, heat_map, vc_part_cnt, vc_part_p)\n",
    "    print(sc, sc_d)\n",
    "    \n",
    "    layer_fired_pos = get_fired_pos(layer_feature_dist, layer_feature_b, heat_map, vc_part_cnt, vc_part_p)\n",
    "    "
   ]
  },
  {
   "cell_type": "code",
   "execution_count": 37,
   "metadata": {},
   "outputs": [
    {
     "data": {
      "image/png": "[encoded data removed]",
      "text/plain": [
       "<matplotlib.figure.Figure at 0x7f9284ab6860>"
      ]
     },
     "metadata": {},
     "output_type": "display_data"
    },
    {
     "data": {
      "image/png": "[encoded data removed]",
      "text/plain": [
       "<matplotlib.figure.Figure at 0x7f92841c97f0>"
      ]
     },
     "metadata": {},
     "output_type": "display_data"
    }
   ],
   "source": [
    "# heat_map_i = get_heatmap(layer_fired_pos, max_0, max_1, max_2, blur=0.5, pctl = None, thrh = None)\n",
    "vc_i = 65\n",
    "for hm in heat_map_i[vc_i]:\n",
    "    plt.imshow(hm, cmap='hot', interpolation='nearest')\n",
    "    plt.show()\n",
    "    \n",
    "vc_i = 143\n",
    "for hm in heat_map_i[vc_i]:\n",
    "    plt.imshow(hm, cmap='hot', interpolation='nearest')\n",
    "    plt.show()"
   ]
  },
  {
   "cell_type": "code",
   "execution_count": 35,
   "metadata": {},
   "outputs": [
    {
     "name": "stdout",
     "output_type": "stream",
     "text": [
      "3967.43458913 [  588.81073177  3378.62385736]\n",
      "3981.4120111 [  606.17106253  3375.24094857]\n",
      "3986.19167052 [  612.38948473  3373.80218579]\n",
      "3988.68895029 [  615.62929053  3373.05965976]\n",
      "3990.00661586 [  617.372842    3372.63377386]\n",
      "3990.70247059 [  618.31892039  3372.3835502 ]\n",
      "3991.08543058 [  618.83642926  3372.24900133]\n",
      "3991.28560346 [  619.094953    3372.19065046]\n",
      "3991.40997317 [  619.24492921  3372.16504396]\n",
      "3991.44790307 [  619.27912078  3372.16878229]\n"
     ]
    }
   ],
   "source": [
    "for itt in range(10):\n",
    "    heat_map = get_heatmap(layer_fired_pos, max_0, max_1, max_2, blur=None, pctl = None, thrh = None)\n",
    "    vc_part_p = [[np.sum([not(layer_fired_pos[nn][vc_i][hmnn] is None) for nn in range(N)])/N for hmnn in range(vc_part_cnt[vc_i])]for vc_i in range(max_2)]\n",
    "    sc, sc_d = get_score(layer_feature_dist, layer_fired_pos, heat_map, vc_part_cnt, vc_part_p)\n",
    "    print(sc, sc_d)\n",
    "    \n",
    "    layer_fired_pos = get_fired_pos(layer_feature_dist, layer_feature_b, heat_map, vc_part_cnt, vc_part_p)"
   ]
  },
  {
   "cell_type": "code",
   "execution_count": 38,
   "metadata": {},
   "outputs": [
    {
     "data": {
      "image/png": "[encoded data removed]",
      "text/plain": [
       "<matplotlib.figure.Figure at 0x7f9284417860>"
      ]
     },
     "metadata": {},
     "output_type": "display_data"
    },
    {
     "data": {
      "image/png": "[encoded data removed]",
      "text/plain": [
       "<matplotlib.figure.Figure at 0x7f92847d7080>"
      ]
     },
     "metadata": {},
     "output_type": "display_data"
    }
   ],
   "source": [
    "# heat_map_ii = get_heatmap(layer_fired_pos, max_0, max_1, max_2, blur=0.5, pctl = None, thrh = None)\n",
    "vc_i = 65\n",
    "for hm in heat_map_ii[vc_i]:\n",
    "    plt.imshow(hm, cmap='hot', interpolation='nearest')\n",
    "    plt.show()\n",
    "    \n",
    "vc_i = 143\n",
    "for hm in heat_map_ii[vc_i]:\n",
    "    plt.imshow(hm, cmap='hot', interpolation='nearest')\n",
    "    plt.show()"
   ]
  },
  {
   "cell_type": "code",
   "execution_count": 21,
   "metadata": {},
   "outputs": [
    {
     "data": {
      "image/png": "[encoded data removed]",
      "text/plain": [
       "<matplotlib.figure.Figure at 0x7f928495a630>"
      ]
     },
     "metadata": {},
     "output_type": "display_data"
    },
    {
     "data": {
      "image/png": "[encoded data removed]",
      "text/plain": [
       "<matplotlib.figure.Figure at 0x7f9284a4f470>"
      ]
     },
     "metadata": {},
     "output_type": "display_data"
    },
    {
     "data": {
      "text/plain": [
       "\"\\nvc_i = 109\\nfor hm in heat_map[vc_i]:\\n    plt.imshow(hm, cmap='hot', interpolation='nearest')\\n    plt.show()\\n\""
      ]
     },
     "execution_count": 21,
     "metadata": {},
     "output_type": "execute_result"
    }
   ],
   "source": [
    "# 3577.98239596 [  388.17094842  3189.81144754]\n",
    "# [11,17,30,38]\n",
    "vc_i = 2\n",
    "for hm in heat_map[vc_i]:\n",
    "    plt.imshow(hm, cmap='hot', interpolation='nearest')\n",
    "    plt.show()\n",
    "    \n",
    "'''\n",
    "vc_i = 109\n",
    "for hm in heat_map[vc_i]:\n",
    "    plt.imshow(hm, cmap='hot', interpolation='nearest')\n",
    "    plt.show()\n",
    "'''"
   ]
  },
  {
   "cell_type": "code",
   "execution_count": 51,
   "metadata": {},
   "outputs": [
    {
     "data": {
      "text/plain": [
       "array([  7.,   8.,   9.,  10.,  11.,  11.,  11.,  13.,  13.,  13.])"
      ]
     },
     "execution_count": 51,
     "metadata": {},
     "output_type": "execute_result"
    }
   ],
   "source": [
    "np.sort(np.concatenate([[vc_part_p[vc_i][hmnn] for hmnn in range(vc_part_cnt[vc_i])] for vc_i in range(max_2)]))[0:10]*118"
   ]
  },
  {
   "cell_type": "code",
   "execution_count": 58,
   "metadata": {},
   "outputs": [
    {
     "data": {
      "text/plain": [
       "[0.16949152542372881]"
      ]
     },
     "execution_count": 58,
     "metadata": {},
     "output_type": "execute_result"
    }
   ],
   "source": [
    "vc_part_p[157]"
   ]
  },
  {
   "cell_type": "code",
   "execution_count": null,
   "metadata": {
    "collapsed": true
   },
   "outputs": [],
   "source": []
  },
  {
   "cell_type": "code",
   "execution_count": null,
   "metadata": {
    "collapsed": true
   },
   "outputs": [],
   "source": []
  }
 ],
 "metadata": {
  "kernelspec": {
   "display_name": "Python 3",
   "language": "python",
   "name": "python3"
  },
  "language_info": {
   "codemirror_mode": {
    "name": "ipython",
    "version": 3
   },
   "file_extension": ".py",
   "mimetype": "text/x-python",
   "name": "python",
   "nbconvert_exporter": "python",
   "pygments_lexer": "ipython3",
   "version": "3.6.1"
  }
 },
 "nbformat": 4,
 "nbformat_minor": 2
}
